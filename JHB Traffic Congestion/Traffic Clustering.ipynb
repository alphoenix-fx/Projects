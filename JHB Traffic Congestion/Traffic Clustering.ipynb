{
 "cells": [
  {
   "cell_type": "code",
   "execution_count": 164,
   "metadata": {},
   "outputs": [
    {
     "data": {
      "text/html": [
       "        <script type=\"text/javascript\">\n",
       "        window.PlotlyConfig = {MathJaxConfig: 'local'};\n",
       "        if (window.MathJax) {MathJax.Hub.Config({SVG: {font: \"STIX-Web\"}});}\n",
       "        if (typeof require !== 'undefined') {\n",
       "        require.undef(\"plotly\");\n",
       "        requirejs.config({\n",
       "            paths: {\n",
       "                'plotly': ['https://cdn.plot.ly/plotly-latest.min']\n",
       "            }\n",
       "        });\n",
       "        require(['plotly'], function(Plotly) {\n",
       "            window._Plotly = Plotly;\n",
       "        });\n",
       "        }\n",
       "        </script>\n",
       "        "
      ]
     },
     "metadata": {},
     "output_type": "display_data"
    }
   ],
   "source": [
    "import numpy as np\n",
    "import pandas as pd\n",
    "from matplotlib import pyplot as plt\n",
    "import datetime\n",
    "import seaborn as sns\n",
    "# !pip install -q cufflinks  \n",
    "import cufflinks as cf\n",
    "import plotly.graph_objs as go\n",
    "from plotly.offline import download_plotlyjs, init_notebook_mode, plot, iplot\n",
    "init_notebook_mode(connected=True)"
   ]
  },
  {
   "cell_type": "code",
   "execution_count": 165,
   "metadata": {},
   "outputs": [
    {
     "data": {
      "text/html": [
       "<div>\n",
       "<style scoped>\n",
       "    .dataframe tbody tr th:only-of-type {\n",
       "        vertical-align: middle;\n",
       "    }\n",
       "\n",
       "    .dataframe tbody tr th {\n",
       "        vertical-align: top;\n",
       "    }\n",
       "\n",
       "    .dataframe thead th {\n",
       "        text-align: right;\n",
       "    }\n",
       "</style>\n",
       "<table border=\"1\" class=\"dataframe\">\n",
       "  <thead>\n",
       "    <tr style=\"text-align: right;\">\n",
       "      <th></th>\n",
       "      <th>Unnamed: 0</th>\n",
       "      <th>day</th>\n",
       "      <th>hour</th>\n",
       "      <th>start_gantry</th>\n",
       "      <th>gantry</th>\n",
       "      <th>count</th>\n",
       "      <th>mean</th>\n",
       "      <th>median</th>\n",
       "      <th>prec80</th>\n",
       "      <th>std</th>\n",
       "    </tr>\n",
       "  </thead>\n",
       "  <tbody>\n",
       "    <tr>\n",
       "      <th>0</th>\n",
       "      <td>0</td>\n",
       "      <td>1.0</td>\n",
       "      <td>7.0</td>\n",
       "      <td>1001.0</td>\n",
       "      <td>1002.0</td>\n",
       "      <td>2.0</td>\n",
       "      <td>6.713848</td>\n",
       "      <td>6.713848</td>\n",
       "      <td>7.717085</td>\n",
       "      <td>2.364652</td>\n",
       "    </tr>\n",
       "    <tr>\n",
       "      <th>1</th>\n",
       "      <td>1</td>\n",
       "      <td>1.0</td>\n",
       "      <td>8.0</td>\n",
       "      <td>1001.0</td>\n",
       "      <td>1002.0</td>\n",
       "      <td>1.0</td>\n",
       "      <td>5.130874</td>\n",
       "      <td>5.130874</td>\n",
       "      <td>5.130874</td>\n",
       "      <td>NaN</td>\n",
       "    </tr>\n",
       "    <tr>\n",
       "      <th>2</th>\n",
       "      <td>2</td>\n",
       "      <td>1.0</td>\n",
       "      <td>9.0</td>\n",
       "      <td>1001.0</td>\n",
       "      <td>1002.0</td>\n",
       "      <td>7.0</td>\n",
       "      <td>27.059633</td>\n",
       "      <td>5.502707</td>\n",
       "      <td>7.413323</td>\n",
       "      <td>57.440661</td>\n",
       "    </tr>\n",
       "    <tr>\n",
       "      <th>3</th>\n",
       "      <td>3</td>\n",
       "      <td>1.0</td>\n",
       "      <td>10.0</td>\n",
       "      <td>1001.0</td>\n",
       "      <td>1002.0</td>\n",
       "      <td>4.0</td>\n",
       "      <td>6.420032</td>\n",
       "      <td>6.321328</td>\n",
       "      <td>8.042623</td>\n",
       "      <td>2.192687</td>\n",
       "    </tr>\n",
       "    <tr>\n",
       "      <th>4</th>\n",
       "      <td>4</td>\n",
       "      <td>1.0</td>\n",
       "      <td>11.0</td>\n",
       "      <td>1001.0</td>\n",
       "      <td>1002.0</td>\n",
       "      <td>1.0</td>\n",
       "      <td>3.850211</td>\n",
       "      <td>3.850211</td>\n",
       "      <td>3.850211</td>\n",
       "      <td>NaN</td>\n",
       "    </tr>\n",
       "  </tbody>\n",
       "</table>\n",
       "</div>"
      ],
      "text/plain": [
       "   Unnamed: 0  day  hour  start_gantry  gantry  count       mean    median  \\\n",
       "0           0  1.0   7.0        1001.0  1002.0    2.0   6.713848  6.713848   \n",
       "1           1  1.0   8.0        1001.0  1002.0    1.0   5.130874  5.130874   \n",
       "2           2  1.0   9.0        1001.0  1002.0    7.0  27.059633  5.502707   \n",
       "3           3  1.0  10.0        1001.0  1002.0    4.0   6.420032  6.321328   \n",
       "4           4  1.0  11.0        1001.0  1002.0    1.0   3.850211  3.850211   \n",
       "\n",
       "     prec80        std  \n",
       "0  7.717085   2.364652  \n",
       "1  5.130874        NaN  \n",
       "2  7.413323  57.440661  \n",
       "3  8.042623   2.192687  \n",
       "4  3.850211        NaN  "
      ]
     },
     "execution_count": 165,
     "metadata": {},
     "output_type": "execute_result"
    }
   ],
   "source": [
    "all_vel_agg = pd.read_csv('/../edsa-traffic/SANRAL/all_vel_agg.csv')\n",
    "all_vel_agg.head()"
   ]
  },
  {
   "cell_type": "code",
   "execution_count": 166,
   "metadata": {},
   "outputs": [
    {
     "data": {
      "text/plain": [
       "array([[ 11.94106412,  30.43437926],\n",
       "       [ 12.0807149 , 231.6707985 ],\n",
       "       [ 11.99134449, 187.16176188],\n",
       "       [ 12.11863986, 123.34499876],\n",
       "       [ 12.00202371, 149.60769008]])"
      ]
     },
     "execution_count": 166,
     "metadata": {},
     "output_type": "execute_result"
    }
   ],
   "source": [
    "df = all_vel_agg.groupby('gantry')[['hour','count']].mean()\n",
    "\n",
    "X = df.values\n",
    "\n",
    "X[0:5]"
   ]
  },
  {
   "cell_type": "code",
   "execution_count": 167,
   "metadata": {},
   "outputs": [],
   "source": [
    "# Feature Standardisation\n",
    "from sklearn.preprocessing import StandardScaler\n",
    "sc_X = StandardScaler()\n",
    "X = sc_X.fit_transform(X)"
   ]
  },
  {
   "cell_type": "code",
   "execution_count": 168,
   "metadata": {},
   "outputs": [
    {
     "data": {
      "text/plain": [
       "array([[-0.76595872, -1.68940311],\n",
       "       [ 0.21086302,  2.19284455],\n",
       "       [-0.41426031,  1.3341774 ],\n",
       "       [ 0.47613847,  0.1030261 ],\n",
       "       [-0.33956191,  0.60968524]])"
      ]
     },
     "execution_count": 168,
     "metadata": {},
     "output_type": "execute_result"
    }
   ],
   "source": [
    "X[0:5]"
   ]
  },
  {
   "cell_type": "code",
   "execution_count": 169,
   "metadata": {},
   "outputs": [
    {
     "data": {
      "image/png": "[encoded data removed]",
      "text/plain": [
       "<Figure size 432x288 with 1 Axes>"
      ]
     },
     "metadata": {},
     "output_type": "display_data"
    }
   ],
   "source": [
    "from sklearn.cluster import KMeans\n",
    "\n",
    "wcss = []\n",
    "for i in range(1, 11):\n",
    "  kmeans = KMeans(n_clusters=i,init='k-means++', random_state = 42)\n",
    "  kmeans.fit(X)\n",
    "  wcss.append(kmeans.inertia_)\n",
    "\n",
    "# plot the WCSS\n",
    "plt.plot(range(1, 11), wcss)\n",
    "plt.title('The Elbow Method')\n",
    "plt.xlabel('Number of clusters')\n",
    "plt.ylabel('WCSS')\n",
    "plt.show()"
   ]
  },
  {
   "cell_type": "code",
   "execution_count": 170,
   "metadata": {},
   "outputs": [],
   "source": [
    "# Fitting K-Means to the dataset\n",
    "kmeans = KMeans(n_clusters = 3, init = 'k-means++', random_state = 42)\n",
    "y_kmeans = kmeans.fit_predict(X)"
   ]
  },
  {
   "cell_type": "code",
   "execution_count": 171,
   "metadata": {},
   "outputs": [
    {
     "data": {
      "text/plain": [
       "array([2, 0, 0, 0, 0, 0, 0, 0, 0, 0, 0, 0, 1, 0, 1, 2, 1, 0, 0, 0, 1, 1,\n",
       "       0, 1, 2, 0, 1, 0, 1, 0, 1, 1, 1, 2, 1, 0, 0, 2, 0, 2, 2, 2, 2],\n",
       "      dtype=int32)"
      ]
     },
     "execution_count": 171,
     "metadata": {},
     "output_type": "execute_result"
    }
   ],
   "source": [
    "y_kmeans"
   ]
  },
  {
   "cell_type": "code",
   "execution_count": 172,
   "metadata": {},
   "outputs": [
    {
     "data": {
      "image/png": "[encoded data removed]",
      "text/plain": [
       "<Figure size 720x576 with 1 Axes>"
      ]
     },
     "metadata": {},
     "output_type": "display_data"
    }
   ],
   "source": [
    "# Visualising the clusters\n",
    "plt.figure(figsize=(10,8))\n",
    "ax = sns.scatterplot(X[y_kmeans == 0, 0], X[y_kmeans == 0, 1],sizes=(300,300),size=100,legend=False, color = 'red', label = 'Group 1')\n",
    "ax1 = sns.scatterplot(X[y_kmeans == 1, 0], X[y_kmeans == 1, 1],sizes=(300,300), size = 100,legend=False, color = 'blue', label = 'Group 2')\n",
    "ax2 = sns.scatterplot(X[y_kmeans == 2, 0], X[y_kmeans == 2, 1],sizes=(300,300), size = 100,legend=False, color = 'green', label = 'Group 3')\n",
    "ax2 = sns.scatterplot(kmeans.cluster_centers_[:, 0], kmeans.cluster_centers_[:, 1],sizes=(500,500),legend=False, size = 300, color = 'black', label = 'Centroids')\n",
    "plt.xlabel('Time in hours')\n",
    "plt.ylabel('Number of Vehicles')\n",
    "sns.despine(left=True)\n",
    "plt.legend()\n",
    "plt.show()"
   ]
  },
  {
   "cell_type": "code",
   "execution_count": 173,
   "metadata": {},
   "outputs": [],
   "source": [
    "#  !pip install --upgrade networkx "
   ]
  },
  {
   "cell_type": "code",
   "execution_count": 174,
   "metadata": {},
   "outputs": [],
   "source": [
    "# # !pip install hdbscan\n",
    "# import hdbscan\n",
    "\n",
    "# labels = hdbscan.HDBSCAN().fit_predict(X)"
   ]
  },
  {
   "cell_type": "code",
   "execution_count": 175,
   "metadata": {},
   "outputs": [],
   "source": [
    "# labels"
   ]
  },
  {
   "cell_type": "code",
   "execution_count": 176,
   "metadata": {},
   "outputs": [],
   "source": [
    "# clustered = (labels >= 0)\n",
    "# plt.scatter(X[~clustered, 0],\n",
    "#             X[~clustered, 1],\n",
    "# #            c=labels[clustered],\n",
    "#             s=30,\n",
    "#             )\n",
    "# plt.scatter(X[clustered, 0],\n",
    "#             X[clustered, 1],\n",
    "            \n",
    "#             s=30,\n",
    "#             color ='red');"
   ]
  },
  {
   "cell_type": "code",
   "execution_count": 177,
   "metadata": {},
   "outputs": [],
   "source": [
    "#Importing SANRAL the data\n",
    "all_cars_agg = pd.read_csv('/../edsa-traffic/SANRAL/all_cars_agg.csv')\n",
    "all_cars_agg.head()\n",
    "cars_cols = ['vehicle', 'Unnamed: 0','Unnamed: 0.1', 'distance','velocity_min',\n",
    "             'velocity_max', 'velocity_std', 'hour_min','hour_std', 'distance_max', 'distance_min','distance_std']"
   ]
  },
  {
   "cell_type": "code",
   "execution_count": 178,
   "metadata": {},
   "outputs": [],
   "source": [
    "all_vel_agg = pd.read_csv('/../edsa-traffic/SANRAL/all_vel_agg.csv')\n",
    "df_agg_counts = pd.read_csv('/../edsa-traffic/SANRAL/df_agg_counts.csv')\n",
    "gantry_locations = pd.read_csv('/../edsa-traffic/SANRAL/gantry_locations.csv')\n"
   ]
  },
  {
   "cell_type": "code",
   "execution_count": 179,
   "metadata": {},
   "outputs": [],
   "source": [
    "all_cars_agg.drop(cars_cols,axis=1,inplace=True)\n",
    "all_cars_agg['speed'] = all_cars_agg['hour']*all_cars_agg['velocity']\n",
    "all_cars_agg['distance'] = all_cars_agg['hour']*all_cars_agg['speed']\n"
   ]
  },
  {
   "cell_type": "code",
   "execution_count": 180,
   "metadata": {},
   "outputs": [
    {
     "data": {
      "text/html": [
       "<div>\n",
       "<style scoped>\n",
       "    .dataframe tbody tr th:only-of-type {\n",
       "        vertical-align: middle;\n",
       "    }\n",
       "\n",
       "    .dataframe tbody tr th {\n",
       "        vertical-align: top;\n",
       "    }\n",
       "\n",
       "    .dataframe thead th {\n",
       "        text-align: right;\n",
       "    }\n",
       "</style>\n",
       "<table border=\"1\" class=\"dataframe\">\n",
       "  <thead>\n",
       "    <tr style=\"text-align: right;\">\n",
       "      <th></th>\n",
       "      <th>time</th>\n",
       "      <th>gantry</th>\n",
       "      <th>class</th>\n",
       "      <th>start_gantry</th>\n",
       "      <th>duration</th>\n",
       "      <th>same_vehicle_flag</th>\n",
       "      <th>velocity</th>\n",
       "      <th>hour</th>\n",
       "      <th>velocity_mean</th>\n",
       "      <th>speed</th>\n",
       "      <th>distance</th>\n",
       "      <th>actual_time</th>\n",
       "    </tr>\n",
       "  </thead>\n",
       "  <tbody>\n",
       "    <tr>\n",
       "      <th>0</th>\n",
       "      <td>2014-10-01 07:29:10</td>\n",
       "      <td>1021</td>\n",
       "      <td>2</td>\n",
       "      <td>1021</td>\n",
       "      <td>13.314815</td>\n",
       "      <td>True</td>\n",
       "      <td>1.581972</td>\n",
       "      <td>7</td>\n",
       "      <td>72.310135</td>\n",
       "      <td>11.073803</td>\n",
       "      <td>77.516620</td>\n",
       "      <td>07:29:10</td>\n",
       "    </tr>\n",
       "    <tr>\n",
       "      <th>1</th>\n",
       "      <td>2014-10-01 19:04:03</td>\n",
       "      <td>1008</td>\n",
       "      <td>2</td>\n",
       "      <td>1008</td>\n",
       "      <td>13.833333</td>\n",
       "      <td>True</td>\n",
       "      <td>1.040171</td>\n",
       "      <td>19</td>\n",
       "      <td>63.792628</td>\n",
       "      <td>19.763258</td>\n",
       "      <td>375.501911</td>\n",
       "      <td>19:04:03</td>\n",
       "    </tr>\n",
       "    <tr>\n",
       "      <th>2</th>\n",
       "      <td>2014-10-01 11:06:00</td>\n",
       "      <td>1044</td>\n",
       "      <td>3</td>\n",
       "      <td>1032</td>\n",
       "      <td>11.925926</td>\n",
       "      <td>True</td>\n",
       "      <td>55.942446</td>\n",
       "      <td>11</td>\n",
       "      <td>58.798236</td>\n",
       "      <td>615.366906</td>\n",
       "      <td>6769.035971</td>\n",
       "      <td>11:06:00</td>\n",
       "    </tr>\n",
       "    <tr>\n",
       "      <th>3</th>\n",
       "      <td>2014-10-01 10:02:23</td>\n",
       "      <td>1008</td>\n",
       "      <td>2</td>\n",
       "      <td>1008</td>\n",
       "      <td>12.481481</td>\n",
       "      <td>True</td>\n",
       "      <td>1.609318</td>\n",
       "      <td>10</td>\n",
       "      <td>79.815129</td>\n",
       "      <td>16.093184</td>\n",
       "      <td>160.931843</td>\n",
       "      <td>10:02:23</td>\n",
       "    </tr>\n",
       "    <tr>\n",
       "      <th>4</th>\n",
       "      <td>2014-10-01 18:06:45</td>\n",
       "      <td>1003</td>\n",
       "      <td>2</td>\n",
       "      <td>1002</td>\n",
       "      <td>11.277778</td>\n",
       "      <td>True</td>\n",
       "      <td>2.301399</td>\n",
       "      <td>18</td>\n",
       "      <td>72.962751</td>\n",
       "      <td>41.425182</td>\n",
       "      <td>745.653267</td>\n",
       "      <td>18:06:45</td>\n",
       "    </tr>\n",
       "  </tbody>\n",
       "</table>\n",
       "</div>"
      ],
      "text/plain": [
       "                  time  gantry  class  start_gantry   duration  \\\n",
       "0  2014-10-01 07:29:10    1021      2          1021  13.314815   \n",
       "1  2014-10-01 19:04:03    1008      2          1008  13.833333   \n",
       "2  2014-10-01 11:06:00    1044      3          1032  11.925926   \n",
       "3  2014-10-01 10:02:23    1008      2          1008  12.481481   \n",
       "4  2014-10-01 18:06:45    1003      2          1002  11.277778   \n",
       "\n",
       "   same_vehicle_flag   velocity  hour  velocity_mean       speed     distance  \\\n",
       "0               True   1.581972     7      72.310135   11.073803    77.516620   \n",
       "1               True   1.040171    19      63.792628   19.763258   375.501911   \n",
       "2               True  55.942446    11      58.798236  615.366906  6769.035971   \n",
       "3               True   1.609318    10      79.815129   16.093184   160.931843   \n",
       "4               True   2.301399    18      72.962751   41.425182   745.653267   \n",
       "\n",
       "  actual_time  \n",
       "0    07:29:10  \n",
       "1    19:04:03  \n",
       "2    11:06:00  \n",
       "3    10:02:23  \n",
       "4    18:06:45  "
      ]
     },
     "execution_count": 180,
     "metadata": {},
     "output_type": "execute_result"
    }
   ],
   "source": [
    "all_cars_agg['duration'] = all_cars_agg['hour_mean'] \n",
    "c_cols = ['distance_mean', 'hour_mean', 'hour_max']\n",
    "all_cars_agg.drop(c_cols,axis=1,inplace=True)\n",
    "all_cars_agg['actual_time'] = pd.to_datetime(all_cars_agg['time']).dt.time\n",
    "all_cars_agg.head()"
   ]
  },
  {
   "cell_type": "markdown",
   "metadata": {},
   "source": [
    "- speed and time"
   ]
  },
  {
   "cell_type": "code",
   "execution_count": 181,
   "metadata": {},
   "outputs": [
    {
     "data": {
      "text/plain": [
       "array([[  9.85460496,  53.24407108],\n",
       "       [  9.47081353, 443.88938463],\n",
       "       [ 10.95507141, 562.25111112],\n",
       "       [  9.32443187, 361.21226283],\n",
       "       [ 10.64521526, 330.58351407]])"
      ]
     },
     "execution_count": 181,
     "metadata": {},
     "output_type": "execute_result"
    }
   ],
   "source": [
    "df = all_cars_agg.groupby('gantry')[['hour','speed']].mean()\n",
    "\n",
    "X = df.values\n",
    "\n",
    "X[0:5]"
   ]
  },
  {
   "cell_type": "code",
   "execution_count": 182,
   "metadata": {},
   "outputs": [
    {
     "data": {
      "text/plain": [
       "array([[-0.84246315, -2.29965468],\n",
       "       [-1.16875057, -0.33099278],\n",
       "       [ 0.09311887,  0.2654926 ],\n",
       "       [-1.29319966, -0.74764516],\n",
       "       [-0.1703111 , -0.90199912]])"
      ]
     },
     "execution_count": 182,
     "metadata": {},
     "output_type": "execute_result"
    }
   ],
   "source": [
    "# Feature Standardisation\n",
    "from sklearn.preprocessing import StandardScaler\n",
    "sc_X = StandardScaler()\n",
    "X = sc_X.fit_transform(X)\n",
    "X[0:5]"
   ]
  },
  {
   "cell_type": "code",
   "execution_count": 183,
   "metadata": {},
   "outputs": [
    {
     "data": {
      "image/png": "[encoded data removed]",
      "text/plain": [
       "<Figure size 432x288 with 1 Axes>"
      ]
     },
     "metadata": {},
     "output_type": "display_data"
    }
   ],
   "source": [
    "from sklearn.cluster import KMeans\n",
    "\n",
    "wcss = []\n",
    "for i in range(1, 11):\n",
    "  kmeans = KMeans(n_clusters=i,init='k-means++', random_state = 42)\n",
    "  kmeans.fit(X)\n",
    "  wcss.append(kmeans.inertia_)\n",
    "\n",
    "# plot the WCSS\n",
    "plt.plot(range(1, 11), wcss)\n",
    "plt.title('The Elbow Method')\n",
    "plt.xlabel('Number of clusters')\n",
    "plt.ylabel('WCSS')\n",
    "plt.show()"
   ]
  },
  {
   "cell_type": "code",
   "execution_count": 184,
   "metadata": {},
   "outputs": [
    {
     "data": {
      "text/plain": [
       "array([1, 1, 0, 1, 1, 1, 0, 1, 1, 1, 1, 1, 0, 1, 0, 1, 1, 0, 1, 0, 1, 1,\n",
       "       0, 0, 1, 0, 0, 0, 1, 0, 0, 1, 0, 1, 0, 0, 1, 1, 0, 0, 0, 0, 1],\n",
       "      dtype=int32)"
      ]
     },
     "execution_count": 184,
     "metadata": {},
     "output_type": "execute_result"
    }
   ],
   "source": [
    "# Fitting K-Means to the dataset\n",
    "kmeans = KMeans(n_clusters = 2, init = 'k-means++', random_state = 42)\n",
    "y_kmeans = kmeans.fit_predict(X)\n",
    "y_kmeans"
   ]
  },
  {
   "cell_type": "code",
   "execution_count": 185,
   "metadata": {},
   "outputs": [
    {
     "data": {
      "image/png": "[encoded data removed]",
      "text/plain": [
       "<Figure size 720x576 with 1 Axes>"
      ]
     },
     "metadata": {},
     "output_type": "display_data"
    }
   ],
   "source": [
    "# Visualising the clusters\n",
    "plt.figure(figsize=(10,8))\n",
    "ax = sns.scatterplot(X[y_kmeans == 0, 0], X[y_kmeans == 0, 1],sizes=(300,300),size=100,legend=False, color = 'orange', label = 'Fast/Late')\n",
    "ax1 = sns.scatterplot(X[y_kmeans == 1, 0], X[y_kmeans == 1, 1],sizes=(300,300), size = 100,legend=False, color = 'lightblue', label = 'Slow/Early')\n",
    "# ax2 = sns.scatterplot(X[y_kmeans == 2, 0], X[y_kmeans == 2, 1],sizes=(300,300), size = 100,legend=False, color = 'green', label = 'Cluster 3')\n",
    "ax2 = sns.scatterplot(kmeans.cluster_centers_[:, 0], kmeans.cluster_centers_[:, 1],sizes=(500,500),legend=False, size = 300, color = 'black', label = 'Centroid')\n",
    "plt.xlabel('Time in hours')\n",
    "plt.ylabel('Speed')\n",
    "sns.despine(left=True)\n",
    "plt.legend()\n",
    "plt.show()"
   ]
  },
  {
   "cell_type": "markdown",
   "metadata": {},
   "source": [
    "- speed and distance"
   ]
  },
  {
   "cell_type": "code",
   "execution_count": 186,
   "metadata": {},
   "outputs": [
    {
     "data": {
      "text/plain": [
       "array([[   9.85460496,  608.46496451],\n",
       "       [   9.47081353, 5182.26307326],\n",
       "       [  10.95507141, 7438.25251962],\n",
       "       [   9.32443187, 4028.87662746],\n",
       "       [  10.64521526, 4367.86561151]])"
      ]
     },
     "execution_count": 186,
     "metadata": {},
     "output_type": "execute_result"
    }
   ],
   "source": [
    "df = all_cars_agg.groupby('gantry')[['hour','distance']].mean()\n",
    "\n",
    "X = df.values\n",
    "\n",
    "X[0:5]"
   ]
  },
  {
   "cell_type": "code",
   "execution_count": 187,
   "metadata": {},
   "outputs": [
    {
     "data": {
      "text/plain": [
       "array([[-0.84246315, -1.99035169],\n",
       "       [-1.16875057, -0.51610276],\n",
       "       [ 0.09311887,  0.21105876],\n",
       "       [-1.29319966, -0.88786791],\n",
       "       [-0.1703111 , -0.77860333]])"
      ]
     },
     "execution_count": 187,
     "metadata": {},
     "output_type": "execute_result"
    }
   ],
   "source": [
    "# Feature Standardisation\n",
    "from sklearn.preprocessing import StandardScaler\n",
    "sc_X = StandardScaler()\n",
    "X = sc_X.fit_transform(X)\n",
    "X[0:5]"
   ]
  },
  {
   "cell_type": "code",
   "execution_count": 188,
   "metadata": {},
   "outputs": [
    {
     "data": {
      "image/png": "[encoded data removed]",
      "text/plain": [
       "<Figure size 432x288 with 1 Axes>"
      ]
     },
     "metadata": {},
     "output_type": "display_data"
    }
   ],
   "source": [
    "from sklearn.cluster import KMeans\n",
    "\n",
    "wcss = []\n",
    "for i in range(1, 11):\n",
    "  kmeans = KMeans(n_clusters=i,init='k-means++', random_state = 42)\n",
    "  kmeans.fit(X)\n",
    "  wcss.append(kmeans.inertia_)\n",
    "\n",
    "# plot the WCSS\n",
    "plt.plot(range(1, 11), wcss)\n",
    "plt.title('The Elbow Method')\n",
    "plt.xlabel('Number of clusters')\n",
    "plt.ylabel('WCSS')\n",
    "plt.show()"
   ]
  },
  {
   "cell_type": "code",
   "execution_count": 189,
   "metadata": {},
   "outputs": [
    {
     "data": {
      "text/plain": [
       "array([1, 1, 0, 1, 1, 1, 0, 1, 1, 1, 1, 1, 0, 1, 0, 1, 1, 0, 1, 0, 1, 1,\n",
       "       0, 0, 1, 0, 0, 0, 1, 0, 0, 1, 0, 1, 0, 0, 1, 1, 0, 0, 0, 0, 1],\n",
       "      dtype=int32)"
      ]
     },
     "execution_count": 189,
     "metadata": {},
     "output_type": "execute_result"
    }
   ],
   "source": [
    "# Fitting K-Means to the dataset\n",
    "kmeans = KMeans(n_clusters = 2, init = 'k-means++', random_state = 42)\n",
    "y_kmeans = kmeans.fit_predict(X)\n",
    "y_kmeans"
   ]
  },
  {
   "cell_type": "code",
   "execution_count": 190,
   "metadata": {},
   "outputs": [
    {
     "data": {
      "image/png": "[encoded data removed]",
      "text/plain": [
       "<Figure size 720x576 with 1 Axes>"
      ]
     },
     "metadata": {},
     "output_type": "display_data"
    }
   ],
   "source": [
    "# Visualising the clusters\n",
    "plt.figure(figsize=(10,8))\n",
    "ax = sns.scatterplot(X[y_kmeans == 0, 0], X[y_kmeans == 0, 1],sizes=(300,300),size=100,legend=False, label = 'Long/Late')\n",
    "ax1 = sns.scatterplot(X[y_kmeans == 1, 0], X[y_kmeans == 1, 1],sizes=(300,300), size = 100,legend=False, color = 'lightgreen', label = 'Short/Early')\n",
    "# ax2 = sns.scatterplot(X[y_kmeans == 2, 0], X[y_kmeans == 2, 1],sizes=(300,300), size = 100,legend=False, color = 'green', label = 'Cluster 3')\n",
    "ax2 = sns.scatterplot(kmeans.cluster_centers_[:, 0], kmeans.cluster_centers_[:, 1],sizes=(500,500),legend=False, size = 300, color = 'black', label = 'Centroid')\n",
    "plt.xlabel('Time in hours')\n",
    "plt.ylabel('Distance')\n",
    "sns.despine(left=True)\n",
    "plt.legend()\n",
    "plt.show()"
   ]
  }
 ],
 "metadata": {
  "kernelspec": {
   "display_name": "Python 3",
   "language": "python",
   "name": "python3"
  },
  "language_info": {
   "codemirror_mode": {
    "name": "ipython",
    "version": 3
   },
   "file_extension": ".py",
   "mimetype": "text/x-python",
   "name": "python",
   "nbconvert_exporter": "python",
   "pygments_lexer": "ipython3",
   "version": "3.6.7"
  }
 },
 "nbformat": 4,
 "nbformat_minor": 2
}
