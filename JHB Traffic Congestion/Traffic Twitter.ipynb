{
 "cells": [
  {
   "cell_type": "markdown",
   "metadata": {},
   "source": [
    "# Twitter Insights"
   ]
  },
  {
   "cell_type": "code",
   "execution_count": 1,
   "metadata": {},
   "outputs": [],
   "source": [
    "# !pip install -q textblob\n",
    "# !pip install -q wordcloud\n",
    "# !pip install -q pyLDAvis\n",
    "# !pip install -q gensim\n",
    "# !pip install -q UMAP\n",
    "import gensim\n",
    "from nltk.stem.wordnet import WordNetLemmatizer \n",
    "from nltk.corpus import stopwords\n",
    "import numpy as np\n",
    "import pandas as pd\n",
    "from matplotlib import pyplot as plt\n",
    "import datetime\n",
    "import seaborn as sns\n",
    "from textblob import TextBlob\n",
    "import re\n",
    "import nltk\n",
    "from wordcloud import WordCloud\n",
    "from nltk.corpus import stopwords\n",
    "from nltk.stem.wordnet import WordNetLemmatizer \n",
    "from nltk.stem.porter import PorterStemmer\n",
    "from nltk.corpus import stopwords\n",
    "import pyLDAvis\n",
    "import pyLDAvis.gensim\n",
    "import warnings\n",
    "warnings.filterwarnings('ignore')\n",
    "%matplotlib inline\n"
   ]
  },
  {
   "cell_type": "code",
   "execution_count": 2,
   "metadata": {},
   "outputs": [],
   "source": [
    "# nltk.download('all')\n",
    "# pd.set_option(\"display.max_colwidth\", 200)"
   ]
  },
  {
   "cell_type": "code",
   "execution_count": 3,
   "metadata": {},
   "outputs": [
    {
     "name": "stdout",
     "output_type": "stream",
     "text": [
      "anaconda3\t\t   TrafficAndCongestion2(1).ipynb\r\n",
      "Clustering Examples.ipynb  TrafficAndCongestion2.ipynb\r\n",
      "Finding Routes.ipynb\t   TrafficAndCongestion3.ipynb\r\n",
      "nltk_data\t\t   TrafficAndCongestion.ipynb\r\n",
      "s3fs-fuse\r\n"
     ]
    }
   ],
   "source": [
    "! ls /../home/explore/"
   ]
  },
  {
   "cell_type": "code",
   "execution_count": 4,
   "metadata": {},
   "outputs": [
    {
     "name": "stdout",
     "output_type": "stream",
     "text": [
      "SANRAL\tTwitter\r\n"
     ]
    }
   ],
   "source": [
    "! ls /../edsa-traffic"
   ]
  },
  {
   "cell_type": "code",
   "execution_count": 5,
   "metadata": {},
   "outputs": [
    {
     "name": "stdout",
     "output_type": "stream",
     "text": [
      "all_cars_agg.csv  all_vel_agg.csv  df_agg_counts.csv  gantry_locations.csv  raw\r\n"
     ]
    }
   ],
   "source": [
    "! ls /../edsa-traffic/SANRAL"
   ]
  },
  {
   "cell_type": "code",
   "execution_count": 6,
   "metadata": {},
   "outputs": [
    {
     "name": "stdout",
     "output_type": "stream",
     "text": [
      "ewntraffic.csv\r\n"
     ]
    }
   ],
   "source": [
    "! ls /../edsa-traffic/Twitter"
   ]
  },
  {
   "cell_type": "code",
   "execution_count": 7,
   "metadata": {
    "scrolled": true
   },
   "outputs": [],
   "source": [
    "# #Importing SANRAL the data\n",
    "# all_cars_agg = pd.read_csv('/../edsa-traffic/SANRAL/all_cars_agg.csv')\n",
    "# all_cars_agg.head()"
   ]
  },
  {
   "cell_type": "code",
   "execution_count": 8,
   "metadata": {},
   "outputs": [
    {
     "data": {
      "text/html": [
       "<div>\n",
       "<style scoped>\n",
       "    .dataframe tbody tr th:only-of-type {\n",
       "        vertical-align: middle;\n",
       "    }\n",
       "\n",
       "    .dataframe tbody tr th {\n",
       "        vertical-align: top;\n",
       "    }\n",
       "\n",
       "    .dataframe thead th {\n",
       "        text-align: right;\n",
       "    }\n",
       "</style>\n",
       "<table border=\"1\" class=\"dataframe\">\n",
       "  <thead>\n",
       "    <tr style=\"text-align: right;\">\n",
       "      <th></th>\n",
       "      <th>favorite_count</th>\n",
       "      <th>source</th>\n",
       "      <th>text</th>\n",
       "      <th>in_reply_to_screen_name</th>\n",
       "      <th>is_retweet</th>\n",
       "      <th>created_at</th>\n",
       "      <th>retweet_count</th>\n",
       "      <th>id_str</th>\n",
       "    </tr>\n",
       "  </thead>\n",
       "  <tbody>\n",
       "    <tr>\n",
       "      <th>0</th>\n",
       "      <td>1</td>\n",
       "      <td>Twitter Web Client</td>\n",
       "      <td>Reports of a shootout in Midrand on the N1 Nor...</td>\n",
       "      <td>NaN</td>\n",
       "      <td>False</td>\n",
       "      <td>Thu Oct 30 08:07:20 +0000 2014</td>\n",
       "      <td>6</td>\n",
       "      <td>527733476574134272</td>\n",
       "    </tr>\n",
       "    <tr>\n",
       "      <th>1</th>\n",
       "      <td>0</td>\n",
       "      <td>TweetDeck</td>\n",
       "      <td>#JHBtraffic - Lioghts OUT in City Deep at Heid...</td>\n",
       "      <td>NaN</td>\n",
       "      <td>False</td>\n",
       "      <td>Tue Oct 07 04:24:29 +0000 2014</td>\n",
       "      <td>2</td>\n",
       "      <td>519342475077763072</td>\n",
       "    </tr>\n",
       "    <tr>\n",
       "      <th>2</th>\n",
       "      <td>0</td>\n",
       "      <td>TweetDeck</td>\n",
       "      <td>#JHBtraffic Lights OUT in Booysens at Booysens...</td>\n",
       "      <td>NaN</td>\n",
       "      <td>False</td>\n",
       "      <td>Tue Oct 07 04:25:14 +0000 2014</td>\n",
       "      <td>1</td>\n",
       "      <td>519342664203132928</td>\n",
       "    </tr>\n",
       "    <tr>\n",
       "      <th>3</th>\n",
       "      <td>0</td>\n",
       "      <td>Twitter Web Client</td>\n",
       "      <td>#JHBTraffic remains very slow on the N1 North ...</td>\n",
       "      <td>NaN</td>\n",
       "      <td>False</td>\n",
       "      <td>Wed Oct 22 06:44:25 +0000 2014</td>\n",
       "      <td>1</td>\n",
       "      <td>524813509654478848</td>\n",
       "    </tr>\n",
       "    <tr>\n",
       "      <th>4</th>\n",
       "      <td>1</td>\n",
       "      <td>Twitter Web Client</td>\n",
       "      <td>#JHBTraffic RT @jhbnorthmedix: Cash in Transit...</td>\n",
       "      <td>NaN</td>\n",
       "      <td>False</td>\n",
       "      <td>Tue Oct 14 06:35:48 +0000 2014</td>\n",
       "      <td>2</td>\n",
       "      <td>521912238085767168</td>\n",
       "    </tr>\n",
       "  </tbody>\n",
       "</table>\n",
       "</div>"
      ],
      "text/plain": [
       "   favorite_count              source  \\\n",
       "0               1  Twitter Web Client   \n",
       "1               0           TweetDeck   \n",
       "2               0           TweetDeck   \n",
       "3               0  Twitter Web Client   \n",
       "4               1  Twitter Web Client   \n",
       "\n",
       "                                                text in_reply_to_screen_name  \\\n",
       "0  Reports of a shootout in Midrand on the N1 Nor...                     NaN   \n",
       "1  #JHBtraffic - Lioghts OUT in City Deep at Heid...                     NaN   \n",
       "2  #JHBtraffic Lights OUT in Booysens at Booysens...                     NaN   \n",
       "3  #JHBTraffic remains very slow on the N1 North ...                     NaN   \n",
       "4  #JHBTraffic RT @jhbnorthmedix: Cash in Transit...                     NaN   \n",
       "\n",
       "   is_retweet                      created_at  retweet_count  \\\n",
       "0       False  Thu Oct 30 08:07:20 +0000 2014              6   \n",
       "1       False  Tue Oct 07 04:24:29 +0000 2014              2   \n",
       "2       False  Tue Oct 07 04:25:14 +0000 2014              1   \n",
       "3       False  Wed Oct 22 06:44:25 +0000 2014              1   \n",
       "4       False  Tue Oct 14 06:35:48 +0000 2014              2   \n",
       "\n",
       "               id_str  \n",
       "0  527733476574134272  \n",
       "1  519342475077763072  \n",
       "2  519342664203132928  \n",
       "3  524813509654478848  \n",
       "4  521912238085767168  "
      ]
     },
     "execution_count": 8,
     "metadata": {},
     "output_type": "execute_result"
    }
   ],
   "source": [
    "#Importing Twitter the data\n",
    "df = pd.read_csv('/../edsa-traffic/Twitter/ewntraffic.csv')\n",
    "df.head()"
   ]
  },
  {
   "cell_type": "code",
   "execution_count": 9,
   "metadata": {},
   "outputs": [
    {
     "data": {
      "text/html": [
       "<div>\n",
       "<style scoped>\n",
       "    .dataframe tbody tr th:only-of-type {\n",
       "        vertical-align: middle;\n",
       "    }\n",
       "\n",
       "    .dataframe tbody tr th {\n",
       "        vertical-align: top;\n",
       "    }\n",
       "\n",
       "    .dataframe thead th {\n",
       "        text-align: right;\n",
       "    }\n",
       "</style>\n",
       "<table border=\"1\" class=\"dataframe\">\n",
       "  <thead>\n",
       "    <tr style=\"text-align: right;\">\n",
       "      <th></th>\n",
       "      <th>favorite_count</th>\n",
       "      <th>source</th>\n",
       "      <th>text</th>\n",
       "      <th>is_retweet</th>\n",
       "      <th>created_at</th>\n",
       "      <th>retweet_count</th>\n",
       "      <th>tweet_len</th>\n",
       "    </tr>\n",
       "  </thead>\n",
       "  <tbody>\n",
       "    <tr>\n",
       "      <th>0</th>\n",
       "      <td>1</td>\n",
       "      <td>Twitter Web Client</td>\n",
       "      <td>Reports of a shootout in Midrand on the N1 Nor...</td>\n",
       "      <td>False</td>\n",
       "      <td>2014-10-30 08:07:20+00:00</td>\n",
       "      <td>6</td>\n",
       "      <td>132</td>\n",
       "    </tr>\n",
       "    <tr>\n",
       "      <th>1</th>\n",
       "      <td>0</td>\n",
       "      <td>TweetDeck</td>\n",
       "      <td>#JHBtraffic - Lioghts OUT in City Deep at Heid...</td>\n",
       "      <td>False</td>\n",
       "      <td>2014-10-07 04:24:29+00:00</td>\n",
       "      <td>2</td>\n",
       "      <td>102</td>\n",
       "    </tr>\n",
       "    <tr>\n",
       "      <th>2</th>\n",
       "      <td>0</td>\n",
       "      <td>TweetDeck</td>\n",
       "      <td>#JHBtraffic Lights OUT in Booysens at Booysens...</td>\n",
       "      <td>False</td>\n",
       "      <td>2014-10-07 04:25:14+00:00</td>\n",
       "      <td>1</td>\n",
       "      <td>130</td>\n",
       "    </tr>\n",
       "    <tr>\n",
       "      <th>3</th>\n",
       "      <td>0</td>\n",
       "      <td>Twitter Web Client</td>\n",
       "      <td>#JHBTraffic remains very slow on the N1 North ...</td>\n",
       "      <td>False</td>\n",
       "      <td>2014-10-22 06:44:25+00:00</td>\n",
       "      <td>1</td>\n",
       "      <td>110</td>\n",
       "    </tr>\n",
       "    <tr>\n",
       "      <th>4</th>\n",
       "      <td>1</td>\n",
       "      <td>Twitter Web Client</td>\n",
       "      <td>#JHBTraffic RT @jhbnorthmedix: Cash in Transit...</td>\n",
       "      <td>False</td>\n",
       "      <td>2014-10-14 06:35:48+00:00</td>\n",
       "      <td>2</td>\n",
       "      <td>83</td>\n",
       "    </tr>\n",
       "  </tbody>\n",
       "</table>\n",
       "</div>"
      ],
      "text/plain": [
       "   favorite_count              source  \\\n",
       "0               1  Twitter Web Client   \n",
       "1               0           TweetDeck   \n",
       "2               0           TweetDeck   \n",
       "3               0  Twitter Web Client   \n",
       "4               1  Twitter Web Client   \n",
       "\n",
       "                                                text  is_retweet  \\\n",
       "0  Reports of a shootout in Midrand on the N1 Nor...       False   \n",
       "1  #JHBtraffic - Lioghts OUT in City Deep at Heid...       False   \n",
       "2  #JHBtraffic Lights OUT in Booysens at Booysens...       False   \n",
       "3  #JHBTraffic remains very slow on the N1 North ...       False   \n",
       "4  #JHBTraffic RT @jhbnorthmedix: Cash in Transit...       False   \n",
       "\n",
       "                 created_at  retweet_count  tweet_len  \n",
       "0 2014-10-30 08:07:20+00:00              6        132  \n",
       "1 2014-10-07 04:24:29+00:00              2        102  \n",
       "2 2014-10-07 04:25:14+00:00              1        130  \n",
       "3 2014-10-22 06:44:25+00:00              1        110  \n",
       "4 2014-10-14 06:35:48+00:00              2         83  "
      ]
     },
     "execution_count": 9,
     "metadata": {},
     "output_type": "execute_result"
    }
   ],
   "source": [
    "df.drop(['id_str','in_reply_to_screen_name'], axis=1, inplace=True)\n",
    "df['tweet_len'] = df.text.apply(lambda x:len(x))\n",
    "df['created_at'] = pd.to_datetime(df['created_at'])\n",
    "# df['created_at'] = df['created_at'].dt.strftime('%Y/%m/%d:%H')\n",
    "df.head()"
   ]
  },
  {
   "cell_type": "code",
   "execution_count": 10,
   "metadata": {},
   "outputs": [
    {
     "name": "stdout",
     "output_type": "stream",
     "text": [
      "116.0\n"
     ]
    }
   ],
   "source": [
    "# Get average length over all tweets:\n",
    "print(np.floor(np.mean(df['tweet_len'])))"
   ]
  },
  {
   "cell_type": "code",
   "execution_count": 11,
   "metadata": {},
   "outputs": [
    {
     "name": "stdout",
     "output_type": "stream",
     "text": [
      "27\n"
     ]
    }
   ],
   "source": [
    "# Get the number of likes for the most liked tweet:\n",
    "print(np.max(df['favorite_count']))"
   ]
  },
  {
   "cell_type": "code",
   "execution_count": 12,
   "metadata": {},
   "outputs": [
    {
     "name": "stdout",
     "output_type": "stream",
     "text": [
      "264\n"
     ]
    }
   ],
   "source": [
    "# Get the number of retweets for the most retweeted tweet:\n",
    "print(np.max(df['retweet_count']))"
   ]
  },
  {
   "cell_type": "markdown",
   "metadata": {},
   "source": [
    "# Time Series Patterns"
   ]
  },
  {
   "cell_type": "code",
   "execution_count": 13,
   "metadata": {},
   "outputs": [
    {
     "data": {
      "image/png": "[encoded data removed]",
      "text/plain": [
       "<Figure size 720x360 with 1 Axes>"
      ]
     },
     "metadata": {},
     "output_type": "display_data"
    }
   ],
   "source": [
    "# Time Series plot\n",
    "\n",
    "time_retweets = pd.Series(data=df['favorite_count'].values, index=df['created_at'])\n",
    "ax = time_retweets.plot(kind='area', figsize=(10, 5), color='g', title=\"Likes Overtime\")\n",
    "ax.set_ylabel('Likes')\n",
    "ax.set_xlabel('Date')\n",
    "sns.despine(left=True)\n",
    "plt.show()"
   ]
  },
  {
   "cell_type": "code",
   "execution_count": 14,
   "metadata": {},
   "outputs": [
    {
     "data": {
      "image/png": "[encoded data removed]",
      "text/plain": [
       "<Figure size 720x360 with 1 Axes>"
      ]
     },
     "metadata": {},
     "output_type": "display_data"
    }
   ],
   "source": [
    "# Time Series\n",
    "\n",
    "time_likes = pd.Series(data=df['retweet_count'].values, index=df['created_at'])\n",
    "ax = time_likes.plot(kind='area',figsize=(10, 5), title=\"Retweets Overtime\")\n",
    "ax.set_ylabel('Retweets')\n",
    "ax.set_xlabel('Date')\n",
    "sns.despine(left=True)\n",
    "plt.show()"
   ]
  },
  {
   "cell_type": "code",
   "execution_count": 15,
   "metadata": {},
   "outputs": [
    {
     "data": {
      "image/png": "[encoded data removed]",
      "text/plain": [
       "<Figure size 720x360 with 1 Axes>"
      ]
     },
     "metadata": {},
     "output_type": "display_data"
    }
   ],
   "source": [
    "time_likes = pd.Series(data=df[df['favorite_count'] < 20]['favorite_count'].values,\n",
    "                       index=df[df['favorite_count'] < 20]['created_at'])\n",
    "ax1 = time_likes.plot(kind='line',figsize=(10, 5), label=\"likes\", legend=True)\n",
    "\n",
    "time_likes = pd.Series(data=df[df['retweet_count'] < 20]['retweet_count'] .values,\n",
    "                       index=df[df['retweet_count'] < 20]['created_at'])\n",
    "ax = time_likes.plot(kind='line',figsize=(10, 5), label=\"Retweets\", legend=True, title=\"Likes and Retweets Overtime\")\n",
    "ax.set_xlabel('Date')\n",
    "sns.despine(left=True)\n",
    "plt.show()\n"
   ]
  },
  {
   "cell_type": "code",
   "execution_count": 16,
   "metadata": {},
   "outputs": [],
   "source": [
    "# sns.set_color_codes(palette='deep')\n",
    "# f, ax = plt.subplots(figsize=(16, 5))\n",
    "# sns.tsplot(data=df, time=\"created_at\", unit=\"text\",\n",
    "#            condition=\"source\", value=\"favorite_count\")\n",
    "# plt.show()"
   ]
  },
  {
   "cell_type": "code",
   "execution_count": 17,
   "metadata": {},
   "outputs": [
    {
     "data": {
      "text/plain": [
       "0.7890223517569557"
      ]
     },
     "execution_count": 17,
     "metadata": {},
     "output_type": "execute_result"
    }
   ],
   "source": [
    "df['retweet_count'].corr(df['favorite_count'])"
   ]
  },
  {
   "cell_type": "code",
   "execution_count": 18,
   "metadata": {},
   "outputs": [
    {
     "data": {
      "text/plain": [
       "1      387\n",
       "2      298\n",
       "0      226\n",
       "3      149\n",
       "4       75\n",
       "5       36\n",
       "6       15\n",
       "8        4\n",
       "7        4\n",
       "9        3\n",
       "17       2\n",
       "96       1\n",
       "11       1\n",
       "13       1\n",
       "16       1\n",
       "18       1\n",
       "19       1\n",
       "25       1\n",
       "36       1\n",
       "264      1\n",
       "Name: retweet_count, dtype: int64"
      ]
     },
     "execution_count": 18,
     "metadata": {},
     "output_type": "execute_result"
    }
   ],
   "source": [
    "df['retweet_count'].value_counts()"
   ]
  },
  {
   "cell_type": "code",
   "execution_count": 19,
   "metadata": {},
   "outputs": [
    {
     "data": {
      "text/plain": [
       "0     943\n",
       "1     214\n",
       "2      34\n",
       "3      10\n",
       "5       3\n",
       "4       3\n",
       "27      1\n",
       "Name: favorite_count, dtype: int64"
      ]
     },
     "execution_count": 19,
     "metadata": {},
     "output_type": "execute_result"
    }
   ],
   "source": [
    "df['favorite_count'].value_counts()"
   ]
  },
  {
   "cell_type": "code",
   "execution_count": 20,
   "metadata": {},
   "outputs": [
    {
     "data": {
      "text/plain": [
       "Twitter Web Client    982\n",
       "TweetDeck             207\n",
       "Twitter for iPad       11\n",
       "Twitter for iPhone      8\n",
       "Name: source, dtype: int64"
      ]
     },
     "execution_count": 20,
     "metadata": {},
     "output_type": "execute_result"
    }
   ],
   "source": [
    "df['source'].value_counts()"
   ]
  },
  {
   "cell_type": "code",
   "execution_count": 21,
   "metadata": {},
   "outputs": [],
   "source": [
    "\n",
    "# using regular expressions for dealing with special patterns of noise.\n",
    "def clean_tweet(tweet):\n",
    "    return ' '.join(re.sub(\"(@[A-Za-z0-9]+)|(#[A-Za-z0-9]+)|([^0-9A-Za-z \\t])|(\\w+:\\/\\/\\S+)|(RT)\", \" \", tweet).split())"
   ]
  },
  {
   "cell_type": "code",
   "execution_count": 22,
   "metadata": {},
   "outputs": [],
   "source": [
    "df['clean_tweets'] = df.text.apply(lambda x:clean_tweet(x))\n",
    "df.drop(['text','is_retweet'], axis=1, inplace=True)"
   ]
  },
  {
   "cell_type": "code",
   "execution_count": 23,
   "metadata": {},
   "outputs": [
    {
     "data": {
      "text/plain": [
       "592    AVOID HUGE delays Massive accident N12 East be...\n",
       "Name: clean_tweets, dtype: object"
      ]
     },
     "execution_count": 23,
     "metadata": {},
     "output_type": "execute_result"
    }
   ],
   "source": [
    "df[df['retweet_count'] == np.max(df['retweet_count'])]['clean_tweets']"
   ]
  },
  {
   "cell_type": "code",
   "execution_count": 24,
   "metadata": {},
   "outputs": [
    {
     "data": {
      "text/plain": [
       "592    AVOID HUGE delays Massive accident N12 East be...\n",
       "Name: clean_tweets, dtype: object"
      ]
     },
     "execution_count": 24,
     "metadata": {},
     "output_type": "execute_result"
    }
   ],
   "source": [
    "# Drill down\n",
    "df[df['favorite_count'] == np.max(df['favorite_count'])]['clean_tweets']"
   ]
  },
  {
   "cell_type": "code",
   "execution_count": 25,
   "metadata": {},
   "outputs": [
    {
     "name": "stdout",
     "output_type": "stream",
     "text": [
      "[nltk_data] Downloading package stopwords to\n",
      "[nltk_data]     /home/explore/nltk_data...\n",
      "[nltk_data]   Package stopwords is already up-to-date!\n"
     ]
    },
    {
     "data": {
      "text/plain": [
       "Text(0.5, 1.0, 'Most Frequent Words On Tweets')"
      ]
     },
     "execution_count": 25,
     "metadata": {},
     "output_type": "execute_result"
    },
    {
     "data": {
      "image/png": "[encoded data removed]",
      "text/plain": [
       "<Figure size 864x576 with 1 Axes>"
      ]
     },
     "metadata": {},
     "output_type": "display_data"
    }
   ],
   "source": [
    "# wordcloud of the most frequently used words\n",
    "nltk.download('stopwords')\n",
    "stop_wrds = set(stopwords.words('english'))                 \n",
    "fig, ax = plt.subplots(figsize=(12,8))\n",
    "wc = WordCloud(stopwords=stop_wrds)\n",
    "wordc = wc.generate(df['clean_tweets'].to_string())\n",
    "ax.imshow(wordc)\n",
    "ax.axis('off')\n",
    "ax.set_title(label='Most Frequent Words On Tweets',fontdict = {'fontsize': 20})\n",
    "    "
   ]
  },
  {
   "cell_type": "markdown",
   "metadata": {},
   "source": [
    "# Sentiment Analysis"
   ]
  },
  {
   "cell_type": "code",
   "execution_count": 26,
   "metadata": {},
   "outputs": [],
   "source": [
    "def analyze_sentiment(tweet):\n",
    "    analysis = TextBlob(clean_tweet(tweet))\n",
    "        \n",
    "    if analysis.sentiment.polarity > 0:\n",
    "        return 1\n",
    "    elif analysis.sentiment.polarity == -1:\n",
    "        return -1\n",
    "    else:\n",
    "        return -1"
   ]
  },
  {
   "cell_type": "code",
   "execution_count": 27,
   "metadata": {
    "scrolled": true
   },
   "outputs": [
    {
     "data": {
      "text/html": [
       "<div>\n",
       "<style scoped>\n",
       "    .dataframe tbody tr th:only-of-type {\n",
       "        vertical-align: middle;\n",
       "    }\n",
       "\n",
       "    .dataframe tbody tr th {\n",
       "        vertical-align: top;\n",
       "    }\n",
       "\n",
       "    .dataframe thead th {\n",
       "        text-align: right;\n",
       "    }\n",
       "</style>\n",
       "<table border=\"1\" class=\"dataframe\">\n",
       "  <thead>\n",
       "    <tr style=\"text-align: right;\">\n",
       "      <th></th>\n",
       "      <th>favorite_count</th>\n",
       "      <th>source</th>\n",
       "      <th>created_at</th>\n",
       "      <th>retweet_count</th>\n",
       "      <th>tweet_len</th>\n",
       "      <th>clean_tweets</th>\n",
       "      <th>tweet_sentiment</th>\n",
       "    </tr>\n",
       "  </thead>\n",
       "  <tbody>\n",
       "    <tr>\n",
       "      <th>0</th>\n",
       "      <td>1</td>\n",
       "      <td>Twitter Web Client</td>\n",
       "      <td>2014-10-30 08:07:20+00:00</td>\n",
       "      <td>6</td>\n",
       "      <td>132</td>\n",
       "      <td>Reports of a shootout in Midrand on the N1 Nor...</td>\n",
       "      <td>-1</td>\n",
       "    </tr>\n",
       "    <tr>\n",
       "      <th>1</th>\n",
       "      <td>0</td>\n",
       "      <td>TweetDeck</td>\n",
       "      <td>2014-10-07 04:24:29+00:00</td>\n",
       "      <td>2</td>\n",
       "      <td>102</td>\n",
       "      <td>Lioghts OUT in City Deep at Heidelberg Rd and ...</td>\n",
       "      <td>-1</td>\n",
       "    </tr>\n",
       "    <tr>\n",
       "      <th>2</th>\n",
       "      <td>0</td>\n",
       "      <td>TweetDeck</td>\n",
       "      <td>2014-10-07 04:25:14+00:00</td>\n",
       "      <td>1</td>\n",
       "      <td>130</td>\n",
       "      <td>Lights OUT in Booysens at Booysens and Long as...</td>\n",
       "      <td>-1</td>\n",
       "    </tr>\n",
       "    <tr>\n",
       "      <th>3</th>\n",
       "      <td>0</td>\n",
       "      <td>Twitter Web Client</td>\n",
       "      <td>2014-10-22 06:44:25+00:00</td>\n",
       "      <td>1</td>\n",
       "      <td>110</td>\n",
       "      <td>remains very slow on the N1 North between Mali...</td>\n",
       "      <td>-1</td>\n",
       "    </tr>\n",
       "    <tr>\n",
       "      <th>4</th>\n",
       "      <td>1</td>\n",
       "      <td>Twitter Web Client</td>\n",
       "      <td>2014-10-14 06:35:48+00:00</td>\n",
       "      <td>2</td>\n",
       "      <td>83</td>\n",
       "      <td>Cash in Transit heist on Harley amp Oak Randburg</td>\n",
       "      <td>-1</td>\n",
       "    </tr>\n",
       "  </tbody>\n",
       "</table>\n",
       "</div>"
      ],
      "text/plain": [
       "   favorite_count              source                created_at  \\\n",
       "0               1  Twitter Web Client 2014-10-30 08:07:20+00:00   \n",
       "1               0           TweetDeck 2014-10-07 04:24:29+00:00   \n",
       "2               0           TweetDeck 2014-10-07 04:25:14+00:00   \n",
       "3               0  Twitter Web Client 2014-10-22 06:44:25+00:00   \n",
       "4               1  Twitter Web Client 2014-10-14 06:35:48+00:00   \n",
       "\n",
       "   retweet_count  tweet_len  \\\n",
       "0              6        132   \n",
       "1              2        102   \n",
       "2              1        130   \n",
       "3              1        110   \n",
       "4              2         83   \n",
       "\n",
       "                                        clean_tweets  tweet_sentiment  \n",
       "0  Reports of a shootout in Midrand on the N1 Nor...               -1  \n",
       "1  Lioghts OUT in City Deep at Heidelberg Rd and ...               -1  \n",
       "2  Lights OUT in Booysens at Booysens and Long as...               -1  \n",
       "3  remains very slow on the N1 North between Mali...               -1  \n",
       "4   Cash in Transit heist on Harley amp Oak Randburg               -1  "
      ]
     },
     "execution_count": 27,
     "metadata": {},
     "output_type": "execute_result"
    }
   ],
   "source": [
    "\n",
    "df['tweet_sentiment'] = df.clean_tweets.apply(lambda x:analyze_sentiment(x))\n",
    "df.head()"
   ]
  },
  {
   "cell_type": "code",
   "execution_count": 28,
   "metadata": {},
   "outputs": [
    {
     "data": {
      "image/png": "[encoded data removed]",
      "text/plain": [
       "<Figure size 432x432 with 1 Axes>"
      ]
     },
     "metadata": {},
     "output_type": "display_data"
    }
   ],
   "source": [
    "#visualise sentiment\n",
    "negative = sum(df['tweet_sentiment'] == -1)\n",
    "positive = sum(df['tweet_sentiment'] == 1)\n",
    "# neutral = sum(df['tweet_sentiment'] == 0)\n",
    "\n",
    "f, ax = plt.subplots(figsize=(6, 6))\n",
    "sns.set_color_codes(palette='deep')\n",
    "plt.subplots_adjust(wspace = 0.5)\n",
    "plt.pie([negative, positive],\n",
    "        labels = ['Negative', 'Positive'],autopct='%1.1f%%', colors=['r','g'])\n",
    "ax.set(title=\"Tweets Sentiment\")\n",
    "plt.show()"
   ]
  },
  {
   "cell_type": "code",
   "execution_count": 29,
   "metadata": {},
   "outputs": [
    {
     "data": {
      "image/png": "[encoded data removed]",
      "text/plain": [
       "<Figure size 432x360 with 1 Axes>"
      ]
     },
     "metadata": {},
     "output_type": "display_data"
    }
   ],
   "source": [
    "\n",
    "fig, (ax1) = plt.subplots(figsize=(6,5))\n",
    "s = sns.boxplot(ax = ax1, x=\"tweet_sentiment\", y=\"retweet_count\", hue=\"tweet_sentiment\",data=df, palette=\"PRGn\",showfliers=False)\n",
    "ax1.set(title=\"Tweets Sentiment\")\n",
    "ax1.set(title=\"Tweets Sentiment Distribution\")\n",
    "ax1.set(ylabel=\"Number of Retweets\")\n",
    "ax1.set(xlabel=\"Tweets Sentiment\")\n",
    "\n",
    "plt.show()"
   ]
  },
  {
   "cell_type": "markdown",
   "metadata": {},
   "source": [
    "Positive sentiment has more normaly distributed than negative sentiment."
   ]
  },
  {
   "cell_type": "code",
   "execution_count": 30,
   "metadata": {},
   "outputs": [
    {
     "data": {
      "image/png": "[encoded data removed]",
      "text/plain": [
       "<Figure size 451.625x360 with 1 Axes>"
      ]
     },
     "metadata": {},
     "output_type": "display_data"
    }
   ],
   "source": [
    "# Visualize likes and Retweets Ratio\n",
    "s = sns.lmplot(x='retweet_count', y='favorite_count',data=df, hue='tweet_sentiment', fit_reg=True,scatter_kws={'s':2})\n",
    "s.set(title=\"Likes To Retweets Ratio\")\n",
    "s.set(ylabel=\"Likes\")\n",
    "s.set(xlabel=\"Retweets\")\n",
    "plt.show()"
   ]
  },
  {
   "cell_type": "markdown",
   "metadata": {},
   "source": [
    "Retweets turns to have a higher ratio than likes almost 3:1 ratio"
   ]
  },
  {
   "cell_type": "markdown",
   "metadata": {},
   "source": [
    "# Topic Modeling"
   ]
  },
  {
   "cell_type": "code",
   "execution_count": 31,
   "metadata": {},
   "outputs": [],
   "source": [
    "# pd.set_option(\"display.max_colwidth\", 200)\n",
    "# nltk.download('wordnet')\n",
    "lem = WordNetLemmatizer() # returns the actual root word of a text token\n",
    "corpus =[]\n",
    "# cleaning text\n",
    "for i in range(0,len(df['clean_tweets'])):\n",
    "\n",
    "    tweet = re.sub('[^a-zA-Z0-9]', ' ',str(df[['clean_tweets']].iloc[i].values)) \n",
    "    tweet = tweet.lower()\n",
    "    tweet = tweet.split()\n",
    "    stop_wrds = set(stopwords.words('english'))\n",
    "    tweet = [lem.lemmatize(word, \"v\") for word in tweet if not word in stop_wrds]\n",
    "    corpus.append(tweet)"
   ]
  },
  {
   "cell_type": "code",
   "execution_count": 32,
   "metadata": {},
   "outputs": [
    {
     "name": "stdout",
     "output_type": "stream",
     "text": [
      "[(0, '0.064*\"traffic\" + 0.057*\"slow\" + 0.034*\"n1\" + 0.030*\"north\" + 0.024*\"exit\" + 0.022*\"delay\" + 0.021*\"accident\" + 0.019*\"m1\" + 0.017*\"south\" + 0.017*\"drive\"'), (1, '0.053*\"traffic\" + 0.043*\"light\" + 0.034*\"amp\" + 0.022*\"road\" + 0.020*\"delay\" + 0.014*\"rd\" + 0.013*\"main\" + 0.013*\"witkoppen\" + 0.013*\"update\" + 0.010*\"people\"'), (2, '0.042*\"traffic\" + 0.030*\"us\" + 0.020*\"train\" + 0.019*\"town\" + 0.019*\"drive\" + 0.018*\"cancel\" + 0.018*\"cape\" + 0.017*\"report\" + 0.016*\"call\" + 0.013*\"tweet\"'), (3, '0.052*\"accident\" + 0.040*\"delay\" + 0.036*\"south\" + 0.031*\"road\" + 0.024*\"north\" + 0.023*\"n1\" + 0.021*\"exit\" + 0.020*\"n3\" + 0.020*\"stationary\" + 0.018*\"n12\"')]\n"
     ]
    }
   ],
   "source": [
    "doc_clean = corpus\n",
    "# Creating the term dictionary of our corpus, where every unique term is assigned an index.  \n",
    "dictionary = gensim.corpora.Dictionary(doc_clean)\n",
    "\n",
    "# Converting list of documents (corpus) into Document Term Matrix using dictionary prepared above. \n",
    "doc_term_matrix = [dictionary.doc2bow(doc) for doc in doc_clean]\n",
    "\n",
    "# Creating the object for LDA model using gensim library\n",
    "Lda = gensim.models.ldamodel.LdaModel\n",
    "\n",
    "# Running and Training LDA model on the document term matrix\n",
    "lda_model = Lda(doc_term_matrix, num_topics=4, id2word = dictionary, passes=50)\n",
    "\n",
    "# Results \n",
    "print(lda_model.print_topics())"
   ]
  },
  {
   "cell_type": "code",
   "execution_count": 33,
   "metadata": {},
   "outputs": [
    {
     "data": {
      "text/html": [
       "\n",
       "<link rel=\"stylesheet\" type=\"text/css\" href=\"https://cdn.rawgit.com/bmabey/pyLDAvis/files/ldavis.v1.0.0.css\">\n",
       "\n",
       "\n",
       "<div id=\"ldavis_el149711404735158799048796282087\"></div>\n",
       "<script type=\"text/javascript\">\n",
       "\n",
       "var ldavis_el149711404735158799048796282087_data = {\"mdsDat\": {\"x\": [0.2097777275293029, 0.121165245647923, -0.08141365375398446, -0.24952931942324144], \"y\": [0.01622889757142216, 0.07645255209807689, -0.2129164609669571, 0.12023501129745802], \"topics\": [1, 2, 3, 4], \"cluster\": [1, 1, 1, 1], \"Freq\": [42.53949737548828, 24.470346450805664, 20.61530113220215, 12.374849319458008]}, \"tinfo\": {\"Category\": [\"Default\", \"Default\", \"Default\", \"Default\", \"Default\", \"Default\", \"Default\", \"Default\", \"Default\", \"Default\", \"Default\", \"Default\", \"Default\", \"Default\", \"Default\", \"Default\", \"Default\", \"Default\", \"Default\", \"Default\", \"Default\", \"Default\", \"Default\", \"Default\", \"Default\", \"Default\", \"Default\", \"Default\", \"Default\", \"Default\", \"Topic1\", \"Topic1\", \"Topic1\", \"Topic1\", \"Topic1\", \"Topic1\", \"Topic1\", \"Topic1\", \"Topic1\", \"Topic1\", \"Topic1\", \"Topic1\", \"Topic1\", \"Topic1\", \"Topic1\", \"Topic1\", \"Topic1\", \"Topic1\", \"Topic1\", \"Topic1\", \"Topic1\", \"Topic1\", \"Topic1\", \"Topic1\", \"Topic1\", \"Topic1\", \"Topic1\", \"Topic1\", \"Topic1\", \"Topic1\", \"Topic1\", \"Topic1\", \"Topic1\", \"Topic1\", \"Topic1\", \"Topic1\", \"Topic1\", \"Topic1\", \"Topic1\", \"Topic1\", \"Topic1\", \"Topic1\", \"Topic1\", \"Topic1\", \"Topic1\", \"Topic1\", \"Topic1\", \"Topic1\", \"Topic1\", \"Topic1\", \"Topic1\", \"Topic2\", \"Topic2\", \"Topic2\", \"Topic2\", \"Topic2\", \"Topic2\", \"Topic2\", \"Topic2\", \"Topic2\", \"Topic2\", \"Topic2\", \"Topic2\", \"Topic2\", \"Topic2\", \"Topic2\", \"Topic2\", \"Topic2\", \"Topic2\", \"Topic2\", \"Topic2\", \"Topic2\", \"Topic2\", \"Topic2\", \"Topic2\", \"Topic2\", \"Topic2\", \"Topic2\", \"Topic2\", \"Topic2\", \"Topic2\", \"Topic2\", \"Topic2\", \"Topic2\", \"Topic2\", \"Topic2\", \"Topic2\", \"Topic2\", \"Topic2\", \"Topic2\", \"Topic2\", \"Topic2\", \"Topic2\", \"Topic2\", \"Topic2\", \"Topic2\", \"Topic2\", \"Topic2\", \"Topic2\", \"Topic2\", \"Topic2\", \"Topic2\", \"Topic2\", \"Topic2\", \"Topic2\", \"Topic2\", \"Topic3\", \"Topic3\", \"Topic3\", \"Topic3\", \"Topic3\", \"Topic3\", \"Topic3\", \"Topic3\", \"Topic3\", \"Topic3\", \"Topic3\", \"Topic3\", \"Topic3\", \"Topic3\", \"Topic3\", \"Topic3\", \"Topic3\", \"Topic3\", \"Topic3\", \"Topic3\", \"Topic3\", \"Topic3\", \"Topic3\", \"Topic3\", \"Topic3\", \"Topic3\", \"Topic3\", \"Topic3\", \"Topic3\", \"Topic3\", \"Topic3\", \"Topic3\", \"Topic3\", \"Topic3\", \"Topic3\", \"Topic3\", \"Topic3\", \"Topic3\", \"Topic3\", \"Topic3\", \"Topic3\", \"Topic3\", \"Topic3\", \"Topic3\", \"Topic3\", \"Topic3\", \"Topic3\", \"Topic3\", \"Topic4\", \"Topic4\", \"Topic4\", \"Topic4\", \"Topic4\", \"Topic4\", \"Topic4\", \"Topic4\", \"Topic4\", \"Topic4\", \"Topic4\", \"Topic4\", \"Topic4\", \"Topic4\", \"Topic4\", \"Topic4\", \"Topic4\", \"Topic4\", \"Topic4\", \"Topic4\", \"Topic4\", \"Topic4\", \"Topic4\", \"Topic4\", \"Topic4\", \"Topic4\", \"Topic4\", \"Topic4\", \"Topic4\", \"Topic4\", \"Topic4\", \"Topic4\", \"Topic4\", \"Topic4\", \"Topic4\", \"Topic4\", \"Topic4\", \"Topic4\"], \"Freq\": [164.0, 370.0, 110.0, 315.0, 104.0, 212.0, 205.0, 43.0, 226.0, 99.0, 98.0, 173.0, 37.0, 28.0, 79.0, 96.0, 26.0, 26.0, 31.0, 68.0, 68.0, 23.0, 31.0, 34.0, 69.0, 42.0, 58.0, 117.0, 59.0, 34.0, 98.886474609375, 97.88526916503906, 57.624549865722656, 47.7578239440918, 58.31266784667969, 67.08028411865234, 45.854427337646484, 33.40945053100586, 28.019927978515625, 26.23191261291504, 67.98120880126953, 34.837459564208984, 46.06599044799805, 26.028684616088867, 32.91617202758789, 19.048784255981445, 18.149456024169922, 19.87596321105957, 18.113983154296875, 18.963409423828125, 16.364501953125, 15.471362113952637, 15.468390464782715, 14.5656156539917, 12.774539947509766, 13.608101844787598, 11.8843412399292, 11.860047340393066, 11.857102394104004, 10.980517387390137, 27.779083251953125, 255.2292938232422, 35.211463928222656, 177.32162475585938, 90.7730484008789, 72.54875183105469, 50.89897155761719, 199.00711059570312, 153.35400390625, 84.52915954589844, 52.94997024536133, 58.66841506958008, 119.99571990966797, 104.55084991455078, 43.949703216552734, 82.10958862304688, 114.37399291992188, 34.29610824584961, 46.585365295410156, 39.02647018432617, 34.09618377685547, 163.42247009277344, 33.852962493896484, 27.66392707824707, 28.515304565429688, 25.918704986572266, 24.147476196289062, 23.26158905029297, 22.363834381103516, 19.69319725036621, 18.790796279907227, 33.23560333251953, 11.741050720214844, 11.741047859191895, 15.806957244873047, 9.971303939819336, 9.083961486816406, 9.079607009887695, 9.067018508911133, 9.052696228027344, 8.17977523803711, 7.3109025955200195, 7.3109025955200195, 7.310651779174805, 7.309659481048584, 7.30893611907959, 6.424859523773193, 6.416327953338623, 5.539047718048096, 5.534757137298584, 6.321465015411377, 12.355289459228516, 53.6359748840332, 45.902130126953125, 24.51403045654297, 182.37457275390625, 15.159364700317383, 27.107275009155273, 97.27214050292969, 31.164066314697266, 84.83787536621094, 47.54521942138672, 68.1978988647461, 34.0909538269043, 23.576414108276367, 12.287659645080566, 63.45310592651367, 58.87042236328125, 48.5319709777832, 21.464656829833984, 15.52253532409668, 23.128576278686523, 32.65238952636719, 25.974769592285156, 21.486583709716797, 20.0202693939209, 30.43647003173828, 25.097251892089844, 24.21561622619629, 22.42572593688965, 18.8824405670166, 17.105440139770508, 17.084863662719727, 16.219356536865234, 16.219356536865234, 16.219356536865234, 16.219356536865234, 16.219356536865234, 14.436903953552246, 12.658656120300293, 12.652392387390137, 14.330443382263184, 11.761696815490723, 10.884182929992676, 103.43099975585938, 9.106764793395996, 9.10676383972168, 9.106467247009277, 9.106376647949219, 12.992903709411621, 6.442298889160156, 6.436519145965576, 6.40687894821167, 5.554139137268066, 5.550713062286377, 5.550713062286377, 18.905607223510742, 23.357358932495117, 17.138700485229492, 16.234525680541992, 81.45919799804688, 32.17950439453125, 21.51227378845215, 20.64226531982422, 127.60728454589844, 53.2679328918457, 33.03493118286133, 47.50254821777344, 30.187942504882812, 17.1906681060791, 16.463319778442383, 20.14919090270996, 19.039749145507812, 16.730884552001953, 43.31407165527344, 27.798595428466797, 26.076679229736328, 26.07590103149414, 22.627117156982422, 19.180355072021484, 19.17557144165039, 18.31564712524414, 17.456384658813477, 17.456256866455078, 17.4561710357666, 17.45384407043457, 16.59433364868164, 16.59433364868164, 16.59433364868164, 16.59433364868164, 16.59433364868164, 16.59433364868164, 16.594329833984375, 16.59433364868164, 11.421478271484375, 10.559942245483398, 8.80242919921875, 7.111592769622803, 6.2496657371521, 6.207912445068359, 6.181384086608887, 5.387613296508789, 5.387612819671631, 5.387608051300049, 28.658069610595703, 24.094860076904297, 7.977743148803711, 60.686607360839844, 27.103784561157227, 9.483115196228027, 10.408126831054688, 11.563457489013672], \"Term\": [\"slow\", \"traffic\", \"light\", \"accident\", \"amp\", \"n1\", \"north\", \"us\", \"south\", \"n3\", \"stationary\", \"exit\", \"train\", \"town\", \"m1\", \"drive\", \"cancel\", \"cape\", \"report\", \"rivonia\", \"truck\", \"call\", \"witkoppen\", \"street\", \"vehicle\", \"main\", \"edenvale\", \"n12\", \"c\", \"sandton\", \"n3\", \"stationary\", \"edenvale\", \"bedfordview\", \"c\", \"truck\", \"lanes\", \"r24\", \"buuren\", \"gilloolys\", \"vehicle\", \"van\", \"near\", \"crown\", \"germiston\", \"modderfontein\", \"gillooly\", \"car\", \"bridge\", \"middle\", \"linksfield\", \"atlas\", \"geldenhuys\", \"two\", \"vorster\", \"overturn\", \"kempton\", \"open\", \"empire\", \"barbara\", \"elands\", \"accident\", \"r21\", \"south\", \"n12\", \"interchange\", \"close\", \"delay\", \"road\", \"rd\", \"west\", \"east\", \"north\", \"exit\", \"midrand\", \"update\", \"n1\", \"alberton\", \"heavy\", \"lane\", \"cause\", \"slow\", \"street\", \"move\", \"grayston\", \"pressure\", \"william\", \"nicol\", \"heavily\", \"hour\", \"peak\", \"sandton\", \"sefako\", \"makgatho\", \"affect\", \"r558\", \"n4\", \"remain\", \"outbound\", \"free\", \"valley\", \"sisulu\", \"albertina\", \"r300\", \"montana\", \"lynnwood\", \"klipspruit\", \"glenhove\", \"maraisburg\", \"11th\", \"melrose\", \"corlett\", \"m1\", \"rivonia\", \"malibongwe\", \"traffic\", \"woodmead\", \"roadworks\", \"n1\", \"back\", \"north\", \"drive\", \"exit\", \"lane\", \"ramp\", \"right\", \"delay\", \"accident\", \"south\", \"due\", \"approach\", \"east\", \"road\", \"n12\", \"update\", \"interchange\", \"witkoppen\", \"people\", \"point\", \"paulshof\", \"702\", \"duty\", \"randpark\", \"website\", \"visit\", \"list\", \"latest\", \"facebook\", \"potgieter\", \"hendrik\", \"order\", \"ridge\", \"bryanston\", \"work\", \"light\", \"le\", \"roux\", \"ysterhout\", \"cedar\", \"cnr\", \"cambridge\", \"line\", \"4\", \"doreen\", \"g\", \"med\", \"faulty\", \"gt\", \"beyers\", \"naude\", \"amp\", \"main\", \"also\", \"booysens\", \"traffic\", \"road\", \"rd\", \"delay\", \"update\", \"pretoria\", \"old\", \"rivonia\", \"heavy\", \"avoid\", \"us\", \"town\", \"cancel\", \"cape\", \"call\", \"tweet\", \"remember\", \"problems\", \"may\", \"06\", \"passengers\", \"picture\", \"37483\", \"083\", \"31702\", \"sms\", \"text\", \"91\", \"hazard\", \"pedestrians\", \"07\", \"retreat\", \"centre\", \"05\", \"12\", \"way\", \"t2510\", \"t0126\", \"42\", \"t0511\", \"train\", \"report\", \"get\", \"traffic\", \"drive\", \"service\", \"heidelberg\", \"due\"], \"Total\": [164.0, 370.0, 110.0, 315.0, 104.0, 212.0, 205.0, 43.0, 226.0, 99.0, 98.0, 173.0, 37.0, 28.0, 79.0, 96.0, 26.0, 26.0, 31.0, 68.0, 68.0, 23.0, 31.0, 34.0, 69.0, 42.0, 58.0, 117.0, 59.0, 34.0, 99.5573959350586, 98.6562728881836, 58.293418884277344, 48.42594528198242, 59.187896728515625, 68.1512680053711, 46.63041305541992, 34.07340621948242, 28.69083595275879, 26.896995544433594, 69.90392303466797, 35.85313034057617, 47.51898956298828, 26.88922691345215, 34.05406188964844, 19.720460891723633, 18.8232421875, 20.61636734008789, 18.8223934173584, 19.717180252075195, 17.029495239257812, 16.132598876953125, 16.132484436035156, 15.235285758972168, 13.441215515136719, 14.335733413696289, 12.544448852539062, 12.543994903564453, 12.543609619140625, 11.647196769714355, 30.460763931274414, 315.0235290527344, 39.41271209716797, 226.35414123535156, 117.18838500976562, 93.03862762451172, 62.63748550415039, 313.51043701171875, 239.5071258544922, 124.29002380371094, 70.64673614501953, 82.23786926269531, 205.2872314453125, 173.19403076171875, 58.166587829589844, 134.00608825683594, 212.31198120117188, 43.833309173583984, 79.48502349853516, 74.01420593261719, 64.253173828125, 164.86392211914062, 34.56529235839844, 28.36001205444336, 29.247920989990234, 26.58796501159668, 24.81529426574707, 23.92892074584961, 23.042327880859375, 20.38329315185547, 19.497058868408203, 34.56732177734375, 12.406039237976074, 12.406038284301758, 16.837757110595703, 10.633355140686035, 9.746932983398438, 9.746810913085938, 9.746417045593262, 9.745964050292969, 8.860299110412598, 7.97416353225708, 7.97416353225708, 7.97415018081665, 7.974135875701904, 7.974099159240723, 7.087802410125732, 7.087771415710449, 6.20143985748291, 6.201268672943115, 7.084862232208252, 15.069604873657227, 79.17919921875, 68.3222885131836, 33.78056335449219, 370.90911865234375, 19.54073143005371, 41.704795837402344, 212.31198120117188, 52.35762023925781, 205.2872314453125, 96.92115783691406, 173.19403076171875, 74.01420593261719, 44.55647277832031, 15.986969947814941, 313.51043701171875, 315.0235290527344, 226.35414123535156, 47.61050796508789, 26.71184730529785, 82.23786926269531, 239.5071258544922, 117.18838500976562, 134.00608825683594, 93.03862762451172, 31.100677490234375, 25.76795196533203, 24.87944221496582, 23.101604461669922, 19.546903610229492, 17.769428253173828, 17.768795013427734, 16.88077163696289, 16.88077163696289, 16.88077163696289, 16.880773544311523, 16.88077163696289, 15.103081703186035, 13.325552940368652, 13.325518608093262, 15.103196144104004, 12.43668270111084, 11.548144340515137, 110.0176773071289, 9.77066707611084, 9.77066707611084, 9.770647048950195, 9.770636558532715, 14.21280574798584, 7.104462623596191, 7.104272365570068, 7.103803634643555, 6.215732574462891, 6.21559476852417, 6.21559476852417, 21.271526336669922, 26.577577590942383, 19.494626998901367, 18.605205535888672, 104.1801528930664, 42.74516296386719, 28.49126625061035, 29.3968505859375, 370.90911865234375, 239.5071258544922, 124.29002380371094, 313.51043701171875, 134.00608825683594, 34.7747917175293, 33.02442169189453, 68.3222885131836, 79.48502349853516, 65.1310806274414, 43.98611831665039, 28.46910858154297, 26.745012283325195, 26.7450008392334, 23.296789169311523, 19.84857177734375, 19.84859275817871, 18.986526489257812, 18.124460220336914, 18.12445831298828, 18.124460220336914, 18.124483108520508, 17.262407302856445, 17.262407302856445, 17.262407302856445, 17.262409210205078, 17.262409210205078, 17.262409210205078, 17.262405395507812, 17.262409210205078, 12.090070724487305, 11.228020668029785, 9.504558563232422, 7.779803276062012, 6.9177446365356445, 6.918187618255615, 6.919635772705078, 6.055689811706543, 6.055691719055176, 6.05568790435791, 37.32971954345703, 31.249469757080078, 10.414332389831543, 370.90911865234375, 96.92115783691406, 16.593463897705078, 21.98287010192871, 47.61050796508789], \"loglift\": [30.0, 29.0, 28.0, 27.0, 26.0, 25.0, 24.0, 23.0, 22.0, 21.0, 20.0, 19.0, 18.0, 17.0, 16.0, 15.0, 14.0, 13.0, 12.0, 11.0, 10.0, 9.0, 8.0, 7.0, 6.0, 5.0, 4.0, 3.0, 2.0, 1.0, 0.8479999899864197, 0.8468999862670898, 0.8432000279426575, 0.8407999873161316, 0.8398000001907349, 0.8389000296592712, 0.8379999995231628, 0.835099995136261, 0.8310999870300293, 0.8296999931335449, 0.8267999887466431, 0.8259999752044678, 0.8237000107765198, 0.8222000002861023, 0.8208000063896179, 0.8201000094413757, 0.8183000087738037, 0.8181999921798706, 0.8163999915122986, 0.8158000111579895, 0.8148999810218811, 0.8129000067710876, 0.8126999735832214, 0.8098000288009644, 0.8039000034332275, 0.8026000261306763, 0.8007000088691711, 0.7986999750137329, 0.7985000014305115, 0.795799970626831, 0.7626000046730042, 0.6442999839782715, 0.7419999837875366, 0.6105999946594238, 0.5993000268936157, 0.6060000061988831, 0.6471999883651733, 0.4002000093460083, 0.4088999927043915, 0.4691999852657318, 0.5663999915122986, 0.5170000195503235, 0.31779998540878296, 0.3499999940395355, 0.5745000243186951, 0.36489999294281006, 0.2362000048160553, 0.6093999743461609, 0.320499986410141, 0.21469999849796295, 0.22110000252723694, 1.398900032043457, 1.3868999481201172, 1.3828999996185303, 1.3823000192642212, 1.382200002670288, 1.3803999423980713, 1.3794000148773193, 1.3777999877929688, 1.3732999563217163, 1.3708000183105469, 1.368399977684021, 1.3525999784469604, 1.3525999784469604, 1.344499945640564, 1.343400001525879, 1.3372999429702759, 1.3367999792099, 1.3355000019073486, 1.333899974822998, 1.3278000354766846, 1.3208999633789062, 1.3208999633789062, 1.3207999467849731, 1.3207000494003296, 1.3206000328063965, 1.309499979019165, 1.3082000017166138, 1.294700026512146, 1.2940000295639038, 1.2936999797821045, 1.2091000080108643, 1.0182000398635864, 1.0099999904632568, 1.0871000289916992, 0.6977999806404114, 1.1538000106811523, 0.9768999814987183, 0.6272000074386597, 0.8888999819755554, 0.5239999890327454, 0.6955000162124634, 0.4756999909877777, 0.6324999928474426, 0.7712000012397766, 1.1445000171661377, -0.18979999423027039, -0.2696000039577484, -0.13220000267028809, 0.6111000180244446, 0.8648999929428101, 0.13920000195503235, -0.5849999785423279, -0.09889999777078629, -0.4226999878883362, -0.12860000133514404, 1.5575000047683716, 1.5528000593185425, 1.5520999431610107, 1.549399971961975, 1.544600009918213, 1.541100025177002, 1.5398999452590942, 1.539199948310852, 1.539199948310852, 1.539199948310852, 1.539199948310852, 1.539199948310852, 1.534000039100647, 1.5277999639511108, 1.5273000001907349, 1.5266000032424927, 1.523300051689148, 1.5198999643325806, 1.5174000263214111, 1.5088000297546387, 1.5088000297546387, 1.5087000131607056, 1.5087000131607056, 1.489400029182434, 1.4812999963760376, 1.4803999662399292, 1.4759000539779663, 1.466599941253662, 1.465999960899353, 1.465999960899353, 1.4611999988555908, 1.4500000476837158, 1.4502999782562256, 1.4428000450134277, 1.3330999612808228, 1.295199990272522, 1.298200011253357, 1.225600004196167, 0.5120999813079834, 0.07590000331401825, 0.2540999948978424, -0.30790001153945923, 0.08869999647140503, 0.8745999932289124, 0.8830000162124634, 0.3580999970436096, 0.1500999927520752, 0.2199999988079071, 2.0741000175476074, 2.065700054168701, 2.064199924468994, 2.064199924468994, 2.06030011177063, 2.055299997329712, 2.055000066757202, 2.053499937057495, 2.0518999099731445, 2.0518999099731445, 2.0518999099731445, 2.051800012588501, 2.049999952316284, 2.049999952316284, 2.049999952316284, 2.049999952316284, 2.049999952316284, 2.049999952316284, 2.049999952316284, 2.049999952316284, 2.032599925994873, 2.0281999111175537, 2.0127999782562256, 1.9996999502182007, 1.9879000186920166, 1.9811999797821045, 1.976699948310852, 1.972599983215332, 1.972599983215332, 1.972599983215332, 1.8250999450683594, 1.8294999599456787, 1.8229999542236328, 0.2793000042438507, 0.8152999877929688, 1.5299999713897705, 1.3417999744415283, 0.6743000149726868], \"logprob\": [30.0, 29.0, 28.0, 27.0, 26.0, 25.0, 24.0, 23.0, 22.0, 21.0, 20.0, 19.0, 18.0, 17.0, 16.0, 15.0, 14.0, 13.0, 12.0, 11.0, 10.0, 9.0, 8.0, 7.0, 6.0, 5.0, 4.0, 3.0, 2.0, 1.0, -3.913800001144409, -3.9238998889923096, -4.453800201416016, -4.641600131988525, -4.44189977645874, -4.301799774169922, -4.682300090789795, -4.998899936676025, -5.174799919128418, -5.240699768066406, -4.28849983215332, -4.956999778747559, -4.677599906921387, -5.248499870300293, -5.013800144195557, -5.560699939727783, -5.609099864959717, -5.518199920654297, -5.611000061035156, -5.565199851989746, -5.712600231170654, -5.768700122833252, -5.768899917602539, -5.829100131988525, -5.960299968719482, -5.89709997177124, -6.03249979019165, -6.0345001220703125, -6.034800052642822, -6.111599922180176, -5.1834001541137695, -2.96560001373291, -4.946400165557861, -3.3297998905181885, -3.9993999004364014, -4.223499774932861, -4.577899932861328, -3.214400053024292, -3.4749999046325684, -4.0706000328063965, -4.538400173187256, -4.435800075531006, -3.7202999591827393, -3.8580000400543213, -4.724699974060059, -4.099699974060059, -3.768199920654297, -4.972700119018555, -4.666399955749512, -4.843500137329102, -4.978499889373779, -2.8584001064300537, -4.432700157165527, -4.6346001625061035, -4.604300022125244, -4.69980001449585, -4.770599842071533, -4.8078999519348145, -4.847300052642822, -4.9745001792907715, -5.021399974822998, -4.451099872589111, -5.491700172424316, -5.491700172424316, -5.194300174713135, -5.65500020980835, -5.748199939727783, -5.748700141906738, -5.750100135803223, -5.751699924468994, -5.853099822998047, -5.965400218963623, -5.965400218963623, -5.965400218963623, -5.96560001373291, -5.965700149536133, -6.094600200653076, -6.095900058746338, -6.2428998947143555, -6.24370002746582, -6.110799789428711, -5.440700054168701, -3.9725000858306885, -4.128200054168701, -4.755499839782715, -2.748699903488159, -5.236100196838379, -4.65500020980835, -3.37719988822937, -4.515500068664551, -3.5139999389648438, -4.093100070953369, -3.732300043106079, -4.4257001876831055, -4.79449987411499, -5.446199893951416, -3.804500102996826, -3.8794000148773193, -4.072500228881836, -4.888299942016602, -5.212500095367432, -4.813700199127197, -4.468800067901611, -4.6975998878479, -4.88730001449585, -4.958000183105469, -4.367700099945068, -4.5605998039245605, -4.59630012512207, -4.673099994659424, -4.845099925994873, -4.943900108337402, -4.945099830627441, -4.997099876403809, -4.997099876403809, -4.997099876403809, -4.997099876403809, -4.997099876403809, -5.113500118255615, -5.244999885559082, -5.245500087738037, -5.1209001541137695, -5.31850004196167, -5.395999908447266, -3.144399881362915, -5.5742998123168945, -5.5742998123168945, -5.5742998123168945, -5.5742998123168945, -5.218900203704834, -5.920400142669678, -5.921299934387207, -5.926000118255615, -6.06879997253418, -6.069399833679199, -6.069399833679199, -4.843900203704834, -4.632400035858154, -4.941999912261963, -4.996200084686279, -3.38319993019104, -4.311999797821045, -4.714700222015381, -4.75600004196167, -2.9344000816345215, -3.808000087738037, -4.285799980163574, -3.922499895095825, -4.375899791717529, -4.939000129699707, -4.9822001457214355, -4.780200004577637, -4.8368000984191895, -4.966100215911865, -3.504499912261963, -3.947999954223633, -4.011899948120117, -4.011899948120117, -4.153800010681152, -4.3190999031066895, -4.319300174713135, -4.365200042724609, -4.413300037384033, -4.413300037384033, -4.413300037384033, -4.413400173187256, -4.463900089263916, -4.463900089263916, -4.463900089263916, -4.463900089263916, -4.463900089263916, -4.463900089263916, -4.463900089263916, -4.463900089263916, -4.837500095367432, -4.915900230407715, -5.097899913787842, -5.311200141906738, -5.440400123596191, -5.4471001625061035, -5.451399803161621, -5.588900089263916, -5.588900089263916, -5.588900089263916, -3.9175000190734863, -4.091000080108643, -5.196300029754639, -3.1672000885009766, -3.973299980163574, -5.023399829864502, -4.9303998947143555, -4.825099945068359]}, \"token.table\": {\"Topic\": [4, 4, 4, 4, 2, 4, 4, 4, 3, 4, 3, 4, 1, 2, 4, 2, 2, 1, 2, 1, 3, 1, 3, 1, 2, 1, 1, 2, 3, 1, 2, 3, 4, 1, 1, 3, 4, 1, 3, 1, 3, 1, 1, 4, 3, 4, 4, 1, 1, 2, 3, 3, 4, 1, 2, 2, 3, 2, 3, 1, 1, 2, 3, 4, 3, 1, 2, 3, 4, 1, 2, 3, 4, 3, 1, 2, 1, 1, 2, 1, 1, 2, 3, 3, 4, 2, 3, 1, 1, 4, 2, 4, 1, 1, 2, 2, 3, 4, 4, 2, 1, 2, 3, 1, 3, 4, 3, 2, 1, 2, 1, 2, 1, 2, 4, 1, 3, 3, 3, 4, 3, 1, 3, 2, 1, 2, 1, 3, 2, 1, 2, 2, 4, 3, 2, 1, 1, 3, 1, 2, 2, 1, 2, 1, 2, 1, 2, 3, 4, 1, 2, 2, 1, 2, 1, 3, 1, 3, 2, 1, 4, 3, 2, 4, 3, 4, 3, 3, 2, 1, 2, 3, 4, 1, 2, 1, 2, 2, 1, 2, 3, 1, 2, 3, 2, 4, 3, 4, 4, 3, 1, 2, 1, 2, 3, 1, 2, 3, 1, 2, 3, 3, 2, 3, 2, 3, 4, 2, 2, 3, 4, 1, 2, 1, 2, 4, 4, 4, 4, 4, 2, 3, 4, 3, 4, 1, 4, 1, 1, 2, 3, 4, 2, 1, 4, 1, 4, 3, 1, 4, 3, 1, 2, 2, 3, 1, 2, 3, 3], \"Freq\": [0.89976567029953, 0.9379590749740601, 0.909837543964386, 0.9847989082336426, 0.9675439596176147, 0.8673347234725952, 0.9847989082336426, 0.9847989082336426, 0.8446179628372192, 0.825669527053833, 0.9720209836959839, 0.984798789024353, 0.8094633221626282, 0.1872875988483429, 0.0031743659637868404, 0.9502453207969666, 0.8778350353240967, 0.775665819644928, 0.20532330870628357, 0.24568933248519897, 0.7721664309501648, 0.2111726552248001, 0.7774993181228638, 0.4118022918701172, 0.5989851355552673, 0.9297943711280823, 0.5066705346107483, 0.24565844237804413, 0.26101210713386536, 0.15279532968997955, 0.5920819044113159, 0.21009358763694763, 0.03819883242249489, 0.9444332718849182, 0.9912042021751404, 0.8720351457595825, 0.10259237140417099, 0.27213799953460693, 0.7143622636795044, 0.9563077092170715, 0.9648874998092651, 0.9759213924407959, 0.9799301028251648, 0.9872605204582214, 0.8445395827293396, 0.9721438884735107, 0.9721443057060242, 0.9701030254364014, 0.5291567444801331, 0.2490149438381195, 0.21788807213306427, 0.9211273193359375, 0.94691401720047, 0.8142089247703552, 0.17561368644237518, 0.07035908102989197, 0.914668083190918, 0.7963048815727234, 0.13271747529506683, 0.9669299721717834, 0.6347476243972778, 0.2009502500295639, 0.15310494601726532, 0.012758745811879635, 0.9652925133705139, 0.14444731175899506, 0.49524790048599243, 0.09285898506641388, 0.27857694029808044, 0.08401506394147873, 0.44107910990715027, 0.23104143142700195, 0.252045214176178, 0.9566993117332458, 0.7174310684204102, 0.27967649698257446, 0.9949665069580078, 0.9192152619361877, 0.06565823405981064, 0.9566624164581299, 0.6062564849853516, 0.39262324571609497, 0.9478239417076111, 0.8932127952575684, 0.09402240067720413, 0.9234591722488403, 0.9653139114379883, 0.9298009872436523, 0.9690473675727844, 0.029365072026848793, 0.19204303622245789, 0.7681721448898315, 0.9562646150588989, 0.9666507244110107, 0.8465284109115601, 0.9915234446525574, 0.8653911352157593, 0.11287710070610046, 0.9847990274429321, 0.9547646641731262, 0.5913063883781433, 0.17613381147384644, 0.23903873562812805, 0.4548996686935425, 0.0909799337387085, 0.4548996686935425, 0.9755692481994629, 0.9811957478523254, 0.7846203446388245, 0.21496447920799255, 0.9565984010696411, 0.846524715423584, 0.5269258618354797, 0.45937126874923706, 0.013510920107364655, 0.9864806532859802, 0.9478238821029663, 0.9211243987083435, 0.9362131953239441, 0.054536689072847366, 0.8445622324943542, 0.9395463466644287, 0.9478239417076111, 0.877842128276825, 0.3157394826412201, 0.6819972991943359, 0.2339445948600769, 0.748622715473175, 0.9672709107398987, 0.26642540097236633, 0.7400705218315125, 0.9675172567367554, 0.9379589557647705, 0.9653139114379883, 0.8468760251998901, 0.9636266231536865, 0.7564480304718018, 0.2406880110502243, 0.9634663462638855, 0.8778380751609802, 0.9873056411743164, 0.5369457006454468, 0.456874817609787, 0.776527464389801, 0.2218649983406067, 0.9944012761116028, 0.9233673810958862, 0.8599743843078613, 0.10749679803848267, 0.968034029006958, 0.02104421891272068, 0.9611799716949463, 0.5845468044281006, 0.4140540063381195, 0.48448994755744934, 0.48448994755744934, 0.9566330313682556, 0.9755718111991882, 0.923416256904602, 0.9765806794166565, 0.9379589557647705, 0.9523147940635681, 0.9745059609413147, 0.984798789024353, 0.9701973795890808, 0.937957763671875, 0.9646518230438232, 0.9269631505012512, 0.9778860211372375, 0.40259048342704773, 0.08626938611268997, 0.4888598620891571, 0.9480407238006592, 0.8880383372306824, 0.1014900952577591, 0.9684972167015076, 0.8778364658355713, 0.9404369592666626, 0.4713119864463806, 0.5386422872543335, 0.9567334055900574, 0.68388432264328, 0.04827418923377991, 0.2655080258846283, 0.9233789443969727, 0.957246720790863, 0.22400380671024323, 0.768013060092926, 0.9796918034553528, 0.9269561171531677, 0.1876528263092041, 0.7506113052368164, 0.029273023828864098, 0.6732795834541321, 0.2927302420139313, 0.6388118863105774, 0.1377829611301422, 0.2212877720594406, 0.023978058248758316, 0.6474075317382812, 0.3117147386074066, 0.9211243987083435, 0.9546588659286499, 0.028929056599736214, 0.9672708511352539, 0.42185285687446594, 0.5423822402954102, 0.8778350353240967, 0.9886941909790039, 0.0060656084679067135, 0.984798789024353, 0.7819604873657227, 0.21647495031356812, 0.9933478832244873, 0.9836456775665283, 0.8256697654724121, 0.8256700038909912, 0.8670976758003235, 0.984798789024353, 0.9835221767425537, 0.49068623781204224, 0.34509801864624023, 0.16446077823638916, 0.21430645883083344, 0.7768608927726746, 0.9831071496009827, 0.9572477340698242, 0.9845564961433411, 0.6119124889373779, 0.15670929849147797, 0.2238704264163971, 0.9775811433792114, 0.9029040336608887, 0.9762048721313477, 0.02789156697690487, 0.97276371717453, 0.014305348508059978, 0.9478239417076111, 0.9671744108200073, 0.8672791719436646, 0.9478239417076111, 0.7502115964889526, 0.24063390493392944, 0.9671455025672913, 0.9646092057228088, 0.20470063388347626, 0.7676273584365845, 0.9525339603424072, 0.9211263060569763], \"Term\": [\"05\", \"06\", \"07\", \"083\", \"11th\", \"12\", \"31702\", \"37483\", \"4\", \"42\", \"702\", \"91\", \"accident\", \"accident\", \"accident\", \"affect\", \"albertina\", \"alberton\", \"alberton\", \"also\", \"also\", \"amp\", \"amp\", \"approach\", \"approach\", \"atlas\", \"avoid\", \"avoid\", \"avoid\", \"back\", \"back\", \"back\", \"back\", \"barbara\", \"bedfordview\", \"beyers\", \"beyers\", \"booysens\", \"booysens\", \"bridge\", \"bryanston\", \"buuren\", \"c\", \"call\", \"cambridge\", \"cancel\", \"cape\", \"car\", \"cause\", \"cause\", \"cause\", \"cedar\", \"centre\", \"close\", \"close\", \"cnr\", \"cnr\", \"corlett\", \"corlett\", \"crown\", \"delay\", \"delay\", \"delay\", \"delay\", \"doreen\", \"drive\", \"drive\", \"drive\", \"drive\", \"due\", \"due\", \"due\", \"due\", \"duty\", \"east\", \"east\", \"edenvale\", \"elands\", \"elands\", \"empire\", \"exit\", \"exit\", \"facebook\", \"faulty\", \"faulty\", \"free\", \"g\", \"geldenhuys\", \"germiston\", \"germiston\", \"get\", \"get\", \"gillooly\", \"gilloolys\", \"glenhove\", \"grayston\", \"gt\", \"gt\", \"hazard\", \"heavily\", \"heavy\", \"heavy\", \"heavy\", \"heidelberg\", \"heidelberg\", \"heidelberg\", \"hendrik\", \"hour\", \"interchange\", \"interchange\", \"kempton\", \"klipspruit\", \"lane\", \"lane\", \"lane\", \"lanes\", \"latest\", \"le\", \"light\", \"light\", \"line\", \"linksfield\", \"list\", \"lynnwood\", \"m1\", \"m1\", \"main\", \"main\", \"makgatho\", \"malibongwe\", \"malibongwe\", \"maraisburg\", \"may\", \"med\", \"melrose\", \"middle\", \"midrand\", \"midrand\", \"modderfontein\", \"montana\", \"move\", \"n1\", \"n1\", \"n12\", \"n12\", \"n3\", \"n4\", \"naude\", \"naude\", \"near\", \"near\", \"nicol\", \"north\", \"north\", \"old\", \"old\", \"open\", \"order\", \"outbound\", \"overturn\", \"passengers\", \"paulshof\", \"peak\", \"pedestrians\", \"people\", \"picture\", \"point\", \"potgieter\", \"pressure\", \"pretoria\", \"pretoria\", \"pretoria\", \"problems\", \"r21\", \"r21\", \"r24\", \"r300\", \"r558\", \"ramp\", \"ramp\", \"randpark\", \"rd\", \"rd\", \"rd\", \"remain\", \"remember\", \"report\", \"report\", \"retreat\", \"ridge\", \"right\", \"right\", \"rivonia\", \"rivonia\", \"rivonia\", \"road\", \"road\", \"road\", \"roadworks\", \"roadworks\", \"roadworks\", \"roux\", \"sandton\", \"sandton\", \"sefako\", \"service\", \"service\", \"sisulu\", \"slow\", \"slow\", \"sms\", \"south\", \"south\", \"stationary\", \"street\", \"t0126\", \"t0511\", \"t2510\", \"text\", \"town\", \"traffic\", \"traffic\", \"traffic\", \"train\", \"train\", \"truck\", \"tweet\", \"two\", \"update\", \"update\", \"update\", \"us\", \"valley\", \"van\", \"van\", \"vehicle\", \"vehicle\", \"visit\", \"vorster\", \"way\", \"website\", \"west\", \"west\", \"william\", \"witkoppen\", \"woodmead\", \"woodmead\", \"work\", \"ysterhout\"]}, \"R\": 30, \"lambda.step\": 0.01, \"plot.opts\": {\"xlab\": \"PC1\", \"ylab\": \"PC2\"}, \"topic.order\": [4, 1, 2, 3]};\n",
       "\n",
       "function LDAvis_load_lib(url, callback){\n",
       "  var s = document.createElement('script');\n",
       "  s.src = url;\n",
       "  s.async = true;\n",
       "  s.onreadystatechange = s.onload = callback;\n",
       "  s.onerror = function(){console.warn(\"failed to load library \" + url);};\n",
       "  document.getElementsByTagName(\"head\")[0].appendChild(s);\n",
       "}\n",
       "\n",
       "if(typeof(LDAvis) !== \"undefined\"){\n",
       "   // already loaded: just create the visualization\n",
       "   !function(LDAvis){\n",
       "       new LDAvis(\"#\" + \"ldavis_el149711404735158799048796282087\", ldavis_el149711404735158799048796282087_data);\n",
       "   }(LDAvis);\n",
       "}else if(typeof define === \"function\" && define.amd){\n",
       "   // require.js is available: use it to load d3/LDAvis\n",
       "   require.config({paths: {d3: \"https://cdnjs.cloudflare.com/ajax/libs/d3/3.5.5/d3.min\"}});\n",
       "   require([\"d3\"], function(d3){\n",
       "      window.d3 = d3;\n",
       "      LDAvis_load_lib(\"https://cdn.rawgit.com/bmabey/pyLDAvis/files/ldavis.v1.0.0.js\", function(){\n",
       "        new LDAvis(\"#\" + \"ldavis_el149711404735158799048796282087\", ldavis_el149711404735158799048796282087_data);\n",
       "      });\n",
       "    });\n",
       "}else{\n",
       "    // require.js not available: dynamically load d3 & LDAvis\n",
       "    LDAvis_load_lib(\"https://cdnjs.cloudflare.com/ajax/libs/d3/3.5.5/d3.min.js\", function(){\n",
       "         LDAvis_load_lib(\"https://cdn.rawgit.com/bmabey/pyLDAvis/files/ldavis.v1.0.0.js\", function(){\n",
       "                 new LDAvis(\"#\" + \"ldavis_el149711404735158799048796282087\", ldavis_el149711404735158799048796282087_data);\n",
       "            })\n",
       "         });\n",
       "}\n",
       "</script>"
      ],
      "text/plain": [
       "PreparedData(topic_coordinates=              x         y  topics  cluster       Freq\n",
       "topic                                                \n",
       "3      0.209778  0.016229       1        1  42.539497\n",
       "0      0.121165  0.076453       2        1  24.470346\n",
       "1     -0.081414 -0.212916       3        1  20.615301\n",
       "2     -0.249529  0.120235       4        1  12.374849, topic_info=    Category        Freq        Term       Total  loglift  logprob\n",
       "36   Default  164.000000        slow  164.000000  30.0000  30.0000\n",
       "37   Default  370.000000     traffic  370.000000  29.0000  29.0000\n",
       "24   Default  110.000000       light  110.000000  28.0000  28.0000\n",
       "64   Default  315.000000    accident  315.000000  27.0000  27.0000\n",
       "38   Default  104.000000         amp  104.000000  26.0000  26.0000\n",
       "..       ...         ...         ...         ...      ...      ...\n",
       "37    Topic4   60.686607     traffic  370.909119   0.2793  -3.1672\n",
       "179   Topic4   27.103785       drive   96.921158   0.8153  -3.9733\n",
       "117   Topic4    9.483115     service   16.593464   1.5300  -5.0234\n",
       "17    Topic4   10.408127  heidelberg   21.982870   1.3418  -4.9304\n",
       "288   Topic4   11.563457         due   47.610508   0.6743  -4.8251\n",
       "\n",
       "[222 rows x 6 columns], token_table=      Topic      Freq       Term\n",
       "term                            \n",
       "636       4  0.899766         05\n",
       "376       4  0.937959         06\n",
       "403       4  0.909838         07\n",
       "210       4  0.984799        083\n",
       "780       2  0.967544       11th\n",
       "...     ...       ...        ...\n",
       "349       3  0.964609  witkoppen\n",
       "63        1  0.204701   woodmead\n",
       "63        2  0.767627   woodmead\n",
       "362       3  0.952534       work\n",
       "317       3  0.921126  ysterhout\n",
       "\n",
       "[249 rows x 3 columns], R=30, lambda_step=0.01, plot_opts={'xlab': 'PC1', 'ylab': 'PC2'}, topic_order=[4, 1, 2, 3])"
      ]
     },
     "execution_count": 33,
     "metadata": {},
     "output_type": "execute_result"
    }
   ],
   "source": [
    "# Visualize the topics\n",
    "\n",
    "pyLDAvis.enable_notebook()\n",
    "vis = pyLDAvis.gensim.prepare(lda_model, doc_term_matrix, dictionary)\n",
    "vis"
   ]
  },
  {
   "cell_type": "code",
   "execution_count": 34,
   "metadata": {},
   "outputs": [],
   "source": [
    "# # TfidfVectorizer to create a document-term matrix with 1,000 terms.\n",
    "# from sklearn.feature_extraction.text import TfidfVectorizer\n",
    "\n",
    "# vectorizer = TfidfVectorizer(stop_words='english', \n",
    "# max_features= 1000, # keep top 1000 terms \n",
    "# max_df = 0.5, \n",
    "# smooth_idf=True)\n",
    "\n",
    "# X = vectorizer.fit_transform(df['clean_tweets'])\n",
    "\n",
    "# X.shape # check shape of the document-term matrix"
   ]
  },
  {
   "cell_type": "code",
   "execution_count": 35,
   "metadata": {},
   "outputs": [],
   "source": [
    "# from sklearn.decomposition import TruncatedSVD\n",
    "\n",
    "# # SVD represent documents and terms in vectors \n",
    "# svd_model = TruncatedSVD(n_components=20, algorithm='randomized', n_iter=100, random_state=122)\n",
    "\n",
    "# svd_model.fit(X)\n",
    "\n",
    "# len(svd_model.components_)"
   ]
  },
  {
   "cell_type": "code",
   "execution_count": 36,
   "metadata": {},
   "outputs": [],
   "source": [
    "# terms = vectorizer.get_feature_names()\n",
    "\n",
    "# for i, comp in enumerate(svd_model.components_):\n",
    "#     terms_comp = zip(terms, comp)\n",
    "#     sorted_terms = sorted(terms_comp, key= lambda x:x[1], reverse=True)[:7]\n",
    "#     print(\"Topic \"+str(i)+\": \")\n",
    "#     for t in sorted_terms:\n",
    "#         print(t[0])\n",
    "#         print(\" \")"
   ]
  },
  {
   "cell_type": "code",
   "execution_count": 37,
   "metadata": {},
   "outputs": [],
   "source": [
    "# # Topics Visualization\n",
    "# # !pip install umap-learn\n",
    "# import umap\n",
    "\n",
    "# X_topics = svd_model.fit_transform(X)\n",
    "# embedding = umap.UMAP(n_neighbors=150, min_dist=0.5, random_state=12).fit_transform(X_topics)\n",
    "\n",
    "# plt.figure(figsize=(7,5))\n",
    "# plt.scatter(embedding[:, 0], embedding[:, 1], \n",
    "# c = dataset.target,\n",
    "# s = 10, # size\n",
    "# edgecolor='none'\n",
    "# )\n",
    "# plt.show()"
   ]
  },
  {
   "cell_type": "code",
   "execution_count": 38,
   "metadata": {},
   "outputs": [
    {
     "data": {
      "text/html": [
       "<div>\n",
       "<style scoped>\n",
       "    .dataframe tbody tr th:only-of-type {\n",
       "        vertical-align: middle;\n",
       "    }\n",
       "\n",
       "    .dataframe tbody tr th {\n",
       "        vertical-align: top;\n",
       "    }\n",
       "\n",
       "    .dataframe thead th {\n",
       "        text-align: right;\n",
       "    }\n",
       "</style>\n",
       "<table border=\"1\" class=\"dataframe\">\n",
       "  <thead>\n",
       "    <tr style=\"text-align: right;\">\n",
       "      <th></th>\n",
       "      <th>favorite_count</th>\n",
       "      <th>source</th>\n",
       "      <th>text</th>\n",
       "      <th>is_retweet</th>\n",
       "      <th>created_at</th>\n",
       "      <th>retweet_count</th>\n",
       "    </tr>\n",
       "  </thead>\n",
       "  <tbody>\n",
       "    <tr>\n",
       "      <th>0</th>\n",
       "      <td>1</td>\n",
       "      <td>Twitter Web Client</td>\n",
       "      <td>Reports of a shootout in Midrand on the N1 Nor...</td>\n",
       "      <td>False</td>\n",
       "      <td>Thu Oct 30 08:07:20 +0000 2014</td>\n",
       "      <td>6</td>\n",
       "    </tr>\n",
       "    <tr>\n",
       "      <th>1</th>\n",
       "      <td>0</td>\n",
       "      <td>TweetDeck</td>\n",
       "      <td>#JHBtraffic - Lioghts OUT in City Deep at Heid...</td>\n",
       "      <td>False</td>\n",
       "      <td>Tue Oct 07 04:24:29 +0000 2014</td>\n",
       "      <td>2</td>\n",
       "    </tr>\n",
       "    <tr>\n",
       "      <th>2</th>\n",
       "      <td>0</td>\n",
       "      <td>TweetDeck</td>\n",
       "      <td>#JHBtraffic Lights OUT in Booysens at Booysens...</td>\n",
       "      <td>False</td>\n",
       "      <td>Tue Oct 07 04:25:14 +0000 2014</td>\n",
       "      <td>1</td>\n",
       "    </tr>\n",
       "    <tr>\n",
       "      <th>3</th>\n",
       "      <td>0</td>\n",
       "      <td>Twitter Web Client</td>\n",
       "      <td>#JHBTraffic remains very slow on the N1 North ...</td>\n",
       "      <td>False</td>\n",
       "      <td>Wed Oct 22 06:44:25 +0000 2014</td>\n",
       "      <td>1</td>\n",
       "    </tr>\n",
       "    <tr>\n",
       "      <th>4</th>\n",
       "      <td>1</td>\n",
       "      <td>Twitter Web Client</td>\n",
       "      <td>#JHBTraffic RT @jhbnorthmedix: Cash in Transit...</td>\n",
       "      <td>False</td>\n",
       "      <td>Tue Oct 14 06:35:48 +0000 2014</td>\n",
       "      <td>2</td>\n",
       "    </tr>\n",
       "  </tbody>\n",
       "</table>\n",
       "</div>"
      ],
      "text/plain": [
       "   favorite_count              source  \\\n",
       "0               1  Twitter Web Client   \n",
       "1               0           TweetDeck   \n",
       "2               0           TweetDeck   \n",
       "3               0  Twitter Web Client   \n",
       "4               1  Twitter Web Client   \n",
       "\n",
       "                                                text  is_retweet  \\\n",
       "0  Reports of a shootout in Midrand on the N1 Nor...       False   \n",
       "1  #JHBtraffic - Lioghts OUT in City Deep at Heid...       False   \n",
       "2  #JHBtraffic Lights OUT in Booysens at Booysens...       False   \n",
       "3  #JHBTraffic remains very slow on the N1 North ...       False   \n",
       "4  #JHBTraffic RT @jhbnorthmedix: Cash in Transit...       False   \n",
       "\n",
       "                       created_at  retweet_count  \n",
       "0  Thu Oct 30 08:07:20 +0000 2014              6  \n",
       "1  Tue Oct 07 04:24:29 +0000 2014              2  \n",
       "2  Tue Oct 07 04:25:14 +0000 2014              1  \n",
       "3  Wed Oct 22 06:44:25 +0000 2014              1  \n",
       "4  Tue Oct 14 06:35:48 +0000 2014              2  "
      ]
     },
     "execution_count": 38,
     "metadata": {},
     "output_type": "execute_result"
    }
   ],
   "source": [
    "#Importing Twitter the data\n",
    "df = pd.read_csv('/../edsa-traffic/Twitter/ewntraffic.csv')\n",
    "df.drop(['id_str','in_reply_to_screen_name'], axis=1, inplace=True)\n",
    "df.head()"
   ]
  },
  {
   "cell_type": "code",
   "execution_count": 39,
   "metadata": {},
   "outputs": [],
   "source": [
    "\n",
    "# (@[A-Za-z0-9]+)|(#[A-Za-z0-9]+)|([^0-9A-Za-z \\t])|(\\w+:\\/\\/\\S+)"
   ]
  },
  {
   "cell_type": "code",
   "execution_count": 40,
   "metadata": {},
   "outputs": [],
   "source": [
    "corpus =[]\n",
    "# cleaning text\n",
    "for i in range(0,len(df.text)):\n",
    "\n",
    "    tweet = re.findall(r'In [\\w\\.-]+', str(df['text'][i]))\n",
    "    stop_wrds = set(stopwords.words('english')) \n",
    "    tweet = [word for word in tweet if not word in stop_wrds]\n",
    "    tweet = ' '.join(tweet)\n",
    "    corpus.append(tweet)\n",
    "    \n",
    "df['locations'] = corpus"
   ]
  },
  {
   "cell_type": "code",
   "execution_count": 41,
   "metadata": {
    "scrolled": true
   },
   "outputs": [
    {
     "data": {
      "text/plain": [
       "['',\n",
       " '',\n",
       " 'In Roodepoort',\n",
       " '',\n",
       " '',\n",
       " 'In Lenasia',\n",
       " '',\n",
       " 'In Woodmead',\n",
       " 'In Windsor',\n",
       " '']"
      ]
     },
     "execution_count": 41,
     "metadata": {},
     "output_type": "execute_result"
    }
   ],
   "source": [
    "corpus[0:10]"
   ]
  },
  {
   "cell_type": "code",
   "execution_count": 42,
   "metadata": {
    "scrolled": true
   },
   "outputs": [
    {
     "data": {
      "text/html": [
       "<div>\n",
       "<style scoped>\n",
       "    .dataframe tbody tr th:only-of-type {\n",
       "        vertical-align: middle;\n",
       "    }\n",
       "\n",
       "    .dataframe tbody tr th {\n",
       "        vertical-align: top;\n",
       "    }\n",
       "\n",
       "    .dataframe thead th {\n",
       "        text-align: right;\n",
       "    }\n",
       "</style>\n",
       "<table border=\"1\" class=\"dataframe\">\n",
       "  <thead>\n",
       "    <tr style=\"text-align: right;\">\n",
       "      <th></th>\n",
       "      <th>favorite_count</th>\n",
       "      <th>source</th>\n",
       "      <th>text</th>\n",
       "      <th>is_retweet</th>\n",
       "      <th>created_at</th>\n",
       "      <th>retweet_count</th>\n",
       "      <th>locations</th>\n",
       "    </tr>\n",
       "  </thead>\n",
       "  <tbody>\n",
       "    <tr>\n",
       "      <th>0</th>\n",
       "      <td>1</td>\n",
       "      <td>Twitter Web Client</td>\n",
       "      <td>Reports of a shootout in Midrand on the N1 Nor...</td>\n",
       "      <td>False</td>\n",
       "      <td>Thu Oct 30 08:07:20 +0000 2014</td>\n",
       "      <td>6</td>\n",
       "      <td></td>\n",
       "    </tr>\n",
       "    <tr>\n",
       "      <th>1</th>\n",
       "      <td>0</td>\n",
       "      <td>TweetDeck</td>\n",
       "      <td>#JHBtraffic - Lioghts OUT in City Deep at Heid...</td>\n",
       "      <td>False</td>\n",
       "      <td>Tue Oct 07 04:24:29 +0000 2014</td>\n",
       "      <td>2</td>\n",
       "      <td></td>\n",
       "    </tr>\n",
       "    <tr>\n",
       "      <th>2</th>\n",
       "      <td>0</td>\n",
       "      <td>TweetDeck</td>\n",
       "      <td>#JHBtraffic Lights OUT in Booysens at Booysens...</td>\n",
       "      <td>False</td>\n",
       "      <td>Tue Oct 07 04:25:14 +0000 2014</td>\n",
       "      <td>1</td>\n",
       "      <td>Roodepoort</td>\n",
       "    </tr>\n",
       "    <tr>\n",
       "      <th>3</th>\n",
       "      <td>0</td>\n",
       "      <td>Twitter Web Client</td>\n",
       "      <td>#JHBTraffic remains very slow on the N1 North ...</td>\n",
       "      <td>False</td>\n",
       "      <td>Wed Oct 22 06:44:25 +0000 2014</td>\n",
       "      <td>1</td>\n",
       "      <td></td>\n",
       "    </tr>\n",
       "    <tr>\n",
       "      <th>4</th>\n",
       "      <td>1</td>\n",
       "      <td>Twitter Web Client</td>\n",
       "      <td>#JHBTraffic RT @jhbnorthmedix: Cash in Transit...</td>\n",
       "      <td>False</td>\n",
       "      <td>Tue Oct 14 06:35:48 +0000 2014</td>\n",
       "      <td>2</td>\n",
       "      <td></td>\n",
       "    </tr>\n",
       "  </tbody>\n",
       "</table>\n",
       "</div>"
      ],
      "text/plain": [
       "   favorite_count              source  \\\n",
       "0               1  Twitter Web Client   \n",
       "1               0           TweetDeck   \n",
       "2               0           TweetDeck   \n",
       "3               0  Twitter Web Client   \n",
       "4               1  Twitter Web Client   \n",
       "\n",
       "                                                text  is_retweet  \\\n",
       "0  Reports of a shootout in Midrand on the N1 Nor...       False   \n",
       "1  #JHBtraffic - Lioghts OUT in City Deep at Heid...       False   \n",
       "2  #JHBtraffic Lights OUT in Booysens at Booysens...       False   \n",
       "3  #JHBTraffic remains very slow on the N1 North ...       False   \n",
       "4  #JHBTraffic RT @jhbnorthmedix: Cash in Transit...       False   \n",
       "\n",
       "                       created_at  retweet_count   locations  \n",
       "0  Thu Oct 30 08:07:20 +0000 2014              6              \n",
       "1  Tue Oct 07 04:24:29 +0000 2014              2              \n",
       "2  Tue Oct 07 04:25:14 +0000 2014              1  Roodepoort  \n",
       "3  Wed Oct 22 06:44:25 +0000 2014              1              \n",
       "4  Tue Oct 14 06:35:48 +0000 2014              2              "
      ]
     },
     "execution_count": 42,
     "metadata": {},
     "output_type": "execute_result"
    }
   ],
   "source": [
    "df['locations'] = df['locations'].apply(lambda x: x.replace('[',''))\n",
    "df['locations'] = df['locations'].apply(lambda x: x.replace(']',''))\n",
    "df['locations'] = df['locations'].apply(lambda x: x.replace('In',''))\n",
    "df['locations'] = df['locations'].apply(lambda x: x.replace('[',''))\n",
    "df['locations'] = df['locations'].apply(lambda x: x.replace(']',''))\n",
    "df['locations'] = df['locations'].apply(lambda x: x.replace(' ',''))\n",
    "df.head()\n"
   ]
  },
  {
   "cell_type": "code",
   "execution_count": 43,
   "metadata": {},
   "outputs": [
    {
     "data": {
      "text/plain": [
       "['Roodepoort', 'Lenasia', 'Woodmead', 'Windsor', 'Edenvale']"
      ]
     },
     "execution_count": 43,
     "metadata": {},
     "output_type": "execute_result"
    }
   ],
   "source": [
    "df.locations.values\n",
    "locs = []\n",
    "for i in df.locations.values:\n",
    "    if len(i) > 4:\n",
    "        locs.append(i)\n",
    "locs[0:5]"
   ]
  },
  {
   "cell_type": "code",
   "execution_count": 44,
   "metadata": {},
   "outputs": [],
   "source": [
    "from geopy.geocoders import Nominatim\n",
    "import gmplot\n",
    "\n",
    "geolocator = Nominatim()\n",
    "\n",
    "# Go through all tweets and add locations to 'coordinates' dictionary\n",
    "coordinates = {'latitude': [], 'longitude': []}\n",
    "for count, user_loc in enumerate(locs):\n",
    "    try:\n",
    "        location = geolocator.geocode(user_loc)\n",
    "        \n",
    "        # If coordinates are found for location\n",
    "        if location:\n",
    "            coordinates['latitude'].append(location.latitude)\n",
    "            coordinates['longitude'].append(location.longitude)\n",
    "            \n",
    "    # If too many connection requests\n",
    "    except:\n",
    "        pass\n",
    "    "
   ]
  },
  {
   "cell_type": "code",
   "execution_count": 45,
   "metadata": {
    "scrolled": true
   },
   "outputs": [
    {
     "data": {
      "text/plain": [
       "485"
      ]
     },
     "execution_count": 45,
     "metadata": {},
     "output_type": "execute_result"
    }
   ],
   "source": [
    "len(coordinates['latitude'])"
   ]
  },
  {
   "cell_type": "code",
   "execution_count": 46,
   "metadata": {},
   "outputs": [
    {
     "data": {
      "text/plain": [
       "485"
      ]
     },
     "execution_count": 46,
     "metadata": {},
     "output_type": "execute_result"
    }
   ],
   "source": [
    "len(coordinates['longitude'])"
   ]
  },
  {
   "cell_type": "code",
   "execution_count": 47,
   "metadata": {},
   "outputs": [
    {
     "data": {
      "text/plain": [
       "array([[-2.61563889e+01,  2.78858333e+01],\n",
       "       [-2.63196311e+01,  2.78244324e+01],\n",
       "       [-2.60433333e+01,  2.80644444e+01],\n",
       "       [ 4.23042300e+01, -8.30298610e+01],\n",
       "       [ 3.72649431e+01, -1.21818007e+02],\n",
       "       [ 3.72649431e+01, -1.21818007e+02],\n",
       "       [-2.62832168e+01,  2.79595970e+01],\n",
       "       [ 5.68000000e+01, -5.00000000e+00],\n",
       "       [ 5.13218837e+01, -1.05408816e+00],\n",
       "       [-2.60682406e+01,  2.80479844e+01],\n",
       "       [ 4.14203391e+01, -7.87286388e+01],\n",
       "       [ 4.68116511e+01, -6.40656002e+01],\n",
       "       [-2.63196311e+01,  2.78244324e+01],\n",
       "       [ 4.00820260e+01, -8.30252130e+01],\n",
       "       [-2.62294440e+01,  2.81805560e+01],\n",
       "       [-2.62294440e+01,  2.81805560e+01],\n",
       "       [-2.59992620e+01,  2.81259120e+01],\n",
       "       [-2.59992620e+01,  2.81259120e+01],\n",
       "       [-3.38107289e+01,  1.86675063e+01],\n",
       "       [ 3.80565876e+01, -1.22243858e+02],\n",
       "       [-4.52535683e+01,  1.69387084e+02],\n",
       "       [ 4.68116511e+01, -6.40656002e+01],\n",
       "       [-2.61763889e+01,  2.81425000e+01],\n",
       "       [-2.61923213e+01,  2.80361983e+01],\n",
       "       [-2.59992620e+01,  2.81259120e+01],\n",
       "       [-2.60961110e+01,  2.79750000e+01],\n",
       "       [-2.61763889e+01,  2.81425000e+01],\n",
       "       [-2.60050000e+01,  2.80038889e+01],\n",
       "       [ 3.31114513e+01, -1.10973446e+02],\n",
       "       [ 3.72649431e+01, -1.21818007e+02],\n",
       "       [-2.59992620e+01,  2.81259120e+01],\n",
       "       [-2.61923213e+01,  2.80361983e+01],\n",
       "       [-2.62294440e+01,  2.81805560e+01],\n",
       "       [ 5.14015129e+01, -6.55913900e-01],\n",
       "       [-2.60221753e+01,  2.82014478e+01],\n",
       "       [-2.61763889e+01,  2.81425000e+01],\n",
       "       [-2.60305556e+01,  2.80491667e+01],\n",
       "       [-2.61353958e+01,  2.82218742e+01],\n",
       "       [-2.60433333e+01,  2.80644444e+01],\n",
       "       [-2.62294440e+01,  2.81805560e+01],\n",
       "       [-2.61875000e+01,  2.82038889e+01],\n",
       "       [ 4.29013908e+01, -8.96623501e+01],\n",
       "       [-2.60961110e+01,  2.79750000e+01],\n",
       "       [ 4.68116511e+01, -6.40656002e+01],\n",
       "       [-2.60221753e+01,  2.82014478e+01],\n",
       "       [-2.58363890e+01,  2.81802780e+01],\n",
       "       [-2.60305556e+01,  2.80491667e+01],\n",
       "       [-2.60305556e+01,  2.80491667e+01],\n",
       "       [-2.62832168e+01,  2.79595970e+01],\n",
       "       [ 3.72649431e+01, -1.21818007e+02],\n",
       "       [-4.14744747e+01,  1.73833026e+02],\n",
       "       [ 4.24564323e+01, -7.10641820e+01],\n",
       "       [-2.60533333e+01,  2.80594444e+01],\n",
       "       [-2.60641667e+01,  2.79655556e+01],\n",
       "       [-2.59992620e+01,  2.81259120e+01],\n",
       "       [-3.68520950e+01,  1.74763180e+02],\n",
       "       [-2.60305556e+01,  2.80491667e+01],\n",
       "       [-2.62124639e+01,  2.82617471e+01],\n",
       "       [-2.61847650e+01,  2.83210725e+01],\n",
       "       [ 4.78278656e+01, -1.22305393e+02],\n",
       "       [-2.59992620e+01,  2.81259120e+01],\n",
       "       [ 3.41362075e+01, -1.18040150e+02],\n",
       "       [ 3.72649431e+01, -1.21818007e+02],\n",
       "       [-2.61763889e+01,  2.81425000e+01],\n",
       "       [-2.60909169e+01,  2.78719328e+01],\n",
       "       [-2.61111111e+01,  2.79716667e+01],\n",
       "       [-2.62294440e+01,  2.81805560e+01],\n",
       "       [-2.59992620e+01,  2.81259120e+01],\n",
       "       [-2.60433333e+01,  2.80644444e+01],\n",
       "       [ 4.06262044e+01, -7.58524214e+01],\n",
       "       [-2.63196311e+01,  2.78244324e+01],\n",
       "       [-2.58363890e+01,  2.81802780e+01],\n",
       "       [-2.62827778e+01,  2.80547222e+01],\n",
       "       [ 4.45433225e+00, -7.52868020e+01],\n",
       "       [-2.61353958e+01,  2.82218742e+01],\n",
       "       [ 3.72649431e+01, -1.21818007e+02],\n",
       "       [-2.60930844e+01,  2.81296278e+01],\n",
       "       [-2.61930356e+01,  2.83082376e+01],\n",
       "       [ 4.68116511e+01, -6.40656002e+01],\n",
       "       [-2.61763889e+01,  2.81425000e+01],\n",
       "       [ 5.16281547e+01, -1.23596000e-01],\n",
       "       [ 3.31114513e+01, -1.10973446e+02],\n",
       "       [ 4.68116511e+01, -6.40656002e+01],\n",
       "       [ 4.68591287e+01, -8.87774734e+01],\n",
       "       [ 4.78278656e+01, -1.22305393e+02],\n",
       "       [ 4.68116511e+01, -6.40656002e+01],\n",
       "       [-2.59992620e+01,  2.81259120e+01],\n",
       "       [ 3.63132040e+01, -7.81416584e+01],\n",
       "       [-2.61763889e+01,  2.81425000e+01],\n",
       "       [-2.59992620e+01,  2.81259120e+01],\n",
       "       [-2.58363890e+01,  2.81802780e+01],\n",
       "       [-2.58363890e+01,  2.81802780e+01],\n",
       "       [-2.58363890e+01,  2.81802780e+01],\n",
       "       [-2.60305556e+01,  2.80491667e+01],\n",
       "       [ 4.06501038e+01, -7.39495823e+01],\n",
       "       [-2.62294440e+01,  2.81805560e+01],\n",
       "       [ 5.15106328e+01, -8.61271000e-02],\n",
       "       [-2.59992620e+01,  2.81259120e+01],\n",
       "       [ 3.78882168e+01, -9.53170208e+01],\n",
       "       [-2.61763889e+01,  2.81425000e+01],\n",
       "       [-2.62124639e+01,  2.82617471e+01],\n",
       "       [ 3.63132040e+01, -7.81416584e+01],\n",
       "       [ 5.23750125e+01,  4.85183408e+00],\n",
       "       [-2.62638889e+01,  2.80263889e+01],\n",
       "       [-2.60909169e+01,  2.78719328e+01],\n",
       "       [-2.61230494e+01,  2.79049454e+01],\n",
       "       [-2.58363890e+01,  2.81802780e+01],\n",
       "       [-2.60961110e+01,  2.79750000e+01],\n",
       "       [-2.62294440e+01,  2.81805560e+01],\n",
       "       [-2.57399812e+01,  2.82436658e+01],\n",
       "       [-2.62419444e+01,  2.79502778e+01],\n",
       "       [-2.62541460e+01,  2.79741875e+01],\n",
       "       [-2.62124639e+01,  2.82617471e+01],\n",
       "       [-2.60305556e+01,  2.80491667e+01],\n",
       "       [-2.61763889e+01,  2.81425000e+01],\n",
       "       [-2.61763889e+01,  2.81425000e+01],\n",
       "       [-2.62291667e+01,  2.80247222e+01],\n",
       "       [-2.62469444e+01,  2.79941667e+01],\n",
       "       [ 4.06262044e+01, -7.58524214e+01],\n",
       "       [ 4.68116511e+01, -6.40656002e+01],\n",
       "       [-2.61923213e+01,  2.80361983e+01],\n",
       "       [-2.62294440e+01,  2.81805560e+01],\n",
       "       [-2.60305556e+01,  2.80491667e+01],\n",
       "       [ 4.68591287e+01, -8.87774734e+01],\n",
       "       [-2.60433333e+01,  2.80644444e+01],\n",
       "       [-2.62291667e+01,  2.80247222e+01],\n",
       "       [-2.61763889e+01,  2.81425000e+01],\n",
       "       [ 4.68116511e+01, -6.40656002e+01],\n",
       "       [-2.57841667e+01,  2.82755556e+01],\n",
       "       [ 4.68591287e+01, -8.87774734e+01],\n",
       "       [-2.60955560e+01,  2.77755560e+01],\n",
       "       [-2.62294440e+01,  2.81805560e+01],\n",
       "       [-2.61749941e+01,  2.79405503e+01],\n",
       "       [-2.61763889e+01,  2.81425000e+01],\n",
       "       [-2.61763889e+01,  2.81425000e+01],\n",
       "       [-3.39465472e+01,  1.83781186e+01],\n",
       "       [ 5.17634675e+01, -2.25874100e-01],\n",
       "       [-2.60682406e+01,  2.80479844e+01],\n",
       "       [-2.58116667e+01,  2.82541667e+01],\n",
       "       [-2.56969444e+01,  2.81400000e+01],\n",
       "       [ 3.72649431e+01, -1.21818007e+02],\n",
       "       [-2.60533333e+01,  2.80594444e+01],\n",
       "       [-2.61930356e+01,  2.83082376e+01],\n",
       "       [-2.58363890e+01,  2.81802780e+01],\n",
       "       [-2.60682406e+01,  2.80479844e+01],\n",
       "       [-2.61763889e+01,  2.81425000e+01],\n",
       "       [ 1.85518464e+01, -7.22920071e+01],\n",
       "       [-2.61763889e+01,  2.81425000e+01],\n",
       "       [ 4.73752671e+01, -1.09638758e+02],\n",
       "       [-2.60952778e+01,  2.80375000e+01],\n",
       "       [ 3.31114513e+01, -1.10973446e+02],\n",
       "       [ 4.68116511e+01, -6.40656002e+01],\n",
       "       [-2.63196311e+01,  2.78244324e+01],\n",
       "       [-2.55263889e+01,  2.80994444e+01],\n",
       "       [-2.59992620e+01,  2.81259120e+01],\n",
       "       [-2.60955560e+01,  2.77755560e+01],\n",
       "       [-2.61763889e+01,  2.81425000e+01],\n",
       "       [ 4.24564323e+01, -7.10641820e+01],\n",
       "       [ 3.72649431e+01, -1.21818007e+02],\n",
       "       [ 5.65575920e+01, -3.57507280e+00],\n",
       "       [ 3.72649431e+01, -1.21818007e+02],\n",
       "       [ 3.31114513e+01, -1.10973446e+02],\n",
       "       [-2.61563889e+01,  2.78858333e+01],\n",
       "       [-2.62294440e+01,  2.81805560e+01],\n",
       "       [ 3.31114513e+01, -1.10973446e+02],\n",
       "       [ 3.72649431e+01, -1.21818007e+02],\n",
       "       [-2.60050000e+01,  2.80038889e+01],\n",
       "       [-2.58363890e+01,  2.81802780e+01],\n",
       "       [-2.58363890e+01,  2.81802780e+01],\n",
       "       [-2.60305556e+01,  2.80491667e+01],\n",
       "       [-2.59992620e+01,  2.81259120e+01],\n",
       "       [-2.58363890e+01,  2.81802780e+01],\n",
       "       [-2.60909169e+01,  2.78719328e+01],\n",
       "       [ 4.68116511e+01, -6.40656002e+01],\n",
       "       [ 4.73752671e+01, -1.09638758e+02],\n",
       "       [ 5.23750125e+01,  4.85183408e+00],\n",
       "       [-2.58363890e+01,  2.81802780e+01],\n",
       "       [-2.63196311e+01,  2.78244324e+01],\n",
       "       [-2.61763889e+01,  2.81425000e+01],\n",
       "       [-2.61763889e+01,  2.81425000e+01],\n",
       "       [-2.60682406e+01,  2.80479844e+01],\n",
       "       [ 2.77567667e+01, -8.14639835e+01],\n",
       "       [-2.58363890e+01,  2.81802780e+01],\n",
       "       [-2.59992620e+01,  2.81259120e+01],\n",
       "       [-2.62294440e+01,  2.81805560e+01],\n",
       "       [ 5.12074112e+01,  2.65208033e+01],\n",
       "       [ 3.63132040e+01, -7.81416584e+01],\n",
       "       [-2.60221753e+01,  2.82014478e+01],\n",
       "       [-2.59992620e+01,  2.81259120e+01],\n",
       "       [-2.60555556e+01,  2.79788889e+01],\n",
       "       [ 4.68116511e+01, -6.40656002e+01],\n",
       "       [-2.60682406e+01,  2.80479844e+01],\n",
       "       [-2.58363890e+01,  2.81802780e+01],\n",
       "       [-2.61923213e+01,  2.80361983e+01],\n",
       "       [-3.39465472e+01,  1.83781186e+01],\n",
       "       [-2.61563889e+01,  2.78858333e+01],\n",
       "       [ 4.68116511e+01, -6.40656002e+01],\n",
       "       [-2.58116667e+01,  2.82541667e+01],\n",
       "       [ 3.72649431e+01, -1.21818007e+02],\n",
       "       [-2.62124639e+01,  2.82617471e+01],\n",
       "       [-2.61930356e+01,  2.83082376e+01],\n",
       "       [-2.61923213e+01,  2.80361983e+01],\n",
       "       [ 4.68116511e+01, -6.40656002e+01],\n",
       "       [ 3.72649431e+01, -1.21818007e+02],\n",
       "       [-2.59992620e+01,  2.81259120e+01],\n",
       "       [-2.61111111e+01,  2.79716667e+01],\n",
       "       [ 4.68116511e+01, -6.40656002e+01],\n",
       "       [ 2.85421097e+01, -8.13790388e+01],\n",
       "       [ 5.14015129e+01, -6.55913900e-01],\n",
       "       [ 5.65655711e+01, -3.58625460e+00],\n",
       "       [-2.61111111e+01,  2.79716667e+01],\n",
       "       [-2.61763889e+01,  2.81425000e+01],\n",
       "       [-2.63196311e+01,  2.78244324e+01],\n",
       "       [-2.61930356e+01,  2.83082376e+01],\n",
       "       [-2.58363890e+01,  2.81802780e+01],\n",
       "       [-2.58363890e+01,  2.81802780e+01],\n",
       "       [-4.52535683e+01,  1.69387084e+02],\n",
       "       [-2.58363890e+01,  2.81802780e+01],\n",
       "       [-2.61763889e+01,  2.81425000e+01],\n",
       "       [ 4.15051613e+01, -8.16934446e+01],\n",
       "       [ 4.06262044e+01, -7.58524214e+01],\n",
       "       [ 5.13218837e+01, -1.05408816e+00],\n",
       "       [ 5.58768457e+01, -4.25154640e+00],\n",
       "       [ 4.78278656e+01, -1.22305393e+02],\n",
       "       [ 3.72649431e+01, -1.21818007e+02],\n",
       "       [-2.60050000e+01,  2.80038889e+01],\n",
       "       [ 3.85665114e+01, -7.76047105e+01],\n",
       "       [-2.61353958e+01,  2.82218742e+01],\n",
       "       [-2.58563889e+01,  2.82102778e+01],\n",
       "       [-2.59992620e+01,  2.81259120e+01],\n",
       "       [ 3.77584406e+01, -8.18440070e+01],\n",
       "       [ 5.23750125e+01,  4.85183408e+00],\n",
       "       [-2.60305556e+01,  2.80491667e+01],\n",
       "       [-2.58363890e+01,  2.81802780e+01],\n",
       "       [ 3.72649431e+01, -1.21818007e+02],\n",
       "       [-2.59992620e+01,  2.81259120e+01],\n",
       "       [ 3.08601590e+01, -1.00600857e+02],\n",
       "       [-2.60955560e+01,  2.77755560e+01],\n",
       "       [-2.59992620e+01,  2.81259120e+01],\n",
       "       [-2.62294440e+01,  2.81805560e+01],\n",
       "       [-2.62288889e+01,  2.79394444e+01],\n",
       "       [-2.60305556e+01,  2.80491667e+01],\n",
       "       [-2.59992620e+01,  2.81259120e+01],\n",
       "       [-2.59992620e+01,  2.81259120e+01],\n",
       "       [ 3.72649431e+01, -1.21818007e+02],\n",
       "       [-2.61763889e+01,  2.81425000e+01],\n",
       "       [-2.60050000e+01,  2.80038889e+01],\n",
       "       [-2.60050000e+01,  2.80038889e+01],\n",
       "       [-2.62294440e+01,  2.81805560e+01],\n",
       "       [-2.62294440e+01,  2.81805560e+01],\n",
       "       [-3.39465472e+01,  1.83781186e+01],\n",
       "       [ 3.31114513e+01, -1.10973446e+02],\n",
       "       [-2.60909169e+01,  2.78719328e+01],\n",
       "       [-2.59992620e+01,  2.81259120e+01],\n",
       "       [ 4.20410030e+01, -7.41183290e+01],\n",
       "       [-2.59992620e+01,  2.81259120e+01],\n",
       "       [-2.59992620e+01,  2.81259120e+01],\n",
       "       [-2.60682406e+01,  2.80479844e+01],\n",
       "       [-2.61763889e+01,  2.81425000e+01],\n",
       "       [ 3.72649431e+01, -1.21818007e+02],\n",
       "       [-2.61763889e+01,  2.81425000e+01],\n",
       "       [-2.61763889e+01,  2.81425000e+01],\n",
       "       [-2.61763889e+01,  2.81425000e+01],\n",
       "       [-2.58116667e+01,  2.82541667e+01],\n",
       "       [ 4.24564323e+01, -7.10641820e+01],\n",
       "       [-2.58363890e+01,  2.81802780e+01],\n",
       "       [-3.40036249e+01,  1.84672507e+01],\n",
       "       [-2.60305556e+01,  2.80491667e+01],\n",
       "       [-2.59992620e+01,  2.81259120e+01],\n",
       "       [-2.60682406e+01,  2.80479844e+01],\n",
       "       [ 4.06262044e+01, -7.58524214e+01],\n",
       "       [-3.39465472e+01,  1.83781186e+01],\n",
       "       [-2.61749941e+01,  2.79405503e+01],\n",
       "       [-2.61763889e+01,  2.81425000e+01],\n",
       "       [-2.59992620e+01,  2.81259120e+01],\n",
       "       [ 4.73752671e+01, -1.09638758e+02],\n",
       "       [-2.65583333e+01,  2.80197222e+01],\n",
       "       [-2.62294440e+01,  2.81805560e+01],\n",
       "       [-2.56969444e+01,  2.81400000e+01],\n",
       "       [-2.60305556e+01,  2.80491667e+01],\n",
       "       [ 4.68116511e+01, -6.40656002e+01],\n",
       "       [-2.59992620e+01,  2.81259120e+01],\n",
       "       [ 3.63132040e+01, -7.81416584e+01],\n",
       "       [-2.60305556e+01,  2.80491667e+01],\n",
       "       [-2.60305556e+01,  2.80491667e+01],\n",
       "       [-2.61763889e+01,  2.81425000e+01],\n",
       "       [ 4.02434691e+01, -1.24123524e+02],\n",
       "       [-4.52535683e+01,  1.69387084e+02],\n",
       "       [ 1.21117027e+01, -6.17108185e+01],\n",
       "       [-2.62227778e+01,  2.78900000e+01],\n",
       "       [ 3.72649431e+01, -1.21818007e+02],\n",
       "       [-2.61353958e+01,  2.82218742e+01],\n",
       "       [ 2.77567667e+01, -8.14639835e+01],\n",
       "       [ 3.72649431e+01, -1.21818007e+02],\n",
       "       [-2.60909169e+01,  2.78719328e+01],\n",
       "       [-2.62827778e+01,  2.80547222e+01],\n",
       "       [-2.59884529e+01,  2.80074691e+01],\n",
       "       [-2.61763889e+01,  2.81425000e+01],\n",
       "       [ 3.32556730e+01, -8.75622290e+01],\n",
       "       [ 4.68116511e+01, -6.40656002e+01],\n",
       "       [ 3.72649431e+01, -1.21818007e+02],\n",
       "       [ 3.72649431e+01, -1.21818007e+02],\n",
       "       [-2.59992620e+01,  2.81259120e+01],\n",
       "       [-2.60533333e+01,  2.80594444e+01],\n",
       "       [-2.61930356e+01,  2.83082376e+01],\n",
       "       [ 3.72649431e+01, -1.21818007e+02],\n",
       "       [ 3.72649431e+01, -1.21818007e+02],\n",
       "       [-2.60305556e+01,  2.80491667e+01],\n",
       "       [ 4.06262044e+01, -7.58524214e+01],\n",
       "       [ 3.31114513e+01, -1.10973446e+02],\n",
       "       [-2.62291667e+01,  2.80247222e+01],\n",
       "       [-2.58363890e+01,  2.81802780e+01],\n",
       "       [ 3.72649431e+01, -1.21818007e+02],\n",
       "       [-2.59992620e+01,  2.81259120e+01],\n",
       "       [ 4.68116511e+01, -6.40656002e+01],\n",
       "       [-2.62294440e+01,  2.81805560e+01],\n",
       "       [ 5.08599713e+01, -2.18487050e+00],\n",
       "       [-2.59992620e+01,  2.81259120e+01],\n",
       "       [ 3.72649431e+01, -1.21818007e+02],\n",
       "       [-2.63196311e+01,  2.78244324e+01],\n",
       "       [-2.61763889e+01,  2.81425000e+01],\n",
       "       [-2.61563889e+01,  2.79208333e+01],\n",
       "       [-2.63196311e+01,  2.78244324e+01],\n",
       "       [-2.62294440e+01,  2.81805560e+01],\n",
       "       [-3.36541599e+01,  1.89952725e+01],\n",
       "       [-2.61923213e+01,  2.80361983e+01],\n",
       "       [ 3.32556730e+01, -8.75622290e+01],\n",
       "       [-3.03109266e+01,  2.52968228e+01],\n",
       "       [ 4.45934519e+01, -1.23922059e+02],\n",
       "       [ 5.14015129e+01, -6.55913900e-01],\n",
       "       [-2.60305556e+01,  2.80491667e+01],\n",
       "       [ 3.72649431e+01, -1.21818007e+02],\n",
       "       [-2.58363890e+01,  2.81802780e+01],\n",
       "       [ 3.72649431e+01, -1.21818007e+02],\n",
       "       [-2.62124639e+01,  2.82617471e+01],\n",
       "       [ 5.15106328e+01, -8.61271000e-02],\n",
       "       [ 4.68116511e+01, -6.40656002e+01],\n",
       "       [-2.61763889e+01,  2.81425000e+01],\n",
       "       [ 5.12443661e+01,  8.32989533e-02],\n",
       "       [-2.59992620e+01,  2.81259120e+01],\n",
       "       [-2.62294440e+01,  2.81805560e+01],\n",
       "       [-2.59992620e+01,  2.81259120e+01],\n",
       "       [ 4.68591287e+01, -8.87774734e+01],\n",
       "       [-2.62294440e+01,  2.81805560e+01],\n",
       "       [-2.58363890e+01,  2.81802780e+01],\n",
       "       [ 4.40322982e+01, -1.25682100e+00],\n",
       "       [-3.39465472e+01,  1.83781186e+01],\n",
       "       [ 4.24564323e+01, -7.10641820e+01],\n",
       "       [-2.59953936e+01,  2.80744259e+01],\n",
       "       [-2.62294440e+01,  2.81805560e+01],\n",
       "       [-2.62294440e+01,  2.81805560e+01],\n",
       "       [-2.59992620e+01,  2.81259120e+01],\n",
       "       [-2.58363890e+01,  2.81802780e+01],\n",
       "       [-2.58155556e+01,  2.82725000e+01],\n",
       "       [-2.58363890e+01,  2.81802780e+01],\n",
       "       [-2.61763889e+01,  2.81425000e+01],\n",
       "       [ 3.72649431e+01, -1.21818007e+02],\n",
       "       [-2.61111111e+01,  2.79716667e+01],\n",
       "       [ 3.63132040e+01, -7.81416584e+01],\n",
       "       [-2.60305556e+01,  2.80491667e+01],\n",
       "       [-2.56738889e+01,  2.82572222e+01],\n",
       "       [ 3.72649431e+01, -1.21818007e+02],\n",
       "       [ 4.68591287e+01, -8.87774734e+01],\n",
       "       [-2.61749941e+01,  2.79405503e+01],\n",
       "       [ 3.72649431e+01, -1.21818007e+02],\n",
       "       [-2.62124639e+01,  2.82617471e+01],\n",
       "       [-2.61111111e+01,  2.79716667e+01],\n",
       "       [ 4.68116511e+01, -6.40656002e+01],\n",
       "       [ 4.68116511e+01, -6.40656002e+01],\n",
       "       [ 5.14015129e+01, -6.55913900e-01],\n",
       "       [ 3.30123537e+01, -9.43654707e+01],\n",
       "       [-2.64568487e+01,  2.77677028e+01],\n",
       "       [-2.61930356e+01,  2.83082376e+01],\n",
       "       [ 5.14015129e+01, -6.55913900e-01],\n",
       "       [ 5.14015129e+01, -6.55913900e-01],\n",
       "       [-2.58363890e+01,  2.81802780e+01],\n",
       "       [-2.58155556e+01,  2.82725000e+01],\n",
       "       [-2.62294440e+01,  2.81805560e+01],\n",
       "       [-2.60305556e+01,  2.80491667e+01],\n",
       "       [-2.62291667e+01,  2.80247222e+01],\n",
       "       [-2.61763889e+01,  2.81425000e+01],\n",
       "       [ 5.08599713e+01, -2.18487050e+00],\n",
       "       [-4.14744747e+01,  1.73833026e+02],\n",
       "       [-2.56469444e+01,  2.82355556e+01],\n",
       "       [-2.60533333e+01,  2.80594444e+01],\n",
       "       [ 1.85518464e+01, -7.22920071e+01],\n",
       "       [-2.63196311e+01,  2.78244324e+01],\n",
       "       [-2.61763889e+01,  2.81425000e+01],\n",
       "       [ 4.29800700e+01, -7.52509966e+01],\n",
       "       [-2.59992620e+01,  2.81259120e+01],\n",
       "       [-2.60433333e+01,  2.80644444e+01],\n",
       "       [ 5.14015129e+01, -6.55913900e-01],\n",
       "       [-2.59992620e+01,  2.81259120e+01],\n",
       "       [-2.60909169e+01,  2.78719328e+01],\n",
       "       [-2.60533333e+01,  2.80594444e+01],\n",
       "       [-2.60305556e+01,  2.80491667e+01],\n",
       "       [ 3.31114513e+01, -1.10973446e+02],\n",
       "       [ 3.77584406e+01, -8.18440070e+01],\n",
       "       [-2.61763889e+01,  2.81425000e+01],\n",
       "       [-2.59992620e+01,  2.81259120e+01],\n",
       "       [-2.62294440e+01,  2.81805560e+01],\n",
       "       [-2.62294440e+01,  2.81805560e+01],\n",
       "       [ 3.72649431e+01, -1.21818007e+02],\n",
       "       [ 4.78278656e+01, -1.22305393e+02],\n",
       "       [-2.59992620e+01,  2.81259120e+01],\n",
       "       [ 4.16461506e+01, -8.82067680e+00],\n",
       "       [-2.58363890e+01,  2.81802780e+01],\n",
       "       [ 5.14015129e+01, -6.55913900e-01],\n",
       "       [ 5.23750125e+01,  4.85183408e+00],\n",
       "       [-2.61923213e+01,  2.80361983e+01],\n",
       "       [-2.58363890e+01,  2.81802780e+01],\n",
       "       [-2.60433333e+01,  2.80644444e+01],\n",
       "       [-2.62294440e+01,  2.81805560e+01],\n",
       "       [-2.59992620e+01,  2.81259120e+01],\n",
       "       [-2.60305556e+01,  2.80491667e+01],\n",
       "       [-2.63196311e+01,  2.78244324e+01],\n",
       "       [-2.63196311e+01,  2.78244324e+01],\n",
       "       [-2.61111111e+01,  2.79716667e+01],\n",
       "       [-3.39066667e+01,  1.85491667e+01],\n",
       "       [-2.61763889e+01,  2.81425000e+01],\n",
       "       [-2.60682406e+01,  2.80479844e+01],\n",
       "       [-2.60433333e+01,  2.80644444e+01],\n",
       "       [ 3.72649431e+01, -1.21818007e+02],\n",
       "       [ 5.25172930e+01,  4.65397671e+00],\n",
       "       [ 4.02434691e+01, -1.24123524e+02],\n",
       "       [-2.62638889e+01,  2.80263889e+01],\n",
       "       [-2.62725000e+01,  2.79961111e+01],\n",
       "       [-2.59992620e+01,  2.81259120e+01],\n",
       "       [ 2.77567667e+01, -8.14639835e+01],\n",
       "       [-2.60682406e+01,  2.80479844e+01],\n",
       "       [-2.59992620e+01,  2.81259120e+01],\n",
       "       [-2.63196311e+01,  2.78244324e+01],\n",
       "       [ 4.68116511e+01, -6.40656002e+01],\n",
       "       [-2.58363890e+01,  2.81802780e+01],\n",
       "       [-2.63196311e+01,  2.78244324e+01],\n",
       "       [ 4.06262044e+01, -7.58524214e+01],\n",
       "       [-2.61763889e+01,  2.81425000e+01],\n",
       "       [-2.57752778e+01,  2.82183333e+01],\n",
       "       [-2.62227778e+01,  2.78900000e+01],\n",
       "       [ 4.02434691e+01, -1.24123524e+02],\n",
       "       [ 4.68116511e+01, -6.40656002e+01],\n",
       "       [-2.60682406e+01,  2.80479844e+01],\n",
       "       [-3.39516566e+01, -6.64092160e+01],\n",
       "       [ 4.68116511e+01, -6.40656002e+01],\n",
       "       [ 3.63132040e+01, -7.81416584e+01],\n",
       "       [-2.60433333e+01,  2.80644444e+01],\n",
       "       [-2.62158297e+01,  2.80864332e+01],\n",
       "       [ 4.68116511e+01, -6.40656002e+01],\n",
       "       [-2.58363890e+01,  2.81802780e+01],\n",
       "       [ 4.78278656e+01, -1.22305393e+02],\n",
       "       [ 3.72649431e+01, -1.21818007e+02],\n",
       "       [-2.60050000e+01,  2.80038889e+01],\n",
       "       [-2.63196311e+01,  2.78244324e+01],\n",
       "       [ 4.06262044e+01, -7.58524214e+01],\n",
       "       [-2.62525000e+01,  2.81013889e+01],\n",
       "       [-2.61763889e+01,  2.81425000e+01],\n",
       "       [-2.62294440e+01,  2.81805560e+01],\n",
       "       [ 3.72649431e+01, -1.21818007e+02],\n",
       "       [ 4.56209000e+01,  9.76889300e+00],\n",
       "       [ 3.37500378e+01, -1.17870493e+02],\n",
       "       [ 3.72649431e+01, -1.21818007e+02],\n",
       "       [-2.61750000e+01,  2.79508333e+01],\n",
       "       [ 3.72649431e+01, -1.21818007e+02],\n",
       "       [ 5.14989948e+01, -1.99122900e-01],\n",
       "       [ 4.68116511e+01, -6.40656002e+01],\n",
       "       [ 5.35589459e+01, -2.58823698e-02],\n",
       "       [-2.59992620e+01,  2.81259120e+01],\n",
       "       [ 4.24564323e+01, -7.10641820e+01],\n",
       "       [-2.59992620e+01,  2.81259120e+01],\n",
       "       [-2.61763889e+01,  2.81425000e+01],\n",
       "       [ 5.08599713e+01, -2.18487050e+00],\n",
       "       [-2.59992620e+01,  2.81259120e+01],\n",
       "       [-2.60682406e+01,  2.80479844e+01],\n",
       "       [-2.58363890e+01,  2.81802780e+01],\n",
       "       [ 1.85518464e+01, -7.22920071e+01],\n",
       "       [-2.56969444e+01,  2.81400000e+01],\n",
       "       [-2.61763889e+01,  2.81425000e+01],\n",
       "       [ 4.06262044e+01, -7.58524214e+01],\n",
       "       [-2.60305556e+01,  2.80491667e+01],\n",
       "       [-2.62291667e+01,  2.80247222e+01],\n",
       "       [-2.58116667e+01,  2.82541667e+01],\n",
       "       [-2.57877778e+01,  2.81022222e+01],\n",
       "       [-2.60533333e+01,  2.80594444e+01],\n",
       "       [ 3.72649431e+01, -1.21818007e+02],\n",
       "       [ 5.29710895e+01,  6.68299615e+00]])"
      ]
     },
     "execution_count": 47,
     "metadata": {},
     "output_type": "execute_result"
    }
   ],
   "source": [
    "df3 = pd.DataFrame({'latitude' : coordinates['latitude'],'longitude' : coordinates['longitude']})\n",
    "df3.values"
   ]
  },
  {
   "cell_type": "code",
   "execution_count": 48,
   "metadata": {},
   "outputs": [],
   "source": [
    "# import folium\n",
    "# from folium import plugins\n",
    "# from folium.plugins import HeatMap\n",
    "\n",
    "\n",
    "# hmap = folium.Map(df3.values[0],\n",
    "#                     zoom_start = 9, control_scale = True) \n",
    "# # for i in range(0, len(df)):\n",
    "# #     folium.Marker(df.values[i], popup=df1['Gantry Name'].values[i], icon=folium.Icon(color='red')).add_to(hmap)\n",
    "\n",
    "\n",
    "# heat_data = df3.values\n",
    "# # Plot it on the map\n",
    "# hmap.add_child(HeatMap(heat_data, radius = 15, gradient={.4: 'blue', .65: 'lime', 1: 'red'}))\n",
    "\n",
    "\n",
    "# # Display the map\n",
    "# hmap"
   ]
  }
 ],
 "metadata": {
  "kernelspec": {
   "display_name": "Python 3",
   "language": "python",
   "name": "python3"
  },
  "language_info": {
   "codemirror_mode": {
    "name": "ipython",
    "version": 3
   },
   "file_extension": ".py",
   "mimetype": "text/x-python",
   "name": "python",
   "nbconvert_exporter": "python",
   "pygments_lexer": "ipython3",
   "version": "3.6.7"
  }
 },
 "nbformat": 4,
 "nbformat_minor": 2
}
