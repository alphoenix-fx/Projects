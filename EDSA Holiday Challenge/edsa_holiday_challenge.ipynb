{
  "nbformat": 4,
  "nbformat_minor": 0,
  "metadata": {
    "colab": {
      "name": "edsa-holiday-challenge.ipynb",
      "version": "0.3.2",
      "provenance": [],
      "collapsed_sections": []
    },
    "kernelspec": {
      "name": "python3",
      "display_name": "Python 3"
    },
    "accelerator": "TPU"
  },
  "cells": [
    {
      "cell_type": "code",
      "metadata": {
        "id": "ndEZcIF92wBh",
        "colab_type": "code",
        "outputId": "e5f8f6be-724e-4c39-f1a5-1d3557988c46",
        "colab": {
          "base_uri": "https://localhost:8080/",
          "height": 122
        }
      },
      "source": [
        "from google.colab import drive \n",
        "drive.mount('/content/gdrive')"
      ],
      "execution_count": 1,
      "outputs": [
        {
          "output_type": "stream",
          "text": [
            "Go to this URL in a browser: https://accounts.google.com/o/oauth2/auth?client_id=947318989803-6bn6qk8qdgf4n4g3pfee6491hc0brc4i.apps.googleusercontent.com&redirect_uri=urn%3Aietf%3Awg%3Aoauth%3A2.0%3Aoob&scope=email%20https%3A%2F%2Fwww.googleapis.com%2Fauth%2Fdocs.test%20https%3A%2F%2Fwww.googleapis.com%2Fauth%2Fdrive%20https%3A%2F%2Fwww.googleapis.com%2Fauth%2Fdrive.photos.readonly%20https%3A%2F%2Fwww.googleapis.com%2Fauth%2Fpeopleapi.readonly&response_type=code\n",
            "\n",
            "Enter your authorization code:\n",
            "··········\n",
            "Mounted at /content/gdrive\n"
          ],
          "name": "stdout"
        }
      ]
    },
    {
      "cell_type": "code",
      "metadata": {
        "id": "b2jpVXpAzC5R",
        "colab_type": "code",
        "colab": {}
      },
      "source": [
        "import numpy as np\n",
        "import pandas as pd\n",
        "from matplotlib import pyplot as plt\n",
        "import datetime\n",
        "import seaborn as sns\n",
        "import pickle\n",
        "from sklearn.metrics import accuracy_score, f1_score\n",
        "from sklearn.metrics import precision_score, recall_score\n",
        "from sklearn.model_selection import train_test_split\n",
        "from sklearn import metrics\n",
        "from sklearn.preprocessing import StandardScaler\n",
        "from sklearn.metrics import classification_report\n",
        "%matplotlib inline\n",
        "from sklearn.utils import resample\n",
        "import re\n",
        "import nltk\n",
        "from sklearn.linear_model import LogisticRegressionCV\n",
        "from sklearn.multiclass import OneVsRestClassifier\n",
        "from sklearn.feature_extraction.text import TfidfVectorizer\n",
        "from sklearn.feature_extraction.text import CountVectorizer\n",
        "from sklearn.metrics import mean_squared_error, r2_score"
      ],
      "execution_count": 0,
      "outputs": []
    },
    {
      "cell_type": "code",
      "metadata": {
        "id": "Rh39Q307zfYV",
        "colab_type": "code",
        "outputId": "479586df-0db0-4004-9e81-cfed0ee04033",
        "colab": {
          "base_uri": "https://localhost:8080/",
          "height": 359
        }
      },
      "source": [
        "train = pd.read_csv(\"gdrive/My Drive/Colab Notebooks/Kaggle/edsa-holiday-challenge/train.csv\")\n",
        "test = pd.read_csv(\"gdrive/My Drive/Colab Notebooks/Kaggle/edsa-holiday-challenge/test.csv\")\n",
        "train.head(10)"
      ],
      "execution_count": 3,
      "outputs": [
        {
          "output_type": "execute_result",
          "data": {
            "text/html": [
              "<div>\n",
              "<style scoped>\n",
              "    .dataframe tbody tr th:only-of-type {\n",
              "        vertical-align: middle;\n",
              "    }\n",
              "\n",
              "    .dataframe tbody tr th {\n",
              "        vertical-align: top;\n",
              "    }\n",
              "\n",
              "    .dataframe thead th {\n",
              "        text-align: right;\n",
              "    }\n",
              "</style>\n",
              "<table border=\"1\" class=\"dataframe\">\n",
              "  <thead>\n",
              "    <tr style=\"text-align: right;\">\n",
              "      <th></th>\n",
              "      <th>ID</th>\n",
              "      <th>ItemCategory</th>\n",
              "      <th>ItemCategory_New</th>\n",
              "    </tr>\n",
              "  </thead>\n",
              "  <tbody>\n",
              "    <tr>\n",
              "      <th>0</th>\n",
              "      <td>0</td>\n",
              "      <td>Inj 1.50 x Metacam 5mg/ml Injection for Dogs a...</td>\n",
              "      <td>anti-inflammatory injection</td>\n",
              "    </tr>\n",
              "    <tr>\n",
              "      <th>1</th>\n",
              "      <td>1</td>\n",
              "      <td>Mini metabolic profile</td>\n",
              "      <td>blood test</td>\n",
              "    </tr>\n",
              "    <tr>\n",
              "      <th>2</th>\n",
              "      <td>2</td>\n",
              "      <td>Biochemistry profile A</td>\n",
              "      <td>blood test</td>\n",
              "    </tr>\n",
              "    <tr>\n",
              "      <th>3</th>\n",
              "      <td>3</td>\n",
              "      <td>Comfortan Injection (CD Sch2) 4.35pm dose</td>\n",
              "      <td>analgesic injections</td>\n",
              "    </tr>\n",
              "    <tr>\n",
              "      <th>4</th>\n",
              "      <td>4</td>\n",
              "      <td>Micralax Enema 5ml</td>\n",
              "      <td>non specific medications</td>\n",
              "    </tr>\n",
              "    <tr>\n",
              "      <th>5</th>\n",
              "      <td>5</td>\n",
              "      <td>Chloramphenicol 0.5% eye drops *fridge*</td>\n",
              "      <td>topical eye medications</td>\n",
              "    </tr>\n",
              "    <tr>\n",
              "      <th>6</th>\n",
              "      <td>6</td>\n",
              "      <td>Feline-Skin Stitch Up-Simple</td>\n",
              "      <td>surgical time (cost per hour)</td>\n",
              "    </tr>\n",
              "    <tr>\n",
              "      <th>7</th>\n",
              "      <td>7</td>\n",
              "      <td>LAB BACT. CULTURE AND SENS SWAB (IDEXX)</td>\n",
              "      <td>laboratory fees</td>\n",
              "    </tr>\n",
              "    <tr>\n",
              "      <th>8</th>\n",
              "      <td>8</td>\n",
              "      <td>idexx haematology comp</td>\n",
              "      <td>blood test</td>\n",
              "    </tr>\n",
              "    <tr>\n",
              "      <th>9</th>\n",
              "      <td>9</td>\n",
              "      <td>INJECTION CAP</td>\n",
              "      <td>fluids</td>\n",
              "    </tr>\n",
              "  </tbody>\n",
              "</table>\n",
              "</div>"
            ],
            "text/plain": [
              "   ID  ...               ItemCategory_New\n",
              "0   0  ...    anti-inflammatory injection\n",
              "1   1  ...                     blood test\n",
              "2   2  ...                     blood test\n",
              "3   3  ...           analgesic injections\n",
              "4   4  ...       non specific medications\n",
              "5   5  ...        topical eye medications\n",
              "6   6  ...  surgical time (cost per hour)\n",
              "7   7  ...                laboratory fees\n",
              "8   8  ...                     blood test\n",
              "9   9  ...                         fluids\n",
              "\n",
              "[10 rows x 3 columns]"
            ]
          },
          "metadata": {
            "tags": []
          },
          "execution_count": 3
        }
      ]
    },
    {
      "cell_type": "code",
      "metadata": {
        "id": "Fof9jqp2cRCX",
        "colab_type": "code",
        "colab": {}
      },
      "source": [
        "# train['ItemCategory_New'] = train['ItemCategory_New'].apply(lambda x: x.lower())\n",
        "# train['ItemCategory_New'] =train['ItemCategory_New'].apply(lambda x: x.replace('unable to group as no description','other'))\n",
        "# train.head(10)"
      ],
      "execution_count": 0,
      "outputs": []
    },
    {
      "cell_type": "code",
      "metadata": {
        "id": "bHaQcKl3l-Ip",
        "colab_type": "code",
        "colab": {}
      },
      "source": [
        "# train.ItemCategory_New.value_counts()"
      ],
      "execution_count": 0,
      "outputs": []
    },
    {
      "cell_type": "code",
      "metadata": {
        "id": "f7bE6N9u0Ww_",
        "colab_type": "code",
        "outputId": "c60ea8d2-82d1-47b0-ea25-dd6a12fa445f",
        "colab": {
          "base_uri": "https://localhost:8080/",
          "height": 204
        }
      },
      "source": [
        "test.head()"
      ],
      "execution_count": 6,
      "outputs": [
        {
          "output_type": "execute_result",
          "data": {
            "text/html": [
              "<div>\n",
              "<style scoped>\n",
              "    .dataframe tbody tr th:only-of-type {\n",
              "        vertical-align: middle;\n",
              "    }\n",
              "\n",
              "    .dataframe tbody tr th {\n",
              "        vertical-align: top;\n",
              "    }\n",
              "\n",
              "    .dataframe thead th {\n",
              "        text-align: right;\n",
              "    }\n",
              "</style>\n",
              "<table border=\"1\" class=\"dataframe\">\n",
              "  <thead>\n",
              "    <tr style=\"text-align: right;\">\n",
              "      <th></th>\n",
              "      <th>ID</th>\n",
              "      <th>ItemCategory</th>\n",
              "    </tr>\n",
              "  </thead>\n",
              "  <tbody>\n",
              "    <tr>\n",
              "      <th>0</th>\n",
              "      <td>84485</td>\n",
              "      <td>Consultation - Repeat (HPC 10% Sales Discount)</td>\n",
              "    </tr>\n",
              "    <tr>\n",
              "      <th>1</th>\n",
              "      <td>84486</td>\n",
              "      <td>1 x Lab Lasercyte Haematology</td>\n",
              "    </tr>\n",
              "    <tr>\n",
              "      <th>2</th>\n",
              "      <td>84487</td>\n",
              "      <td>5x Metronidazole 200mg Tablets</td>\n",
              "    </tr>\n",
              "    <tr>\n",
              "      <th>3</th>\n",
              "      <td>84488</td>\n",
              "      <td>Subsequent Extra Large Radiograph</td>\n",
              "    </tr>\n",
              "    <tr>\n",
              "      <th>4</th>\n",
              "      <td>84489</td>\n",
              "      <td>30X SYNOQUIN MEDIUM TASTY TABLETS</td>\n",
              "    </tr>\n",
              "  </tbody>\n",
              "</table>\n",
              "</div>"
            ],
            "text/plain": [
              "      ID                                    ItemCategory\n",
              "0  84485  Consultation - Repeat (HPC 10% Sales Discount)\n",
              "1  84486                   1 x Lab Lasercyte Haematology\n",
              "2  84487                  5x Metronidazole 200mg Tablets\n",
              "3  84488               Subsequent Extra Large Radiograph\n",
              "4  84489               30X SYNOQUIN MEDIUM TASTY TABLETS"
            ]
          },
          "metadata": {
            "tags": []
          },
          "execution_count": 6
        }
      ]
    },
    {
      "cell_type": "markdown",
      "metadata": {
        "id": "evcmmPhl8Txa",
        "colab_type": "text"
      },
      "source": [
        "# Text Preprocessing"
      ]
    },
    {
      "cell_type": "code",
      "metadata": {
        "id": "YLl4LoojRQv-",
        "colab_type": "code",
        "colab": {}
      },
      "source": [
        "y = train[['ItemCategory_New']]\n",
        "test_ID = test['ID']\n",
        "# Now drop the  'Id' colums before the feature engineering process\n",
        "train.drop(['ItemCategory_New','ID'], axis=1, inplace=True)\n",
        "test.drop(['ID'], axis=1, inplace=True)"
      ],
      "execution_count": 0,
      "outputs": []
    },
    {
      "cell_type": "code",
      "metadata": {
        "id": "yydGBuToRQue",
        "colab_type": "code",
        "outputId": "24e8fe8d-9e16-4468-8a05-16667c0f0d0d",
        "colab": {
          "base_uri": "https://localhost:8080/",
          "height": 204
        }
      },
      "source": [
        "y.head()"
      ],
      "execution_count": 8,
      "outputs": [
        {
          "output_type": "execute_result",
          "data": {
            "text/html": [
              "<div>\n",
              "<style scoped>\n",
              "    .dataframe tbody tr th:only-of-type {\n",
              "        vertical-align: middle;\n",
              "    }\n",
              "\n",
              "    .dataframe tbody tr th {\n",
              "        vertical-align: top;\n",
              "    }\n",
              "\n",
              "    .dataframe thead th {\n",
              "        text-align: right;\n",
              "    }\n",
              "</style>\n",
              "<table border=\"1\" class=\"dataframe\">\n",
              "  <thead>\n",
              "    <tr style=\"text-align: right;\">\n",
              "      <th></th>\n",
              "      <th>ItemCategory_New</th>\n",
              "    </tr>\n",
              "  </thead>\n",
              "  <tbody>\n",
              "    <tr>\n",
              "      <th>0</th>\n",
              "      <td>anti-inflammatory injection</td>\n",
              "    </tr>\n",
              "    <tr>\n",
              "      <th>1</th>\n",
              "      <td>blood test</td>\n",
              "    </tr>\n",
              "    <tr>\n",
              "      <th>2</th>\n",
              "      <td>blood test</td>\n",
              "    </tr>\n",
              "    <tr>\n",
              "      <th>3</th>\n",
              "      <td>analgesic injections</td>\n",
              "    </tr>\n",
              "    <tr>\n",
              "      <th>4</th>\n",
              "      <td>non specific medications</td>\n",
              "    </tr>\n",
              "  </tbody>\n",
              "</table>\n",
              "</div>"
            ],
            "text/plain": [
              "              ItemCategory_New\n",
              "0  anti-inflammatory injection\n",
              "1                   blood test\n",
              "2                   blood test\n",
              "3         analgesic injections\n",
              "4     non specific medications"
            ]
          },
          "metadata": {
            "tags": []
          },
          "execution_count": 8
        }
      ]
    },
    {
      "cell_type": "code",
      "metadata": {
        "id": "dFQNrfPhSsRN",
        "colab_type": "code",
        "outputId": "da139240-13d3-48e7-c50f-86c7ee8da9f8",
        "colab": {
          "base_uri": "https://localhost:8080/",
          "height": 204
        }
      },
      "source": [
        "train.head()"
      ],
      "execution_count": 9,
      "outputs": [
        {
          "output_type": "execute_result",
          "data": {
            "text/html": [
              "<div>\n",
              "<style scoped>\n",
              "    .dataframe tbody tr th:only-of-type {\n",
              "        vertical-align: middle;\n",
              "    }\n",
              "\n",
              "    .dataframe tbody tr th {\n",
              "        vertical-align: top;\n",
              "    }\n",
              "\n",
              "    .dataframe thead th {\n",
              "        text-align: right;\n",
              "    }\n",
              "</style>\n",
              "<table border=\"1\" class=\"dataframe\">\n",
              "  <thead>\n",
              "    <tr style=\"text-align: right;\">\n",
              "      <th></th>\n",
              "      <th>ItemCategory</th>\n",
              "    </tr>\n",
              "  </thead>\n",
              "  <tbody>\n",
              "    <tr>\n",
              "      <th>0</th>\n",
              "      <td>Inj 1.50 x Metacam 5mg/ml Injection for Dogs a...</td>\n",
              "    </tr>\n",
              "    <tr>\n",
              "      <th>1</th>\n",
              "      <td>Mini metabolic profile</td>\n",
              "    </tr>\n",
              "    <tr>\n",
              "      <th>2</th>\n",
              "      <td>Biochemistry profile A</td>\n",
              "    </tr>\n",
              "    <tr>\n",
              "      <th>3</th>\n",
              "      <td>Comfortan Injection (CD Sch2) 4.35pm dose</td>\n",
              "    </tr>\n",
              "    <tr>\n",
              "      <th>4</th>\n",
              "      <td>Micralax Enema 5ml</td>\n",
              "    </tr>\n",
              "  </tbody>\n",
              "</table>\n",
              "</div>"
            ],
            "text/plain": [
              "                                        ItemCategory\n",
              "0  Inj 1.50 x Metacam 5mg/ml Injection for Dogs a...\n",
              "1                             Mini metabolic profile\n",
              "2                             Biochemistry profile A\n",
              "3          Comfortan Injection (CD Sch2) 4.35pm dose\n",
              "4                                 Micralax Enema 5ml"
            ]
          },
          "metadata": {
            "tags": []
          },
          "execution_count": 9
        }
      ]
    },
    {
      "cell_type": "code",
      "metadata": {
        "id": "KmHU1uYGTQSK",
        "colab_type": "code",
        "outputId": "af17046f-5991-4b24-e7ad-688a34a04147",
        "colab": {
          "base_uri": "https://localhost:8080/",
          "height": 204
        }
      },
      "source": [
        "test.head()"
      ],
      "execution_count": 10,
      "outputs": [
        {
          "output_type": "execute_result",
          "data": {
            "text/html": [
              "<div>\n",
              "<style scoped>\n",
              "    .dataframe tbody tr th:only-of-type {\n",
              "        vertical-align: middle;\n",
              "    }\n",
              "\n",
              "    .dataframe tbody tr th {\n",
              "        vertical-align: top;\n",
              "    }\n",
              "\n",
              "    .dataframe thead th {\n",
              "        text-align: right;\n",
              "    }\n",
              "</style>\n",
              "<table border=\"1\" class=\"dataframe\">\n",
              "  <thead>\n",
              "    <tr style=\"text-align: right;\">\n",
              "      <th></th>\n",
              "      <th>ItemCategory</th>\n",
              "    </tr>\n",
              "  </thead>\n",
              "  <tbody>\n",
              "    <tr>\n",
              "      <th>0</th>\n",
              "      <td>Consultation - Repeat (HPC 10% Sales Discount)</td>\n",
              "    </tr>\n",
              "    <tr>\n",
              "      <th>1</th>\n",
              "      <td>1 x Lab Lasercyte Haematology</td>\n",
              "    </tr>\n",
              "    <tr>\n",
              "      <th>2</th>\n",
              "      <td>5x Metronidazole 200mg Tablets</td>\n",
              "    </tr>\n",
              "    <tr>\n",
              "      <th>3</th>\n",
              "      <td>Subsequent Extra Large Radiograph</td>\n",
              "    </tr>\n",
              "    <tr>\n",
              "      <th>4</th>\n",
              "      <td>30X SYNOQUIN MEDIUM TASTY TABLETS</td>\n",
              "    </tr>\n",
              "  </tbody>\n",
              "</table>\n",
              "</div>"
            ],
            "text/plain": [
              "                                     ItemCategory\n",
              "0  Consultation - Repeat (HPC 10% Sales Discount)\n",
              "1                   1 x Lab Lasercyte Haematology\n",
              "2                  5x Metronidazole 200mg Tablets\n",
              "3               Subsequent Extra Large Radiograph\n",
              "4               30X SYNOQUIN MEDIUM TASTY TABLETS"
            ]
          },
          "metadata": {
            "tags": []
          },
          "execution_count": 10
        }
      ]
    },
    {
      "cell_type": "code",
      "metadata": {
        "id": "xzlZXLOYTDaj",
        "colab_type": "code",
        "outputId": "ac07ab83-098a-45e7-8e5f-04b72114dc68",
        "colab": {
          "base_uri": "https://localhost:8080/",
          "height": 204
        }
      },
      "source": [
        "# Put all the features to gether for transformation\n",
        "features = pd.concat([train, test],sort=False).reset_index(drop=True)\n",
        "features.head()"
      ],
      "execution_count": 11,
      "outputs": [
        {
          "output_type": "execute_result",
          "data": {
            "text/html": [
              "<div>\n",
              "<style scoped>\n",
              "    .dataframe tbody tr th:only-of-type {\n",
              "        vertical-align: middle;\n",
              "    }\n",
              "\n",
              "    .dataframe tbody tr th {\n",
              "        vertical-align: top;\n",
              "    }\n",
              "\n",
              "    .dataframe thead th {\n",
              "        text-align: right;\n",
              "    }\n",
              "</style>\n",
              "<table border=\"1\" class=\"dataframe\">\n",
              "  <thead>\n",
              "    <tr style=\"text-align: right;\">\n",
              "      <th></th>\n",
              "      <th>ItemCategory</th>\n",
              "    </tr>\n",
              "  </thead>\n",
              "  <tbody>\n",
              "    <tr>\n",
              "      <th>0</th>\n",
              "      <td>Inj 1.50 x Metacam 5mg/ml Injection for Dogs a...</td>\n",
              "    </tr>\n",
              "    <tr>\n",
              "      <th>1</th>\n",
              "      <td>Mini metabolic profile</td>\n",
              "    </tr>\n",
              "    <tr>\n",
              "      <th>2</th>\n",
              "      <td>Biochemistry profile A</td>\n",
              "    </tr>\n",
              "    <tr>\n",
              "      <th>3</th>\n",
              "      <td>Comfortan Injection (CD Sch2) 4.35pm dose</td>\n",
              "    </tr>\n",
              "    <tr>\n",
              "      <th>4</th>\n",
              "      <td>Micralax Enema 5ml</td>\n",
              "    </tr>\n",
              "  </tbody>\n",
              "</table>\n",
              "</div>"
            ],
            "text/plain": [
              "                                        ItemCategory\n",
              "0  Inj 1.50 x Metacam 5mg/ml Injection for Dogs a...\n",
              "1                             Mini metabolic profile\n",
              "2                             Biochemistry profile A\n",
              "3          Comfortan Injection (CD Sch2) 4.35pm dose\n",
              "4                                 Micralax Enema 5ml"
            ]
          },
          "metadata": {
            "tags": []
          },
          "execution_count": 11
        }
      ]
    },
    {
      "cell_type": "code",
      "metadata": {
        "id": "C0pKmgXhTY86",
        "colab_type": "code",
        "outputId": "d4b988e2-d437-4d6a-b243-ad071e3dbd99",
        "colab": {
          "base_uri": "https://localhost:8080/",
          "height": 102
        }
      },
      "source": [
        "nltk.download('stopwords')\n",
        "nltk.download('wordnet')"
      ],
      "execution_count": 12,
      "outputs": [
        {
          "output_type": "stream",
          "text": [
            "[nltk_data] Downloading package stopwords to /root/nltk_data...\n",
            "[nltk_data]   Unzipping corpora/stopwords.zip.\n",
            "[nltk_data] Downloading package wordnet to /root/nltk_data...\n",
            "[nltk_data]   Unzipping corpora/wordnet.zip.\n"
          ],
          "name": "stdout"
        },
        {
          "output_type": "execute_result",
          "data": {
            "text/plain": [
              "True"
            ]
          },
          "metadata": {
            "tags": []
          },
          "execution_count": 12
        }
      ]
    },
    {
      "cell_type": "markdown",
      "metadata": {
        "id": "kC_RGlk08CQ9",
        "colab_type": "text"
      },
      "source": [
        "# Text to Features"
      ]
    },
    {
      "cell_type": "markdown",
      "metadata": {
        "id": "qVmCYdzD76C2",
        "colab_type": "text"
      },
      "source": [
        "**Create Features**"
      ]
    },
    {
      "cell_type": "code",
      "metadata": {
        "id": "tz4xlklLTn3B",
        "colab_type": "code",
        "colab": {}
      },
      "source": [
        "from nltk.stem.wordnet import WordNetLemmatizer \n",
        "from nltk.stem.porter import PorterStemmer\n",
        "from nltk.corpus import stopwords\n",
        "\n",
        "lem = WordNetLemmatizer()\n",
        "# ps = PorterStemmer()\n",
        "corpus =[]\n",
        "# cleaning text\n",
        "for i in range(0,len(features['ItemCategory'])):\n",
        "\n",
        "    item = re.sub('[^a-zA-Z]', ' ',str(features.iloc[i].values)) \n",
        "    item = item.lower()\n",
        "    item = item.split()\n",
        "    stop_wrds = set(stopwords.words('english'))\n",
        "    item = [lem.lemmatize(word, \"v\") for word in item if not word in stop_wrds]\n",
        "    item = ' '.join(item)\n",
        "    corpus.append(item)\n",
        "\n",
        "features['item_clean'] = corpus\n",
        "features.drop(['ItemCategory'], axis=1, inplace=True)         "
      ],
      "execution_count": 0,
      "outputs": []
    },
    {
      "cell_type": "code",
      "metadata": {
        "id": "P3sKO3wBT6zX",
        "colab_type": "code",
        "outputId": "785b9b43-c102-4d00-f8bb-b413a33fc79f",
        "colab": {
          "base_uri": "https://localhost:8080/",
          "height": 204
        }
      },
      "source": [
        "features.head()"
      ],
      "execution_count": 14,
      "outputs": [
        {
          "output_type": "execute_result",
          "data": {
            "text/html": [
              "<div>\n",
              "<style scoped>\n",
              "    .dataframe tbody tr th:only-of-type {\n",
              "        vertical-align: middle;\n",
              "    }\n",
              "\n",
              "    .dataframe tbody tr th {\n",
              "        vertical-align: top;\n",
              "    }\n",
              "\n",
              "    .dataframe thead th {\n",
              "        text-align: right;\n",
              "    }\n",
              "</style>\n",
              "<table border=\"1\" class=\"dataframe\">\n",
              "  <thead>\n",
              "    <tr style=\"text-align: right;\">\n",
              "      <th></th>\n",
              "      <th>item_clean</th>\n",
              "    </tr>\n",
              "  </thead>\n",
              "  <tbody>\n",
              "    <tr>\n",
              "      <th>0</th>\n",
              "      <td>inj x metacam mg ml injection dog cat ml bottl...</td>\n",
              "    </tr>\n",
              "    <tr>\n",
              "      <th>1</th>\n",
              "      <td>mini metabolic profile</td>\n",
              "    </tr>\n",
              "    <tr>\n",
              "      <th>2</th>\n",
              "      <td>biochemistry profile</td>\n",
              "    </tr>\n",
              "    <tr>\n",
              "      <th>3</th>\n",
              "      <td>comfortan injection cd sch pm dose</td>\n",
              "    </tr>\n",
              "    <tr>\n",
              "      <th>4</th>\n",
              "      <td>micralax enema ml</td>\n",
              "    </tr>\n",
              "  </tbody>\n",
              "</table>\n",
              "</div>"
            ],
            "text/plain": [
              "                                          item_clean\n",
              "0  inj x metacam mg ml injection dog cat ml bottl...\n",
              "1                             mini metabolic profile\n",
              "2                               biochemistry profile\n",
              "3                 comfortan injection cd sch pm dose\n",
              "4                                  micralax enema ml"
            ]
          },
          "metadata": {
            "tags": []
          },
          "execution_count": 14
        }
      ]
    },
    {
      "cell_type": "code",
      "metadata": {
        "id": "NF-x4HZmVDba",
        "colab_type": "code",
        "outputId": "6c6abf7e-6a47-463c-dc91-cae9859db907",
        "colab": {
          "base_uri": "https://localhost:8080/",
          "height": 748
        }
      },
      "source": [
        "# Statistical Features\n",
        "obj = TfidfVectorizer(ngram_range =(2,2), analyzer = 'char_wb')\n",
        "final_features = obj.fit_transform(features['item_clean'])\n",
        "print(final_features[0])\n",
        "\n",
        "# obj = CountVectorizer()\n",
        "# final_features = obj.fit_transform(features['item_clean'])\n",
        "# print(final_features[0])"
      ],
      "execution_count": 15,
      "outputs": [
        {
          "output_type": "stream",
          "text": [
            "  (0, 240)\t0.10418635020330713\n",
            "  (0, 622)\t0.15611505765167244\n",
            "  (0, 414)\t0.13898480979922512\n",
            "  (0, 326)\t0.10474974084459919\n",
            "  (0, 143)\t0.13038408639067917\n",
            "  (0, 131)\t0.060535032439626886\n",
            "  (0, 316)\t0.0893822950704924\n",
            "  (0, 524)\t0.18204587995066407\n",
            "  (0, 532)\t0.17238656529665744\n",
            "  (0, 410)\t0.14935369901626502\n",
            "  (0, 68)\t0.15362418261434344\n",
            "  (0, 1)\t0.1040048093482683\n",
            "  (0, 512)\t0.07573722606406456\n",
            "  (0, 46)\t0.08314838501760824\n",
            "  (0, 2)\t0.07135445592188894\n",
            "  (0, 397)\t0.10634910060675908\n",
            "  (0, 120)\t0.10929320073269456\n",
            "  (0, 3)\t0.08708274791497325\n",
            "  (0, 363)\t0.07327418738211959\n",
            "  (0, 404)\t0.0796147207505411\n",
            "  (0, 252)\t0.08546671467973334\n",
            "  (0, 521)\t0.07894977895023825\n",
            "  (0, 98)\t0.11235973047019691\n",
            "  (0, 134)\t0.11197935971911321\n",
            "  (0, 269)\t0.13339733208797735\n",
            "  (0, 311)\t0.2053467768715015\n",
            "  (0, 350)\t0.2847523572183857\n",
            "  (0, 185)\t0.1467365893637852\n",
            "  (0, 345)\t0.09075511397512427\n",
            "  (0, 338)\t0.2080402286040721\n",
            "  (0, 39)\t0.22316180377488715\n",
            "  (0, 79)\t0.2722967337760842\n",
            "  (0, 29)\t0.1182305387076179\n",
            "  (0, 513)\t0.08131084578583724\n",
            "  (0, 151)\t0.08754085448335161\n",
            "  (0, 343)\t0.21379237222251096\n",
            "  (0, 12)\t0.386011049695063\n",
            "  (0, 613)\t0.08692460379163978\n",
            "  (0, 23)\t0.09634738318261694\n",
            "  (0, 264)\t0.12665991991326467\n",
            "  (0, 373)\t0.21927843451698042\n",
            "  (0, 251)\t0.13483066911545527\n",
            "  (0, 8)\t0.16464825834722266\n"
          ],
          "name": "stdout"
        }
      ]
    },
    {
      "cell_type": "code",
      "metadata": {
        "id": "DjQA-qWZVM9Z",
        "colab_type": "code",
        "outputId": "c2ca8e05-6562-4c67-e274-c88c1c22031e",
        "colab": {
          "base_uri": "https://localhost:8080/",
          "height": 204
        }
      },
      "source": [
        "# create our target variables\n",
        "y=y.apply(lambda x: x.astype(str).str.lower())\n",
        "y.head()"
      ],
      "execution_count": 16,
      "outputs": [
        {
          "output_type": "execute_result",
          "data": {
            "text/html": [
              "<div>\n",
              "<style scoped>\n",
              "    .dataframe tbody tr th:only-of-type {\n",
              "        vertical-align: middle;\n",
              "    }\n",
              "\n",
              "    .dataframe tbody tr th {\n",
              "        vertical-align: top;\n",
              "    }\n",
              "\n",
              "    .dataframe thead th {\n",
              "        text-align: right;\n",
              "    }\n",
              "</style>\n",
              "<table border=\"1\" class=\"dataframe\">\n",
              "  <thead>\n",
              "    <tr style=\"text-align: right;\">\n",
              "      <th></th>\n",
              "      <th>ItemCategory_New</th>\n",
              "    </tr>\n",
              "  </thead>\n",
              "  <tbody>\n",
              "    <tr>\n",
              "      <th>0</th>\n",
              "      <td>anti-inflammatory injection</td>\n",
              "    </tr>\n",
              "    <tr>\n",
              "      <th>1</th>\n",
              "      <td>blood test</td>\n",
              "    </tr>\n",
              "    <tr>\n",
              "      <th>2</th>\n",
              "      <td>blood test</td>\n",
              "    </tr>\n",
              "    <tr>\n",
              "      <th>3</th>\n",
              "      <td>analgesic injections</td>\n",
              "    </tr>\n",
              "    <tr>\n",
              "      <th>4</th>\n",
              "      <td>non specific medications</td>\n",
              "    </tr>\n",
              "  </tbody>\n",
              "</table>\n",
              "</div>"
            ],
            "text/plain": [
              "              ItemCategory_New\n",
              "0  anti-inflammatory injection\n",
              "1                   blood test\n",
              "2                   blood test\n",
              "3         analgesic injections\n",
              "4     non specific medications"
            ]
          },
          "metadata": {
            "tags": []
          },
          "execution_count": 16
        }
      ]
    },
    {
      "cell_type": "markdown",
      "metadata": {
        "id": "qJXZNHMT7u6O",
        "colab_type": "text"
      },
      "source": [
        "**Create The Target Variable**"
      ]
    },
    {
      "cell_type": "code",
      "metadata": {
        "id": "Ccv84wM_WkNT",
        "colab_type": "code",
        "outputId": "a040b6c1-e39c-4443-d8e5-9c43963a89d3",
        "colab": {
          "base_uri": "https://localhost:8080/",
          "height": 1000
        }
      },
      "source": [
        "y.ItemCategory_New.value_counts()"
      ],
      "execution_count": 17,
      "outputs": [
        {
          "output_type": "execute_result",
          "data": {
            "text/plain": [
              "ultrasound                               7783\n",
              "physiotherapy                            7382\n",
              "blood test                               6755\n",
              "consultation fee                         5379\n",
              "laboratory fees                          4234\n",
              "fluids                                   3548\n",
              "anaesthetic (general) induction          3363\n",
              "anti-biotic tablets                      3015\n",
              "analgesic injections                     2397\n",
              "hospitalisation (cost per hour)          2308\n",
              "surgical time (cost per hour)            2244\n",
              "anti-biotic injection                    2215\n",
              "other                                    2090\n",
              "sedation                                 2059\n",
              "x-rays                                   2056\n",
              "anti-inflammatory injection              1950\n",
              "anti-inflammatory tablets                1889\n",
              "gastro-intestinal treatments             1348\n",
              "heart condition medications              1245\n",
              "skin/allergy medications                 1242\n",
              "analgesic tablets                        1167\n",
              "suture material                          1152\n",
              "non specific medications                 1149\n",
              "anti emetic drugs                        1142\n",
              "topical eye medications                   865\n",
              "food                                      862\n",
              "surgical sundries                         768\n",
              "bandaging                                 750\n",
              "buster collar                             721\n",
              "catheterisation                           706\n",
              "                                         ... \n",
              "simple procedures                         341\n",
              "diuretics                                 334\n",
              "topical ear medications                   326\n",
              "cushings and addisons treatment           308\n",
              "renal/urinary condition treatment         291\n",
              "observation/maintenance fees (ga)         281\n",
              "interpretation/examination charge         258\n",
              "liver condition treatment                 252\n",
              "flea and worm treatment (routine)         251\n",
              "referral consultation                     231\n",
              "specialist tests/investigations           222\n",
              "chemotherapy                              190\n",
              "nursing (cost per hour)                   189\n",
              "injection fee (sc/im)                     186\n",
              "ct scan                                   185\n",
              "gloves                                    160\n",
              "respiratory condition treatments          154\n",
              "drapes                                    143\n",
              "blood pressure measurement                135\n",
              "laser treatment                           127\n",
              "dispensing fees and prescription fees     127\n",
              "mri                                       119\n",
              "equine specific treatments                 85\n",
              "gowns                                      62\n",
              "syringes (non diabetes tx)                 56\n",
              "emetic drugs                               44\n",
              "pre-medications (if invoiced as)           38\n",
              "unable to group as no description          35\n",
              "blood transfusion                          21\n",
              "referral fee                               17\n",
              "Name: ItemCategory_New, Length: 71, dtype: int64"
            ]
          },
          "metadata": {
            "tags": []
          },
          "execution_count": 17
        }
      ]
    },
    {
      "cell_type": "code",
      "metadata": {
        "id": "WyuJXrvwXWR3",
        "colab_type": "code",
        "outputId": "70aa3b2f-c75f-40cf-bad7-28a9b73458cb",
        "colab": {
          "base_uri": "https://localhost:8080/",
          "height": 204
        }
      },
      "source": [
        "y_unique = y.ItemCategory_New.value_counts()\n",
        "y_unique = pd.DataFrame(y_unique)\n",
        "y_unique.head()"
      ],
      "execution_count": 18,
      "outputs": [
        {
          "output_type": "execute_result",
          "data": {
            "text/html": [
              "<div>\n",
              "<style scoped>\n",
              "    .dataframe tbody tr th:only-of-type {\n",
              "        vertical-align: middle;\n",
              "    }\n",
              "\n",
              "    .dataframe tbody tr th {\n",
              "        vertical-align: top;\n",
              "    }\n",
              "\n",
              "    .dataframe thead th {\n",
              "        text-align: right;\n",
              "    }\n",
              "</style>\n",
              "<table border=\"1\" class=\"dataframe\">\n",
              "  <thead>\n",
              "    <tr style=\"text-align: right;\">\n",
              "      <th></th>\n",
              "      <th>ItemCategory_New</th>\n",
              "    </tr>\n",
              "  </thead>\n",
              "  <tbody>\n",
              "    <tr>\n",
              "      <th>ultrasound</th>\n",
              "      <td>7783</td>\n",
              "    </tr>\n",
              "    <tr>\n",
              "      <th>physiotherapy</th>\n",
              "      <td>7382</td>\n",
              "    </tr>\n",
              "    <tr>\n",
              "      <th>blood test</th>\n",
              "      <td>6755</td>\n",
              "    </tr>\n",
              "    <tr>\n",
              "      <th>consultation fee</th>\n",
              "      <td>5379</td>\n",
              "    </tr>\n",
              "    <tr>\n",
              "      <th>laboratory fees</th>\n",
              "      <td>4234</td>\n",
              "    </tr>\n",
              "  </tbody>\n",
              "</table>\n",
              "</div>"
            ],
            "text/plain": [
              "                  ItemCategory_New\n",
              "ultrasound                    7783\n",
              "physiotherapy                 7382\n",
              "blood test                    6755\n",
              "consultation fee              5379\n",
              "laboratory fees               4234"
            ]
          },
          "metadata": {
            "tags": []
          },
          "execution_count": 18
        }
      ]
    },
    {
      "cell_type": "code",
      "metadata": {
        "id": "jH2FLOXmaEbR",
        "colab_type": "code",
        "outputId": "2b19ae50-1639-4b8b-cae6-4e3a1c7cd3d8",
        "colab": {
          "base_uri": "https://localhost:8080/",
          "height": 204
        }
      },
      "source": [
        "y_unique = y_unique.reset_index(drop=False)\n",
        "y_unique.head()"
      ],
      "execution_count": 19,
      "outputs": [
        {
          "output_type": "execute_result",
          "data": {
            "text/html": [
              "<div>\n",
              "<style scoped>\n",
              "    .dataframe tbody tr th:only-of-type {\n",
              "        vertical-align: middle;\n",
              "    }\n",
              "\n",
              "    .dataframe tbody tr th {\n",
              "        vertical-align: top;\n",
              "    }\n",
              "\n",
              "    .dataframe thead th {\n",
              "        text-align: right;\n",
              "    }\n",
              "</style>\n",
              "<table border=\"1\" class=\"dataframe\">\n",
              "  <thead>\n",
              "    <tr style=\"text-align: right;\">\n",
              "      <th></th>\n",
              "      <th>index</th>\n",
              "      <th>ItemCategory_New</th>\n",
              "    </tr>\n",
              "  </thead>\n",
              "  <tbody>\n",
              "    <tr>\n",
              "      <th>0</th>\n",
              "      <td>ultrasound</td>\n",
              "      <td>7783</td>\n",
              "    </tr>\n",
              "    <tr>\n",
              "      <th>1</th>\n",
              "      <td>physiotherapy</td>\n",
              "      <td>7382</td>\n",
              "    </tr>\n",
              "    <tr>\n",
              "      <th>2</th>\n",
              "      <td>blood test</td>\n",
              "      <td>6755</td>\n",
              "    </tr>\n",
              "    <tr>\n",
              "      <th>3</th>\n",
              "      <td>consultation fee</td>\n",
              "      <td>5379</td>\n",
              "    </tr>\n",
              "    <tr>\n",
              "      <th>4</th>\n",
              "      <td>laboratory fees</td>\n",
              "      <td>4234</td>\n",
              "    </tr>\n",
              "  </tbody>\n",
              "</table>\n",
              "</div>"
            ],
            "text/plain": [
              "              index  ItemCategory_New\n",
              "0        ultrasound              7783\n",
              "1     physiotherapy              7382\n",
              "2        blood test              6755\n",
              "3  consultation fee              5379\n",
              "4   laboratory fees              4234"
            ]
          },
          "metadata": {
            "tags": []
          },
          "execution_count": 19
        }
      ]
    },
    {
      "cell_type": "code",
      "metadata": {
        "id": "vxEykUIRaaIB",
        "colab_type": "code",
        "outputId": "52d84209-79e4-4c80-f795-1bc01a0a0238",
        "colab": {
          "base_uri": "https://localhost:8080/",
          "height": 204
        }
      },
      "source": [
        "y_unique.drop(['ItemCategory_New'], axis=1, inplace=True)  \n",
        "y_unique['New_ID'] = y_unique.index\n",
        "y_unique.head()"
      ],
      "execution_count": 20,
      "outputs": [
        {
          "output_type": "execute_result",
          "data": {
            "text/html": [
              "<div>\n",
              "<style scoped>\n",
              "    .dataframe tbody tr th:only-of-type {\n",
              "        vertical-align: middle;\n",
              "    }\n",
              "\n",
              "    .dataframe tbody tr th {\n",
              "        vertical-align: top;\n",
              "    }\n",
              "\n",
              "    .dataframe thead th {\n",
              "        text-align: right;\n",
              "    }\n",
              "</style>\n",
              "<table border=\"1\" class=\"dataframe\">\n",
              "  <thead>\n",
              "    <tr style=\"text-align: right;\">\n",
              "      <th></th>\n",
              "      <th>index</th>\n",
              "      <th>New_ID</th>\n",
              "    </tr>\n",
              "  </thead>\n",
              "  <tbody>\n",
              "    <tr>\n",
              "      <th>0</th>\n",
              "      <td>ultrasound</td>\n",
              "      <td>0</td>\n",
              "    </tr>\n",
              "    <tr>\n",
              "      <th>1</th>\n",
              "      <td>physiotherapy</td>\n",
              "      <td>1</td>\n",
              "    </tr>\n",
              "    <tr>\n",
              "      <th>2</th>\n",
              "      <td>blood test</td>\n",
              "      <td>2</td>\n",
              "    </tr>\n",
              "    <tr>\n",
              "      <th>3</th>\n",
              "      <td>consultation fee</td>\n",
              "      <td>3</td>\n",
              "    </tr>\n",
              "    <tr>\n",
              "      <th>4</th>\n",
              "      <td>laboratory fees</td>\n",
              "      <td>4</td>\n",
              "    </tr>\n",
              "  </tbody>\n",
              "</table>\n",
              "</div>"
            ],
            "text/plain": [
              "              index  New_ID\n",
              "0        ultrasound       0\n",
              "1     physiotherapy       1\n",
              "2        blood test       2\n",
              "3  consultation fee       3\n",
              "4   laboratory fees       4"
            ]
          },
          "metadata": {
            "tags": []
          },
          "execution_count": 20
        }
      ]
    },
    {
      "cell_type": "code",
      "metadata": {
        "id": "-ZNHVYcBpjNb",
        "colab_type": "code",
        "outputId": "f8bf8b2a-8648-4a83-ff61-8a1529a5743c",
        "colab": {
          "base_uri": "https://localhost:8080/",
          "height": 204
        }
      },
      "source": [
        "y_unique.tail()"
      ],
      "execution_count": 21,
      "outputs": [
        {
          "output_type": "execute_result",
          "data": {
            "text/html": [
              "<div>\n",
              "<style scoped>\n",
              "    .dataframe tbody tr th:only-of-type {\n",
              "        vertical-align: middle;\n",
              "    }\n",
              "\n",
              "    .dataframe tbody tr th {\n",
              "        vertical-align: top;\n",
              "    }\n",
              "\n",
              "    .dataframe thead th {\n",
              "        text-align: right;\n",
              "    }\n",
              "</style>\n",
              "<table border=\"1\" class=\"dataframe\">\n",
              "  <thead>\n",
              "    <tr style=\"text-align: right;\">\n",
              "      <th></th>\n",
              "      <th>index</th>\n",
              "      <th>New_ID</th>\n",
              "    </tr>\n",
              "  </thead>\n",
              "  <tbody>\n",
              "    <tr>\n",
              "      <th>66</th>\n",
              "      <td>emetic drugs</td>\n",
              "      <td>66</td>\n",
              "    </tr>\n",
              "    <tr>\n",
              "      <th>67</th>\n",
              "      <td>pre-medications (if invoiced as)</td>\n",
              "      <td>67</td>\n",
              "    </tr>\n",
              "    <tr>\n",
              "      <th>68</th>\n",
              "      <td>unable to group as no description</td>\n",
              "      <td>68</td>\n",
              "    </tr>\n",
              "    <tr>\n",
              "      <th>69</th>\n",
              "      <td>blood transfusion</td>\n",
              "      <td>69</td>\n",
              "    </tr>\n",
              "    <tr>\n",
              "      <th>70</th>\n",
              "      <td>referral fee</td>\n",
              "      <td>70</td>\n",
              "    </tr>\n",
              "  </tbody>\n",
              "</table>\n",
              "</div>"
            ],
            "text/plain": [
              "                                index  New_ID\n",
              "66                       emetic drugs      66\n",
              "67   pre-medications (if invoiced as)      67\n",
              "68  unable to group as no description      68\n",
              "69                  blood transfusion      69\n",
              "70                       referral fee      70"
            ]
          },
          "metadata": {
            "tags": []
          },
          "execution_count": 21
        }
      ]
    },
    {
      "cell_type": "code",
      "metadata": {
        "id": "FNdvXLj3pSv6",
        "colab_type": "code",
        "outputId": "1ed1513f-25f5-4602-d224-4fefb95ccae1",
        "colab": {
          "base_uri": "https://localhost:8080/",
          "height": 34
        }
      },
      "source": [
        "len(y_unique)"
      ],
      "execution_count": 22,
      "outputs": [
        {
          "output_type": "execute_result",
          "data": {
            "text/plain": [
              "71"
            ]
          },
          "metadata": {
            "tags": []
          },
          "execution_count": 22
        }
      ]
    },
    {
      "cell_type": "code",
      "metadata": {
        "id": "Cnq6etNWbEtu",
        "colab_type": "code",
        "outputId": "1338b17f-2372-4cb2-da1f-4b0b25809bd2",
        "colab": {
          "base_uri": "https://localhost:8080/",
          "height": 204
        }
      },
      "source": [
        "y.head()"
      ],
      "execution_count": 23,
      "outputs": [
        {
          "output_type": "execute_result",
          "data": {
            "text/html": [
              "<div>\n",
              "<style scoped>\n",
              "    .dataframe tbody tr th:only-of-type {\n",
              "        vertical-align: middle;\n",
              "    }\n",
              "\n",
              "    .dataframe tbody tr th {\n",
              "        vertical-align: top;\n",
              "    }\n",
              "\n",
              "    .dataframe thead th {\n",
              "        text-align: right;\n",
              "    }\n",
              "</style>\n",
              "<table border=\"1\" class=\"dataframe\">\n",
              "  <thead>\n",
              "    <tr style=\"text-align: right;\">\n",
              "      <th></th>\n",
              "      <th>ItemCategory_New</th>\n",
              "    </tr>\n",
              "  </thead>\n",
              "  <tbody>\n",
              "    <tr>\n",
              "      <th>0</th>\n",
              "      <td>anti-inflammatory injection</td>\n",
              "    </tr>\n",
              "    <tr>\n",
              "      <th>1</th>\n",
              "      <td>blood test</td>\n",
              "    </tr>\n",
              "    <tr>\n",
              "      <th>2</th>\n",
              "      <td>blood test</td>\n",
              "    </tr>\n",
              "    <tr>\n",
              "      <th>3</th>\n",
              "      <td>analgesic injections</td>\n",
              "    </tr>\n",
              "    <tr>\n",
              "      <th>4</th>\n",
              "      <td>non specific medications</td>\n",
              "    </tr>\n",
              "  </tbody>\n",
              "</table>\n",
              "</div>"
            ],
            "text/plain": [
              "              ItemCategory_New\n",
              "0  anti-inflammatory injection\n",
              "1                   blood test\n",
              "2                   blood test\n",
              "3         analgesic injections\n",
              "4     non specific medications"
            ]
          },
          "metadata": {
            "tags": []
          },
          "execution_count": 23
        }
      ]
    },
    {
      "cell_type": "code",
      "metadata": {
        "id": "eFOl5BDBbkaz",
        "colab_type": "code",
        "outputId": "97a47612-4b75-4c88-f2ab-0a0a357088cb",
        "colab": {
          "base_uri": "https://localhost:8080/",
          "height": 204
        }
      },
      "source": [
        "mapping = dict(y_unique[['index', 'New_ID']].values)\n",
        "y['Item_ID'] = y.ItemCategory_New.map(mapping)\n",
        "y.head()"
      ],
      "execution_count": 24,
      "outputs": [
        {
          "output_type": "execute_result",
          "data": {
            "text/html": [
              "<div>\n",
              "<style scoped>\n",
              "    .dataframe tbody tr th:only-of-type {\n",
              "        vertical-align: middle;\n",
              "    }\n",
              "\n",
              "    .dataframe tbody tr th {\n",
              "        vertical-align: top;\n",
              "    }\n",
              "\n",
              "    .dataframe thead th {\n",
              "        text-align: right;\n",
              "    }\n",
              "</style>\n",
              "<table border=\"1\" class=\"dataframe\">\n",
              "  <thead>\n",
              "    <tr style=\"text-align: right;\">\n",
              "      <th></th>\n",
              "      <th>ItemCategory_New</th>\n",
              "      <th>Item_ID</th>\n",
              "    </tr>\n",
              "  </thead>\n",
              "  <tbody>\n",
              "    <tr>\n",
              "      <th>0</th>\n",
              "      <td>anti-inflammatory injection</td>\n",
              "      <td>15</td>\n",
              "    </tr>\n",
              "    <tr>\n",
              "      <th>1</th>\n",
              "      <td>blood test</td>\n",
              "      <td>2</td>\n",
              "    </tr>\n",
              "    <tr>\n",
              "      <th>2</th>\n",
              "      <td>blood test</td>\n",
              "      <td>2</td>\n",
              "    </tr>\n",
              "    <tr>\n",
              "      <th>3</th>\n",
              "      <td>analgesic injections</td>\n",
              "      <td>8</td>\n",
              "    </tr>\n",
              "    <tr>\n",
              "      <th>4</th>\n",
              "      <td>non specific medications</td>\n",
              "      <td>22</td>\n",
              "    </tr>\n",
              "  </tbody>\n",
              "</table>\n",
              "</div>"
            ],
            "text/plain": [
              "              ItemCategory_New  Item_ID\n",
              "0  anti-inflammatory injection       15\n",
              "1                   blood test        2\n",
              "2                   blood test        2\n",
              "3         analgesic injections        8\n",
              "4     non specific medications       22"
            ]
          },
          "metadata": {
            "tags": []
          },
          "execution_count": 24
        }
      ]
    },
    {
      "cell_type": "code",
      "metadata": {
        "id": "ysXofStRgDqe",
        "colab_type": "code",
        "outputId": "48e34c60-9258-42ce-ba5c-dad9e32f2e53",
        "colab": {
          "base_uri": "https://localhost:8080/",
          "height": 204
        }
      },
      "source": [
        "y.drop(['ItemCategory_New'], axis=1, inplace=True)\n",
        "y.head()"
      ],
      "execution_count": 25,
      "outputs": [
        {
          "output_type": "execute_result",
          "data": {
            "text/html": [
              "<div>\n",
              "<style scoped>\n",
              "    .dataframe tbody tr th:only-of-type {\n",
              "        vertical-align: middle;\n",
              "    }\n",
              "\n",
              "    .dataframe tbody tr th {\n",
              "        vertical-align: top;\n",
              "    }\n",
              "\n",
              "    .dataframe thead th {\n",
              "        text-align: right;\n",
              "    }\n",
              "</style>\n",
              "<table border=\"1\" class=\"dataframe\">\n",
              "  <thead>\n",
              "    <tr style=\"text-align: right;\">\n",
              "      <th></th>\n",
              "      <th>Item_ID</th>\n",
              "    </tr>\n",
              "  </thead>\n",
              "  <tbody>\n",
              "    <tr>\n",
              "      <th>0</th>\n",
              "      <td>15</td>\n",
              "    </tr>\n",
              "    <tr>\n",
              "      <th>1</th>\n",
              "      <td>2</td>\n",
              "    </tr>\n",
              "    <tr>\n",
              "      <th>2</th>\n",
              "      <td>2</td>\n",
              "    </tr>\n",
              "    <tr>\n",
              "      <th>3</th>\n",
              "      <td>8</td>\n",
              "    </tr>\n",
              "    <tr>\n",
              "      <th>4</th>\n",
              "      <td>22</td>\n",
              "    </tr>\n",
              "  </tbody>\n",
              "</table>\n",
              "</div>"
            ],
            "text/plain": [
              "   Item_ID\n",
              "0       15\n",
              "1        2\n",
              "2        2\n",
              "3        8\n",
              "4       22"
            ]
          },
          "metadata": {
            "tags": []
          },
          "execution_count": 25
        }
      ]
    },
    {
      "cell_type": "code",
      "metadata": {
        "id": "EhDjliO2osrY",
        "colab_type": "code",
        "outputId": "0d4c7a9f-3e00-440a-a8a3-861bb2949661",
        "colab": {
          "base_uri": "https://localhost:8080/",
          "height": 34
        }
      },
      "source": [
        "len(y)"
      ],
      "execution_count": 26,
      "outputs": [
        {
          "output_type": "execute_result",
          "data": {
            "text/plain": [
              "84485"
            ]
          },
          "metadata": {
            "tags": []
          },
          "execution_count": 26
        }
      ]
    },
    {
      "cell_type": "code",
      "metadata": {
        "id": "KjU1OuKThEcK",
        "colab_type": "code",
        "outputId": "e4525333-6df9-46fe-9f37-336a3a38ce5d",
        "colab": {
          "base_uri": "https://localhost:8080/",
          "height": 51
        }
      },
      "source": [
        "# Spliting the data back to train(X,y) and test(X_sub)\n",
        "X = final_features[:len(y), :]\n",
        "X_test_final = final_features[len(y):, :]\n",
        "print('Features size for train(X,y) and test(X_test):')\n",
        "print('X', X.shape, 'y', y.shape, 'X_test', X_test_final.shape)"
      ],
      "execution_count": 27,
      "outputs": [
        {
          "output_type": "stream",
          "text": [
            "Features size for train(X,y) and test(X_test):\n",
            "X (84485, 685) y (84485, 1) X_test (14909, 685)\n"
          ],
          "name": "stdout"
        }
      ]
    },
    {
      "cell_type": "markdown",
      "metadata": {
        "id": "ePjnin2lhJHa",
        "colab_type": "text"
      },
      "source": [
        "# Text Classification"
      ]
    },
    {
      "cell_type": "code",
      "metadata": {
        "id": "0r2FJsAKOFHG",
        "colab_type": "code",
        "colab": {}
      },
      "source": [
        "from sklearn.multiclass import OneVsOneClassifier"
      ],
      "execution_count": 0,
      "outputs": []
    },
    {
      "cell_type": "code",
      "metadata": {
        "id": "9w5LMq1qe1N1",
        "colab_type": "code",
        "colab": {}
      },
      "source": [
        " X_train, X_test, y_train, y_test = train_test_split(X, y.values.ravel(), test_size=0.33)"
      ],
      "execution_count": 0,
      "outputs": []
    },
    {
      "cell_type": "code",
      "metadata": {
        "id": "6z7udBAkWpnM",
        "colab_type": "code",
        "colab": {}
      },
      "source": [
        "from sklearn.svm import LinearSVC\n",
        "model = LinearSVC(multi_class='ovr',dual=False, fit_intercept=False)"
      ],
      "execution_count": 0,
      "outputs": []
    },
    {
      "cell_type": "code",
      "metadata": {
        "id": "bc6nNxZphsdX",
        "colab_type": "code",
        "outputId": "eeccb4c9-e46a-4999-8c4a-91a3a6d06474",
        "colab": {
          "base_uri": "https://localhost:8080/",
          "height": 85
        }
      },
      "source": [
        "model.fit(X_train, y_train)"
      ],
      "execution_count": 31,
      "outputs": [
        {
          "output_type": "execute_result",
          "data": {
            "text/plain": [
              "LinearSVC(C=1.0, class_weight=None, dual=False, fit_intercept=False,\n",
              "          intercept_scaling=1, loss='squared_hinge', max_iter=1000,\n",
              "          multi_class='ovr', penalty='l2', random_state=None, tol=0.0001,\n",
              "          verbose=0)"
            ]
          },
          "metadata": {
            "tags": []
          },
          "execution_count": 31
        }
      ]
    },
    {
      "cell_type": "code",
      "metadata": {
        "id": "hJOFgB98htom",
        "colab_type": "code",
        "outputId": "fc656497-cb7b-402e-b52b-d7b92a9a4cdd",
        "colab": {
          "base_uri": "https://localhost:8080/",
          "height": 34
        }
      },
      "source": [
        "# y_pred = sc_y.inverse_transform(model.predict(X_test))\n",
        "y_pred = model.predict(X_test)\n",
        "y_pred"
      ],
      "execution_count": 32,
      "outputs": [
        {
          "output_type": "execute_result",
          "data": {
            "text/plain": [
              "array([11, 15, 13, ..., 34,  4,  3])"
            ]
          },
          "metadata": {
            "tags": []
          },
          "execution_count": 32
        }
      ]
    },
    {
      "cell_type": "code",
      "metadata": {
        "id": "r3--eRlyiBmW",
        "colab_type": "code",
        "outputId": "f7738ab5-fc9f-486d-8b95-d60c16bb3fac",
        "colab": {
          "base_uri": "https://localhost:8080/",
          "height": 34
        }
      },
      "source": [
        "print(\"Mean squared error: %.2f\"\n",
        "      % mean_squared_error(y_test, y_pred))"
      ],
      "execution_count": 33,
      "outputs": [
        {
          "output_type": "stream",
          "text": [
            "Mean squared error: 107.37\n"
          ],
          "name": "stdout"
        }
      ]
    },
    {
      "cell_type": "code",
      "metadata": {
        "id": "WToLGZoSyaDB",
        "colab_type": "code",
        "outputId": "9a07d52a-be79-4d1f-95e4-dfd0905e31ac",
        "colab": {
          "base_uri": "https://localhost:8080/",
          "height": 1000
        }
      },
      "source": [
        "# performance matrics and model eveluation using sklearn.metrics inbuilt classification metric\n",
        "print(classification_report(y_test, y_pred))"
      ],
      "execution_count": 34,
      "outputs": [
        {
          "output_type": "stream",
          "text": [
            "              precision    recall  f1-score   support\n",
            "\n",
            "           0       0.63      0.57      0.60      2527\n",
            "           1       0.60      0.59      0.59      2399\n",
            "           2       0.80      0.89      0.84      2233\n",
            "           3       0.78      0.79      0.78      1812\n",
            "           4       0.80      0.83      0.82      1438\n",
            "           5       0.85      0.92      0.88      1167\n",
            "           6       0.83      0.87      0.85      1149\n",
            "           7       0.88      0.93      0.90      1006\n",
            "           8       0.90      0.95      0.93       801\n",
            "           9       0.88      0.94      0.91       747\n",
            "          10       0.68      0.56      0.61       750\n",
            "          11       0.86      0.93      0.89       754\n",
            "          12       0.76      0.66      0.71       732\n",
            "          13       0.79      0.83      0.81       687\n",
            "          14       0.90      0.86      0.88       708\n",
            "          15       0.87      0.95      0.91       635\n",
            "          16       0.85      0.86      0.86       653\n",
            "          17       0.76      0.74      0.75       419\n",
            "          18       0.88      0.93      0.90       391\n",
            "          19       0.90      0.89      0.90       388\n",
            "          20       0.78      0.80      0.79       405\n",
            "          21       0.80      0.91      0.85       344\n",
            "          22       0.81      0.68      0.74       377\n",
            "          23       0.89      0.96      0.92       375\n",
            "          24       0.83      0.89      0.86       294\n",
            "          25       0.75      0.71      0.73       284\n",
            "          26       0.60      0.37      0.46       239\n",
            "          27       0.90      0.84      0.86       256\n",
            "          28       0.91      0.94      0.92       226\n",
            "          29       0.76      0.88      0.82       217\n",
            "          30       0.92      0.94      0.93       236\n",
            "          31       0.88      0.93      0.90       217\n",
            "          32       0.78      0.67      0.72       196\n",
            "          33       0.77      0.77      0.77       207\n",
            "          34       0.91      0.98      0.94       184\n",
            "          35       0.86      0.79      0.82       173\n",
            "          36       0.91      0.92      0.91       146\n",
            "          37       0.79      0.83      0.81       130\n",
            "          38       0.60      0.42      0.50       113\n",
            "          39       0.86      0.83      0.84       105\n",
            "          40       0.69      0.52      0.60       128\n",
            "          41       0.65      0.53      0.59        92\n",
            "          42       0.91      0.95      0.93       111\n",
            "          43       0.85      0.77      0.81       116\n",
            "          44       0.84      0.95      0.89        82\n",
            "          45       0.77      0.71      0.74       103\n",
            "          46       0.61      0.47      0.53        89\n",
            "          47       0.63      0.52      0.57       100\n",
            "          48       0.77      0.85      0.81        81\n",
            "          49       0.81      0.74      0.78        82\n",
            "          50       0.57      0.27      0.37        77\n",
            "          51       0.72      0.64      0.68        76\n",
            "          52       0.84      0.79      0.82        53\n",
            "          53       0.46      0.58      0.52        53\n",
            "          54       0.74      0.73      0.74        48\n",
            "          55       0.76      0.75      0.75        59\n",
            "          56       0.86      0.91      0.88        53\n",
            "          57       0.97      0.76      0.85        38\n",
            "          58       0.82      0.89      0.85        53\n",
            "          59       0.88      0.90      0.89        39\n",
            "          60       0.87      0.87      0.87        39\n",
            "          61       0.74      0.52      0.61        50\n",
            "          62       0.68      0.87      0.76        31\n",
            "          63       0.67      0.43      0.52        28\n",
            "          64       0.88      0.78      0.82        18\n",
            "          65       0.68      0.79      0.73        19\n",
            "          66       0.88      0.88      0.88         8\n",
            "          67       0.33      0.08      0.12        13\n",
            "          68       0.50      0.09      0.15        11\n",
            "          69       0.75      0.38      0.50         8\n",
            "          70       0.00      0.00      0.00         3\n",
            "\n",
            "    accuracy                           0.79     27881\n",
            "   macro avg       0.77      0.74      0.75     27881\n",
            "weighted avg       0.78      0.79      0.78     27881\n",
            "\n"
          ],
          "name": "stdout"
        }
      ]
    },
    {
      "cell_type": "markdown",
      "metadata": {
        "id": "YwMEKpmjZaM5",
        "colab_type": "text"
      },
      "source": [
        "**Final model**"
      ]
    },
    {
      "cell_type": "code",
      "metadata": {
        "id": "EGtCneJwiCzu",
        "colab_type": "code",
        "outputId": "bfb7ded9-e9c4-415a-9a02-ac06f661eec6",
        "colab": {
          "base_uri": "https://localhost:8080/",
          "height": 85
        }
      },
      "source": [
        "model.fit(X, y.values.ravel())"
      ],
      "execution_count": 35,
      "outputs": [
        {
          "output_type": "execute_result",
          "data": {
            "text/plain": [
              "LinearSVC(C=1.0, class_weight=None, dual=False, fit_intercept=False,\n",
              "          intercept_scaling=1, loss='squared_hinge', max_iter=1000,\n",
              "          multi_class='ovr', penalty='l2', random_state=None, tol=0.0001,\n",
              "          verbose=0)"
            ]
          },
          "metadata": {
            "tags": []
          },
          "execution_count": 35
        }
      ]
    },
    {
      "cell_type": "code",
      "metadata": {
        "id": "TeETONg9ilGb",
        "colab_type": "code",
        "outputId": "db7d9329-bd5d-42a4-f9ac-22235e6abc99",
        "colab": {
          "base_uri": "https://localhost:8080/",
          "height": 204
        }
      },
      "source": [
        "# c = sc_y.inverse_transform(model.predict(X_test_final))\n",
        "y_predicted = model.predict(X_test_final)\n",
        "y_predicted = pd.DataFrame({'PredictItem_ID':y_predicted})\n",
        "y_predicted.head()"
      ],
      "execution_count": 36,
      "outputs": [
        {
          "output_type": "execute_result",
          "data": {
            "text/html": [
              "<div>\n",
              "<style scoped>\n",
              "    .dataframe tbody tr th:only-of-type {\n",
              "        vertical-align: middle;\n",
              "    }\n",
              "\n",
              "    .dataframe tbody tr th {\n",
              "        vertical-align: top;\n",
              "    }\n",
              "\n",
              "    .dataframe thead th {\n",
              "        text-align: right;\n",
              "    }\n",
              "</style>\n",
              "<table border=\"1\" class=\"dataframe\">\n",
              "  <thead>\n",
              "    <tr style=\"text-align: right;\">\n",
              "      <th></th>\n",
              "      <th>PredictItem_ID</th>\n",
              "    </tr>\n",
              "  </thead>\n",
              "  <tbody>\n",
              "    <tr>\n",
              "      <th>0</th>\n",
              "      <td>3</td>\n",
              "    </tr>\n",
              "    <tr>\n",
              "      <th>1</th>\n",
              "      <td>2</td>\n",
              "    </tr>\n",
              "    <tr>\n",
              "      <th>2</th>\n",
              "      <td>7</td>\n",
              "    </tr>\n",
              "    <tr>\n",
              "      <th>3</th>\n",
              "      <td>1</td>\n",
              "    </tr>\n",
              "    <tr>\n",
              "      <th>4</th>\n",
              "      <td>32</td>\n",
              "    </tr>\n",
              "  </tbody>\n",
              "</table>\n",
              "</div>"
            ],
            "text/plain": [
              "   PredictItem_ID\n",
              "0               3\n",
              "1               2\n",
              "2               7\n",
              "3               1\n",
              "4              32"
            ]
          },
          "metadata": {
            "tags": []
          },
          "execution_count": 36
        }
      ]
    },
    {
      "cell_type": "code",
      "metadata": {
        "id": "1WKrh8dXjp0O",
        "colab_type": "code",
        "outputId": "7d623e1e-f32f-4eb8-d52b-1fb9cea64e2c",
        "colab": {
          "base_uri": "https://localhost:8080/",
          "height": 204
        }
      },
      "source": [
        "mapping = dict(y_unique[['New_ID','index']].values)\n",
        "y_predicted['ItemCategory_New'] = y_predicted.PredictItem_ID.map(mapping)\n",
        "y_predicted.head()"
      ],
      "execution_count": 37,
      "outputs": [
        {
          "output_type": "execute_result",
          "data": {
            "text/html": [
              "<div>\n",
              "<style scoped>\n",
              "    .dataframe tbody tr th:only-of-type {\n",
              "        vertical-align: middle;\n",
              "    }\n",
              "\n",
              "    .dataframe tbody tr th {\n",
              "        vertical-align: top;\n",
              "    }\n",
              "\n",
              "    .dataframe thead th {\n",
              "        text-align: right;\n",
              "    }\n",
              "</style>\n",
              "<table border=\"1\" class=\"dataframe\">\n",
              "  <thead>\n",
              "    <tr style=\"text-align: right;\">\n",
              "      <th></th>\n",
              "      <th>PredictItem_ID</th>\n",
              "      <th>ItemCategory_New</th>\n",
              "    </tr>\n",
              "  </thead>\n",
              "  <tbody>\n",
              "    <tr>\n",
              "      <th>0</th>\n",
              "      <td>3</td>\n",
              "      <td>consultation fee</td>\n",
              "    </tr>\n",
              "    <tr>\n",
              "      <th>1</th>\n",
              "      <td>2</td>\n",
              "      <td>blood test</td>\n",
              "    </tr>\n",
              "    <tr>\n",
              "      <th>2</th>\n",
              "      <td>7</td>\n",
              "      <td>anti-biotic tablets</td>\n",
              "    </tr>\n",
              "    <tr>\n",
              "      <th>3</th>\n",
              "      <td>1</td>\n",
              "      <td>physiotherapy</td>\n",
              "    </tr>\n",
              "    <tr>\n",
              "      <th>4</th>\n",
              "      <td>32</td>\n",
              "      <td>supplements</td>\n",
              "    </tr>\n",
              "  </tbody>\n",
              "</table>\n",
              "</div>"
            ],
            "text/plain": [
              "   PredictItem_ID     ItemCategory_New\n",
              "0               3     consultation fee\n",
              "1               2           blood test\n",
              "2               7  anti-biotic tablets\n",
              "3               1        physiotherapy\n",
              "4              32          supplements"
            ]
          },
          "metadata": {
            "tags": []
          },
          "execution_count": 37
        }
      ]
    },
    {
      "cell_type": "code",
      "metadata": {
        "id": "pvrImvEFlwG5",
        "colab_type": "code",
        "outputId": "b2e878d8-7d9b-4171-a37d-85444c87227b",
        "colab": {
          "base_uri": "https://localhost:8080/",
          "height": 136
        }
      },
      "source": [
        "y_predicted = np.array(y_predicted.drop('PredictItem_ID', axis=1))\n",
        "y_predicted"
      ],
      "execution_count": 38,
      "outputs": [
        {
          "output_type": "execute_result",
          "data": {
            "text/plain": [
              "array([['consultation fee'],\n",
              "       ['blood test'],\n",
              "       ['anti-biotic tablets'],\n",
              "       ...,\n",
              "       ['consultation fee'],\n",
              "       ['x-rays'],\n",
              "       ['consultation fee']], dtype=object)"
            ]
          },
          "metadata": {
            "tags": []
          },
          "execution_count": 38
        }
      ]
    },
    {
      "cell_type": "markdown",
      "metadata": {
        "id": "rbOykBnf7ifd",
        "colab_type": "text"
      },
      "source": [
        "# Submit"
      ]
    },
    {
      "cell_type": "code",
      "metadata": {
        "id": "Eh8rrUSDivFC",
        "colab_type": "code",
        "colab": {}
      },
      "source": [
        "submission = pd.DataFrame({'ID' : np.array(test_ID),'ItemCategory_New' : y_predicted.ravel()})"
      ],
      "execution_count": 0,
      "outputs": []
    },
    {
      "cell_type": "code",
      "metadata": {
        "id": "6DkC01BVi5aU",
        "colab_type": "code",
        "outputId": "20519f7f-3c26-4638-99cd-e5da8425bc62",
        "colab": {
          "base_uri": "https://localhost:8080/",
          "height": 204
        }
      },
      "source": [
        "submission.head()"
      ],
      "execution_count": 40,
      "outputs": [
        {
          "output_type": "execute_result",
          "data": {
            "text/html": [
              "<div>\n",
              "<style scoped>\n",
              "    .dataframe tbody tr th:only-of-type {\n",
              "        vertical-align: middle;\n",
              "    }\n",
              "\n",
              "    .dataframe tbody tr th {\n",
              "        vertical-align: top;\n",
              "    }\n",
              "\n",
              "    .dataframe thead th {\n",
              "        text-align: right;\n",
              "    }\n",
              "</style>\n",
              "<table border=\"1\" class=\"dataframe\">\n",
              "  <thead>\n",
              "    <tr style=\"text-align: right;\">\n",
              "      <th></th>\n",
              "      <th>ID</th>\n",
              "      <th>ItemCategory_New</th>\n",
              "    </tr>\n",
              "  </thead>\n",
              "  <tbody>\n",
              "    <tr>\n",
              "      <th>0</th>\n",
              "      <td>84485</td>\n",
              "      <td>consultation fee</td>\n",
              "    </tr>\n",
              "    <tr>\n",
              "      <th>1</th>\n",
              "      <td>84486</td>\n",
              "      <td>blood test</td>\n",
              "    </tr>\n",
              "    <tr>\n",
              "      <th>2</th>\n",
              "      <td>84487</td>\n",
              "      <td>anti-biotic tablets</td>\n",
              "    </tr>\n",
              "    <tr>\n",
              "      <th>3</th>\n",
              "      <td>84488</td>\n",
              "      <td>physiotherapy</td>\n",
              "    </tr>\n",
              "    <tr>\n",
              "      <th>4</th>\n",
              "      <td>84489</td>\n",
              "      <td>supplements</td>\n",
              "    </tr>\n",
              "  </tbody>\n",
              "</table>\n",
              "</div>"
            ],
            "text/plain": [
              "      ID     ItemCategory_New\n",
              "0  84485     consultation fee\n",
              "1  84486           blood test\n",
              "2  84487  anti-biotic tablets\n",
              "3  84488        physiotherapy\n",
              "4  84489          supplements"
            ]
          },
          "metadata": {
            "tags": []
          },
          "execution_count": 40
        }
      ]
    },
    {
      "cell_type": "code",
      "metadata": {
        "id": "62q8RRcci8xp",
        "colab_type": "code",
        "colab": {}
      },
      "source": [
        "submission.to_csv(\"gdrive/My Drive/Colab Notebooks/Kaggle/edsa-holiday-challenge/new_submission.csv\", index=False)"
      ],
      "execution_count": 0,
      "outputs": []
    }
  ]
}